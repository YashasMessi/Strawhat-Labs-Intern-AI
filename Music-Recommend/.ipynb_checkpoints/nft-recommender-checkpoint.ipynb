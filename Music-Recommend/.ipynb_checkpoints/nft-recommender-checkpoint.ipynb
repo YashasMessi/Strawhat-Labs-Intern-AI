{
 "cells": [
  {
   "cell_type": "code",
   "execution_count": 1,
   "metadata": {
    "execution": {
     "iopub.execute_input": "2022-10-06T06:13:34.251693Z",
     "iopub.status.busy": "2022-10-06T06:13:34.251288Z",
     "iopub.status.idle": "2022-10-06T06:13:34.258266Z",
     "shell.execute_reply": "2022-10-06T06:13:34.257117Z",
     "shell.execute_reply.started": "2022-10-06T06:13:34.251661Z"
    }
   },
   "outputs": [],
   "source": [
    "import pandas as pd\n",
    "import numpy as np\n",
    "import seaborn as sns\n",
    "import plotly.express as px\n",
    "import plotly.graph_objects as go\n",
    "import matplotlib.pyplot as plt\n",
    "import plotly\n",
    "from sklearn.preprocessing import StandardScaler\n",
    "from scipy.spatial import distance\n",
    "import copy"
   ]
  },
  {
   "cell_type": "code",
   "execution_count": 2,
   "metadata": {
    "execution": {
     "iopub.execute_input": "2022-10-06T06:13:34.260883Z",
     "iopub.status.busy": "2022-10-06T06:13:34.260248Z",
     "iopub.status.idle": "2022-10-06T06:13:34.305411Z",
     "shell.execute_reply": "2022-10-06T06:13:34.304144Z",
     "shell.execute_reply.started": "2022-10-06T06:13:34.260849Z"
    }
   },
   "outputs": [],
   "source": [
    "df=pd.read_csv(\"nftmusic_blockbeats_solana.csv\")"
   ]
  },
  {
   "cell_type": "code",
   "execution_count": 3,
   "metadata": {
    "execution": {
     "iopub.execute_input": "2022-10-06T06:13:34.307516Z",
     "iopub.status.busy": "2022-10-06T06:13:34.307077Z",
     "iopub.status.idle": "2022-10-06T06:13:34.328422Z",
     "shell.execute_reply": "2022-10-06T06:13:34.327356Z",
     "shell.execute_reply.started": "2022-10-06T06:13:34.307472Z"
    }
   },
   "outputs": [
    {
     "data": {
      "text/html": [
       "<div>\n",
       "<style scoped>\n",
       "    .dataframe tbody tr th:only-of-type {\n",
       "        vertical-align: middle;\n",
       "    }\n",
       "\n",
       "    .dataframe tbody tr th {\n",
       "        vertical-align: top;\n",
       "    }\n",
       "\n",
       "    .dataframe thead th {\n",
       "        text-align: right;\n",
       "    }\n",
       "</style>\n",
       "<table border=\"1\" class=\"dataframe\">\n",
       "  <thead>\n",
       "    <tr style=\"text-align: right;\">\n",
       "      <th></th>\n",
       "      <th>nft_id</th>\n",
       "      <th>contract_address</th>\n",
       "      <th>description</th>\n",
       "      <th>name</th>\n",
       "      <th>image_url</th>\n",
       "      <th>attributes</th>\n",
       "      <th>transfer_activity</th>\n",
       "      <th>Track</th>\n",
       "      <th>Music</th>\n",
       "      <th>production</th>\n",
       "      <th>Duration</th>\n",
       "      <th>audiolicense</th>\n",
       "      <th>series</th>\n",
       "      <th>Total_supply</th>\n",
       "    </tr>\n",
       "  </thead>\n",
       "  <tbody>\n",
       "    <tr>\n",
       "      <th>0</th>\n",
       "      <td>solana.14sWq4NtZoYWxBNwELLnQSqSy5Tw2M3E2CMfzma...</td>\n",
       "      <td>14sWq4NtZoYWxBNwELLnQSqSy5Tw2M3E2CMfzmaJKJQy</td>\n",
       "      <td>The original Blockbeats Volume 1 metatracks.</td>\n",
       "      <td>Solana Days #005</td>\n",
       "      <td>https://cdn.simplehash.com/assets/9bab67cdf597...</td>\n",
       "      <td>[{'trait_type': 'Track', 'value': 'Solana Days...</td>\n",
       "      <td>3</td>\n",
       "      <td>Solana Days</td>\n",
       "      <td>Scott Manson</td>\n",
       "      <td>Blockbeats</td>\n",
       "      <td>2:45</td>\n",
       "      <td>Universal</td>\n",
       "      <td>Volume 1</td>\n",
       "      <td>420</td>\n",
       "    </tr>\n",
       "    <tr>\n",
       "      <th>1</th>\n",
       "      <td>solana.1W4E3SE9LzwwCx7wt3vs4zw6t1NrwK71QSrCqdt...</td>\n",
       "      <td>1W4E3SE9LzwwCx7wt3vs4zw6t1NrwK71QSrCqdta5Pv</td>\n",
       "      <td>The original Blockbeats Volume 1 metatracks.</td>\n",
       "      <td>Solana Days #357</td>\n",
       "      <td>https://cdn.simplehash.com/assets/9bab67cdf597...</td>\n",
       "      <td>[{'trait_type': 'Track', 'value': 'Solana Days...</td>\n",
       "      <td>10</td>\n",
       "      <td>Solana Days</td>\n",
       "      <td>Scott Manson</td>\n",
       "      <td>Blockbeats</td>\n",
       "      <td>2:45</td>\n",
       "      <td>Universal</td>\n",
       "      <td>Volume 1</td>\n",
       "      <td>420</td>\n",
       "    </tr>\n",
       "    <tr>\n",
       "      <th>2</th>\n",
       "      <td>solana.22mi9UbCBi2zry125EEabpLyWYkDzsAF7Y6bgkU...</td>\n",
       "      <td>22mi9UbCBi2zry125EEabpLyWYkDzsAF7Y6bgkUnwCkm</td>\n",
       "      <td>The original Blockbeats Volume 1 metatracks.</td>\n",
       "      <td>Solana Days #160</td>\n",
       "      <td>https://cdn.simplehash.com/assets/9bab67cdf597...</td>\n",
       "      <td>[{'trait_type': 'Track', 'value': 'Solana Days...</td>\n",
       "      <td>1</td>\n",
       "      <td>Solana Days</td>\n",
       "      <td>Scott Manson</td>\n",
       "      <td>Blockbeats</td>\n",
       "      <td>2:45</td>\n",
       "      <td>Universal</td>\n",
       "      <td>Volume 1</td>\n",
       "      <td>420</td>\n",
       "    </tr>\n",
       "    <tr>\n",
       "      <th>3</th>\n",
       "      <td>solana.24tFtT7PdQKY2G7pEmD5oCmCbVzUntZudbLzkCH...</td>\n",
       "      <td>24tFtT7PdQKY2G7pEmD5oCmCbVzUntZudbLzkCH4kDob</td>\n",
       "      <td>The original Blockbeats Volume 1 metatracks.</td>\n",
       "      <td>Solana Days #217</td>\n",
       "      <td>https://cdn.simplehash.com/assets/9bab67cdf597...</td>\n",
       "      <td>[{'trait_type': 'Track', 'value': 'Solana Days...</td>\n",
       "      <td>2</td>\n",
       "      <td>Solana Days</td>\n",
       "      <td>Scott Manson</td>\n",
       "      <td>Blockbeats</td>\n",
       "      <td>2:45</td>\n",
       "      <td>Universal</td>\n",
       "      <td>Volume 1</td>\n",
       "      <td>420</td>\n",
       "    </tr>\n",
       "    <tr>\n",
       "      <th>4</th>\n",
       "      <td>solana.28fDVugFLz9UUeAzpi7zSAvRaf27Wj3MiRkSV21...</td>\n",
       "      <td>28fDVugFLz9UUeAzpi7zSAvRaf27Wj3MiRkSV21Zh3iG</td>\n",
       "      <td>The original Blockbeats Volume 1 metatracks.</td>\n",
       "      <td>Solana Days #212</td>\n",
       "      <td>https://cdn.simplehash.com/assets/9bab67cdf597...</td>\n",
       "      <td>[{'trait_type': 'Track', 'value': 'Solana Days...</td>\n",
       "      <td>1</td>\n",
       "      <td>Solana Days</td>\n",
       "      <td>Scott Manson</td>\n",
       "      <td>Blockbeats</td>\n",
       "      <td>2:45</td>\n",
       "      <td>Universal</td>\n",
       "      <td>Volume 1</td>\n",
       "      <td>420</td>\n",
       "    </tr>\n",
       "  </tbody>\n",
       "</table>\n",
       "</div>"
      ],
      "text/plain": [
       "                                              nft_id  \\\n",
       "0  solana.14sWq4NtZoYWxBNwELLnQSqSy5Tw2M3E2CMfzma...   \n",
       "1  solana.1W4E3SE9LzwwCx7wt3vs4zw6t1NrwK71QSrCqdt...   \n",
       "2  solana.22mi9UbCBi2zry125EEabpLyWYkDzsAF7Y6bgkU...   \n",
       "3  solana.24tFtT7PdQKY2G7pEmD5oCmCbVzUntZudbLzkCH...   \n",
       "4  solana.28fDVugFLz9UUeAzpi7zSAvRaf27Wj3MiRkSV21...   \n",
       "\n",
       "                               contract_address  \\\n",
       "0  14sWq4NtZoYWxBNwELLnQSqSy5Tw2M3E2CMfzmaJKJQy   \n",
       "1   1W4E3SE9LzwwCx7wt3vs4zw6t1NrwK71QSrCqdta5Pv   \n",
       "2  22mi9UbCBi2zry125EEabpLyWYkDzsAF7Y6bgkUnwCkm   \n",
       "3  24tFtT7PdQKY2G7pEmD5oCmCbVzUntZudbLzkCH4kDob   \n",
       "4  28fDVugFLz9UUeAzpi7zSAvRaf27Wj3MiRkSV21Zh3iG   \n",
       "\n",
       "                                    description              name  \\\n",
       "0  The original Blockbeats Volume 1 metatracks.  Solana Days #005   \n",
       "1  The original Blockbeats Volume 1 metatracks.  Solana Days #357   \n",
       "2  The original Blockbeats Volume 1 metatracks.  Solana Days #160   \n",
       "3  The original Blockbeats Volume 1 metatracks.  Solana Days #217   \n",
       "4  The original Blockbeats Volume 1 metatracks.  Solana Days #212   \n",
       "\n",
       "                                           image_url  \\\n",
       "0  https://cdn.simplehash.com/assets/9bab67cdf597...   \n",
       "1  https://cdn.simplehash.com/assets/9bab67cdf597...   \n",
       "2  https://cdn.simplehash.com/assets/9bab67cdf597...   \n",
       "3  https://cdn.simplehash.com/assets/9bab67cdf597...   \n",
       "4  https://cdn.simplehash.com/assets/9bab67cdf597...   \n",
       "\n",
       "                                          attributes  transfer_activity  \\\n",
       "0  [{'trait_type': 'Track', 'value': 'Solana Days...                  3   \n",
       "1  [{'trait_type': 'Track', 'value': 'Solana Days...                 10   \n",
       "2  [{'trait_type': 'Track', 'value': 'Solana Days...                  1   \n",
       "3  [{'trait_type': 'Track', 'value': 'Solana Days...                  2   \n",
       "4  [{'trait_type': 'Track', 'value': 'Solana Days...                  1   \n",
       "\n",
       "         Track         Music  production Duration audiolicense    series  \\\n",
       "0  Solana Days  Scott Manson  Blockbeats     2:45    Universal  Volume 1   \n",
       "1  Solana Days  Scott Manson  Blockbeats     2:45    Universal  Volume 1   \n",
       "2  Solana Days  Scott Manson  Blockbeats     2:45    Universal  Volume 1   \n",
       "3  Solana Days  Scott Manson  Blockbeats     2:45    Universal  Volume 1   \n",
       "4  Solana Days  Scott Manson  Blockbeats     2:45    Universal  Volume 1   \n",
       "\n",
       "   Total_supply  \n",
       "0           420  \n",
       "1           420  \n",
       "2           420  \n",
       "3           420  \n",
       "4           420  "
      ]
     },
     "execution_count": 3,
     "metadata": {},
     "output_type": "execute_result"
    }
   ],
   "source": [
    "df.head()"
   ]
  },
  {
   "cell_type": "code",
   "execution_count": 4,
   "metadata": {
    "execution": {
     "iopub.execute_input": "2022-10-06T06:13:34.331328Z",
     "iopub.status.busy": "2022-10-06T06:13:34.330756Z",
     "iopub.status.idle": "2022-10-06T06:13:34.339267Z",
     "shell.execute_reply": "2022-10-06T06:13:34.338125Z",
     "shell.execute_reply.started": "2022-10-06T06:13:34.331285Z"
    }
   },
   "outputs": [
    {
     "data": {
      "text/plain": [
       "Index(['nft_id', 'contract_address', 'description', 'name', 'image_url',\n",
       "       'attributes', 'transfer_activity', 'Track', 'Music', 'production',\n",
       "       'Duration', 'audiolicense', 'series', 'Total_supply'],\n",
       "      dtype='object')"
      ]
     },
     "execution_count": 4,
     "metadata": {},
     "output_type": "execute_result"
    }
   ],
   "source": [
    "df.columns"
   ]
  },
  {
   "cell_type": "code",
   "execution_count": 5,
   "metadata": {
    "execution": {
     "iopub.execute_input": "2022-10-06T06:13:34.341225Z",
     "iopub.status.busy": "2022-10-06T06:13:34.340660Z",
     "iopub.status.idle": "2022-10-06T06:13:34.350668Z",
     "shell.execute_reply": "2022-10-06T06:13:34.349416Z",
     "shell.execute_reply.started": "2022-10-06T06:13:34.341183Z"
    }
   },
   "outputs": [],
   "source": [
    "dic={}\n",
    "for c in df.columns:\n",
    "    dic[c]=len([*set(df[c].values)])\n"
   ]
  },
  {
   "cell_type": "code",
   "execution_count": 6,
   "metadata": {
    "execution": {
     "iopub.execute_input": "2022-10-06T06:13:34.353036Z",
     "iopub.status.busy": "2022-10-06T06:13:34.352147Z",
     "iopub.status.idle": "2022-10-06T06:13:34.365129Z",
     "shell.execute_reply": "2022-10-06T06:13:34.363779Z",
     "shell.execute_reply.started": "2022-10-06T06:13:34.353001Z"
    }
   },
   "outputs": [
    {
     "data": {
      "text/plain": [
       "{'nft_id': 1147,\n",
       " 'contract_address': 1147,\n",
       " 'description': 1,\n",
       " 'name': 1147,\n",
       " 'image_url': 12,\n",
       " 'attributes': 12,\n",
       " 'transfer_activity': 19,\n",
       " 'Track': 12,\n",
       " 'Music': 8,\n",
       " 'production': 1,\n",
       " 'Duration': 12,\n",
       " 'audiolicense': 1,\n",
       " 'series': 1,\n",
       " 'Total_supply': 1}"
      ]
     },
     "execution_count": 6,
     "metadata": {},
     "output_type": "execute_result"
    }
   ],
   "source": [
    "dic"
   ]
  },
  {
   "cell_type": "code",
   "execution_count": 7,
   "metadata": {
    "execution": {
     "iopub.execute_input": "2022-10-06T06:13:34.367093Z",
     "iopub.status.busy": "2022-10-06T06:13:34.366339Z",
     "iopub.status.idle": "2022-10-06T06:13:34.387772Z",
     "shell.execute_reply": "2022-10-06T06:13:34.386725Z",
     "shell.execute_reply.started": "2022-10-06T06:13:34.367034Z"
    }
   },
   "outputs": [
    {
     "data": {
      "text/html": [
       "<div>\n",
       "<style scoped>\n",
       "    .dataframe tbody tr th:only-of-type {\n",
       "        vertical-align: middle;\n",
       "    }\n",
       "\n",
       "    .dataframe tbody tr th {\n",
       "        vertical-align: top;\n",
       "    }\n",
       "\n",
       "    .dataframe thead th {\n",
       "        text-align: right;\n",
       "    }\n",
       "</style>\n",
       "<table border=\"1\" class=\"dataframe\">\n",
       "  <thead>\n",
       "    <tr style=\"text-align: right;\">\n",
       "      <th></th>\n",
       "      <th>transfer_activity</th>\n",
       "      <th>Total_supply</th>\n",
       "    </tr>\n",
       "  </thead>\n",
       "  <tbody>\n",
       "    <tr>\n",
       "      <th>count</th>\n",
       "      <td>1147.000000</td>\n",
       "      <td>1147.0</td>\n",
       "    </tr>\n",
       "    <tr>\n",
       "      <th>mean</th>\n",
       "      <td>2.492589</td>\n",
       "      <td>420.0</td>\n",
       "    </tr>\n",
       "    <tr>\n",
       "      <th>std</th>\n",
       "      <td>2.257562</td>\n",
       "      <td>0.0</td>\n",
       "    </tr>\n",
       "    <tr>\n",
       "      <th>min</th>\n",
       "      <td>1.000000</td>\n",
       "      <td>420.0</td>\n",
       "    </tr>\n",
       "    <tr>\n",
       "      <th>25%</th>\n",
       "      <td>1.000000</td>\n",
       "      <td>420.0</td>\n",
       "    </tr>\n",
       "    <tr>\n",
       "      <th>50%</th>\n",
       "      <td>2.000000</td>\n",
       "      <td>420.0</td>\n",
       "    </tr>\n",
       "    <tr>\n",
       "      <th>75%</th>\n",
       "      <td>3.000000</td>\n",
       "      <td>420.0</td>\n",
       "    </tr>\n",
       "    <tr>\n",
       "      <th>max</th>\n",
       "      <td>26.000000</td>\n",
       "      <td>420.0</td>\n",
       "    </tr>\n",
       "  </tbody>\n",
       "</table>\n",
       "</div>"
      ],
      "text/plain": [
       "       transfer_activity  Total_supply\n",
       "count        1147.000000        1147.0\n",
       "mean            2.492589         420.0\n",
       "std             2.257562           0.0\n",
       "min             1.000000         420.0\n",
       "25%             1.000000         420.0\n",
       "50%             2.000000         420.0\n",
       "75%             3.000000         420.0\n",
       "max            26.000000         420.0"
      ]
     },
     "execution_count": 7,
     "metadata": {},
     "output_type": "execute_result"
    }
   ],
   "source": [
    "df.describe()"
   ]
  },
  {
   "cell_type": "code",
   "execution_count": 8,
   "metadata": {
    "execution": {
     "iopub.execute_input": "2022-10-06T06:13:34.389693Z",
     "iopub.status.busy": "2022-10-06T06:13:34.389371Z",
     "iopub.status.idle": "2022-10-06T06:13:34.395882Z",
     "shell.execute_reply": "2022-10-06T06:13:34.394971Z",
     "shell.execute_reply.started": "2022-10-06T06:13:34.389666Z"
    }
   },
   "outputs": [],
   "source": [
    "sns.set(style=\"ticks\", context=\"talk\")\n",
    "plt.style.use(\"dark_background\")"
   ]
  },
  {
   "cell_type": "code",
   "execution_count": 9,
   "metadata": {
    "execution": {
     "iopub.execute_input": "2022-10-06T06:13:34.398953Z",
     "iopub.status.busy": "2022-10-06T06:13:34.398591Z",
     "iopub.status.idle": "2022-10-06T06:13:34.688457Z",
     "shell.execute_reply": "2022-10-06T06:13:34.687272Z",
     "shell.execute_reply.started": "2022-10-06T06:13:34.398923Z"
    }
   },
   "outputs": [
    {
     "data": {
      "text/plain": [
       "<seaborn.axisgrid.PairGrid at 0x1a9fe8d3790>"
      ]
     },
     "execution_count": 9,
     "metadata": {},
     "output_type": "execute_result"
    },
    {
     "data": {
      "image/png": "[encoded data removed]",
      "text/plain": [
       "<Figure size 407.458x250 with 2 Axes>"
      ]
     },
     "metadata": {},
     "output_type": "display_data"
    }
   ],
   "source": [
    "sns.pairplot(df,corner=True,hue='Total_supply')"
   ]
  },
  {
   "cell_type": "code",
   "execution_count": 18,
   "metadata": {
    "execution": {
     "iopub.execute_input": "2022-10-06T06:13:34.690950Z",
     "iopub.status.busy": "2022-10-06T06:13:34.690243Z",
     "iopub.status.idle": "2022-10-06T06:13:34.718099Z",
     "shell.execute_reply": "2022-10-06T06:13:34.716960Z",
     "shell.execute_reply.started": "2022-10-06T06:13:34.690908Z"
    }
   },
   "outputs": [],
   "source": [
    "df2=pd.read_csv(\"nftmusic_blockbeats_solana.csv\")"
   ]
  },
  {
   "cell_type": "code",
   "execution_count": 19,
   "metadata": {
    "execution": {
     "iopub.execute_input": "2022-10-06T06:13:34.719800Z",
     "iopub.status.busy": "2022-10-06T06:13:34.719451Z",
     "iopub.status.idle": "2022-10-06T06:13:34.726312Z",
     "shell.execute_reply": "2022-10-06T06:13:34.725110Z",
     "shell.execute_reply.started": "2022-10-06T06:13:34.719769Z"
    }
   },
   "outputs": [],
   "source": [
    "df.drop(columns=['nft_id','contract_address','attributes','production','audiolicense','series','Total_supply'],inplace=True)"
   ]
  },
  {
   "cell_type": "code",
   "execution_count": 20,
   "metadata": {
    "execution": {
     "iopub.execute_input": "2022-10-06T06:13:34.730306Z",
     "iopub.status.busy": "2022-10-06T06:13:34.729633Z",
     "iopub.status.idle": "2022-10-06T06:13:34.739457Z",
     "shell.execute_reply": "2022-10-06T06:13:34.738447Z",
     "shell.execute_reply.started": "2022-10-06T06:13:34.730262Z"
    }
   },
   "outputs": [],
   "source": [
    "df.drop(columns=['description'],inplace=True)"
   ]
  },
  {
   "cell_type": "markdown",
   "metadata": {},
   "source": []
  },
  {
   "cell_type": "code",
   "execution_count": 26,
   "metadata": {
    "execution": {
     "iopub.execute_input": "2022-10-06T06:13:34.741191Z",
     "iopub.status.busy": "2022-10-06T06:13:34.740787Z",
     "iopub.status.idle": "2022-10-06T06:13:34.753276Z",
     "shell.execute_reply": "2022-10-06T06:13:34.752450Z",
     "shell.execute_reply.started": "2022-10-06T06:13:34.741163Z"
    },
    "scrolled": true
   },
   "outputs": [
    {
     "ename": "KeyError",
     "evalue": "'Duration'",
     "output_type": "error",
     "traceback": [
      "\u001b[1;31m---------------------------------------------------------------------------\u001b[0m",
      "\u001b[1;31mKeyError\u001b[0m                                  Traceback (most recent call last)",
      "File \u001b[1;32mD:\\Strawhats\\Model\\project\\lib\\site-packages\\pandas\\core\\indexes\\base.py:3800\u001b[0m, in \u001b[0;36mIndex.get_loc\u001b[1;34m(self, key, method, tolerance)\u001b[0m\n\u001b[0;32m   3799\u001b[0m \u001b[38;5;28;01mtry\u001b[39;00m:\n\u001b[1;32m-> 3800\u001b[0m     \u001b[38;5;28;01mreturn\u001b[39;00m \u001b[38;5;28;43mself\u001b[39;49m\u001b[38;5;241;43m.\u001b[39;49m\u001b[43m_engine\u001b[49m\u001b[38;5;241;43m.\u001b[39;49m\u001b[43mget_loc\u001b[49m\u001b[43m(\u001b[49m\u001b[43mcasted_key\u001b[49m\u001b[43m)\u001b[49m\n\u001b[0;32m   3801\u001b[0m \u001b[38;5;28;01mexcept\u001b[39;00m \u001b[38;5;167;01mKeyError\u001b[39;00m \u001b[38;5;28;01mas\u001b[39;00m err:\n",
      "File \u001b[1;32mD:\\Strawhats\\Model\\project\\lib\\site-packages\\pandas\\_libs\\index.pyx:138\u001b[0m, in \u001b[0;36mpandas._libs.index.IndexEngine.get_loc\u001b[1;34m()\u001b[0m\n",
      "File \u001b[1;32mD:\\Strawhats\\Model\\project\\lib\\site-packages\\pandas\\_libs\\index.pyx:165\u001b[0m, in \u001b[0;36mpandas._libs.index.IndexEngine.get_loc\u001b[1;34m()\u001b[0m\n",
      "File \u001b[1;32mpandas\\_libs\\hashtable_class_helper.pxi:5745\u001b[0m, in \u001b[0;36mpandas._libs.hashtable.PyObjectHashTable.get_item\u001b[1;34m()\u001b[0m\n",
      "File \u001b[1;32mpandas\\_libs\\hashtable_class_helper.pxi:5753\u001b[0m, in \u001b[0;36mpandas._libs.hashtable.PyObjectHashTable.get_item\u001b[1;34m()\u001b[0m\n",
      "\u001b[1;31mKeyError\u001b[0m: 'Duration'",
      "\nThe above exception was the direct cause of the following exception:\n",
      "\u001b[1;31mKeyError\u001b[0m                                  Traceback (most recent call last)",
      "Cell \u001b[1;32mIn [26], line 1\u001b[0m\n\u001b[1;32m----> 1\u001b[0m t\u001b[38;5;241m=\u001b[39mdf[\u001b[38;5;124m'\u001b[39m\u001b[38;5;124mDuration\u001b[39m\u001b[38;5;124m'\u001b[39m][\u001b[38;5;241m0\u001b[39m]\n\u001b[0;32m      2\u001b[0m time\u001b[38;5;241m=\u001b[39m((\u001b[38;5;28mint\u001b[39m(t[\u001b[38;5;241m0\u001b[39m])\u001b[38;5;241m*\u001b[39m\u001b[38;5;241m60\u001b[39m)\u001b[38;5;241m+\u001b[39m(\u001b[38;5;28mint\u001b[39m(t[\u001b[38;5;241m2\u001b[39m])\u001b[38;5;241m*\u001b[39m\u001b[38;5;241m10\u001b[39m)\u001b[38;5;241m+\u001b[39m(\u001b[38;5;28mint\u001b[39m(t[\u001b[38;5;241m3\u001b[39m])\u001b[38;5;241m*\u001b[39m\u001b[38;5;241m1\u001b[39m))\n\u001b[0;32m      3\u001b[0m time\n",
      "File \u001b[1;32mD:\\Strawhats\\Model\\project\\lib\\site-packages\\pandas\\core\\frame.py:3805\u001b[0m, in \u001b[0;36mDataFrame.__getitem__\u001b[1;34m(self, key)\u001b[0m\n\u001b[0;32m   3803\u001b[0m \u001b[38;5;28;01mif\u001b[39;00m \u001b[38;5;28mself\u001b[39m\u001b[38;5;241m.\u001b[39mcolumns\u001b[38;5;241m.\u001b[39mnlevels \u001b[38;5;241m>\u001b[39m \u001b[38;5;241m1\u001b[39m:\n\u001b[0;32m   3804\u001b[0m     \u001b[38;5;28;01mreturn\u001b[39;00m \u001b[38;5;28mself\u001b[39m\u001b[38;5;241m.\u001b[39m_getitem_multilevel(key)\n\u001b[1;32m-> 3805\u001b[0m indexer \u001b[38;5;241m=\u001b[39m \u001b[38;5;28;43mself\u001b[39;49m\u001b[38;5;241;43m.\u001b[39;49m\u001b[43mcolumns\u001b[49m\u001b[38;5;241;43m.\u001b[39;49m\u001b[43mget_loc\u001b[49m\u001b[43m(\u001b[49m\u001b[43mkey\u001b[49m\u001b[43m)\u001b[49m\n\u001b[0;32m   3806\u001b[0m \u001b[38;5;28;01mif\u001b[39;00m is_integer(indexer):\n\u001b[0;32m   3807\u001b[0m     indexer \u001b[38;5;241m=\u001b[39m [indexer]\n",
      "File \u001b[1;32mD:\\Strawhats\\Model\\project\\lib\\site-packages\\pandas\\core\\indexes\\base.py:3802\u001b[0m, in \u001b[0;36mIndex.get_loc\u001b[1;34m(self, key, method, tolerance)\u001b[0m\n\u001b[0;32m   3800\u001b[0m     \u001b[38;5;28;01mreturn\u001b[39;00m \u001b[38;5;28mself\u001b[39m\u001b[38;5;241m.\u001b[39m_engine\u001b[38;5;241m.\u001b[39mget_loc(casted_key)\n\u001b[0;32m   3801\u001b[0m \u001b[38;5;28;01mexcept\u001b[39;00m \u001b[38;5;167;01mKeyError\u001b[39;00m \u001b[38;5;28;01mas\u001b[39;00m err:\n\u001b[1;32m-> 3802\u001b[0m     \u001b[38;5;28;01mraise\u001b[39;00m \u001b[38;5;167;01mKeyError\u001b[39;00m(key) \u001b[38;5;28;01mfrom\u001b[39;00m \u001b[38;5;21;01merr\u001b[39;00m\n\u001b[0;32m   3803\u001b[0m \u001b[38;5;28;01mexcept\u001b[39;00m \u001b[38;5;167;01mTypeError\u001b[39;00m:\n\u001b[0;32m   3804\u001b[0m     \u001b[38;5;66;03m# If we have a listlike key, _check_indexing_error will raise\u001b[39;00m\n\u001b[0;32m   3805\u001b[0m     \u001b[38;5;66;03m#  InvalidIndexError. Otherwise we fall through and re-raise\u001b[39;00m\n\u001b[0;32m   3806\u001b[0m     \u001b[38;5;66;03m#  the TypeError.\u001b[39;00m\n\u001b[0;32m   3807\u001b[0m     \u001b[38;5;28mself\u001b[39m\u001b[38;5;241m.\u001b[39m_check_indexing_error(key)\n",
      "\u001b[1;31mKeyError\u001b[0m: 'Duration'"
     ]
    }
   ],
   "source": [
    "t=df['Duration'][0]\n",
    "time=((int(t[0])*60)+(int(t[2])*10)+(int(t[3])*1))\n",
    "time"
   ]
  },
  {
   "cell_type": "code",
   "execution_count": 24,
   "metadata": {
    "execution": {
     "iopub.execute_input": "2022-10-06T06:13:34.754858Z",
     "iopub.status.busy": "2022-10-06T06:13:34.754281Z",
     "iopub.status.idle": "2022-10-06T06:13:34.772978Z",
     "shell.execute_reply": "2022-10-06T06:13:34.772048Z",
     "shell.execute_reply.started": "2022-10-06T06:13:34.754827Z"
    }
   },
   "outputs": [
    {
     "ename": "KeyError",
     "evalue": "'Duration'",
     "output_type": "error",
     "traceback": [
      "\u001b[1;31m---------------------------------------------------------------------------\u001b[0m",
      "\u001b[1;31mKeyError\u001b[0m                                  Traceback (most recent call last)",
      "File \u001b[1;32mD:\\Strawhats\\Model\\project\\lib\\site-packages\\pandas\\core\\indexes\\base.py:3800\u001b[0m, in \u001b[0;36mIndex.get_loc\u001b[1;34m(self, key, method, tolerance)\u001b[0m\n\u001b[0;32m   3799\u001b[0m \u001b[38;5;28;01mtry\u001b[39;00m:\n\u001b[1;32m-> 3800\u001b[0m     \u001b[38;5;28;01mreturn\u001b[39;00m \u001b[38;5;28;43mself\u001b[39;49m\u001b[38;5;241;43m.\u001b[39;49m\u001b[43m_engine\u001b[49m\u001b[38;5;241;43m.\u001b[39;49m\u001b[43mget_loc\u001b[49m\u001b[43m(\u001b[49m\u001b[43mcasted_key\u001b[49m\u001b[43m)\u001b[49m\n\u001b[0;32m   3801\u001b[0m \u001b[38;5;28;01mexcept\u001b[39;00m \u001b[38;5;167;01mKeyError\u001b[39;00m \u001b[38;5;28;01mas\u001b[39;00m err:\n",
      "File \u001b[1;32mD:\\Strawhats\\Model\\project\\lib\\site-packages\\pandas\\_libs\\index.pyx:138\u001b[0m, in \u001b[0;36mpandas._libs.index.IndexEngine.get_loc\u001b[1;34m()\u001b[0m\n",
      "File \u001b[1;32mD:\\Strawhats\\Model\\project\\lib\\site-packages\\pandas\\_libs\\index.pyx:165\u001b[0m, in \u001b[0;36mpandas._libs.index.IndexEngine.get_loc\u001b[1;34m()\u001b[0m\n",
      "File \u001b[1;32mpandas\\_libs\\hashtable_class_helper.pxi:5745\u001b[0m, in \u001b[0;36mpandas._libs.hashtable.PyObjectHashTable.get_item\u001b[1;34m()\u001b[0m\n",
      "File \u001b[1;32mpandas\\_libs\\hashtable_class_helper.pxi:5753\u001b[0m, in \u001b[0;36mpandas._libs.hashtable.PyObjectHashTable.get_item\u001b[1;34m()\u001b[0m\n",
      "\u001b[1;31mKeyError\u001b[0m: 'Duration'",
      "\nThe above exception was the direct cause of the following exception:\n",
      "\u001b[1;31mKeyError\u001b[0m                                  Traceback (most recent call last)",
      "Cell \u001b[1;32mIn [24], line 2\u001b[0m\n\u001b[0;32m      1\u001b[0m l\u001b[38;5;241m=\u001b[39m[]\n\u001b[1;32m----> 2\u001b[0m \u001b[38;5;28;01mfor\u001b[39;00m i \u001b[38;5;129;01min\u001b[39;00m \u001b[38;5;28mrange\u001b[39m(\u001b[38;5;28mlen\u001b[39m(df[\u001b[38;5;124m'\u001b[39m\u001b[38;5;124mDuration\u001b[39m\u001b[38;5;124m'\u001b[39m])):\n\u001b[0;32m      3\u001b[0m     t\u001b[38;5;241m=\u001b[39mdf[\u001b[38;5;124m'\u001b[39m\u001b[38;5;124mDuration\u001b[39m\u001b[38;5;124m'\u001b[39m][i]\n\u001b[0;32m      4\u001b[0m     time\u001b[38;5;241m=\u001b[39m((\u001b[38;5;28mint\u001b[39m(t[\u001b[38;5;241m0\u001b[39m])\u001b[38;5;241m*\u001b[39m\u001b[38;5;241m60\u001b[39m)\u001b[38;5;241m+\u001b[39m(\u001b[38;5;28mint\u001b[39m(t[\u001b[38;5;241m2\u001b[39m])\u001b[38;5;241m*\u001b[39m\u001b[38;5;241m10\u001b[39m)\u001b[38;5;241m+\u001b[39m(\u001b[38;5;28mint\u001b[39m(t[\u001b[38;5;241m3\u001b[39m])\u001b[38;5;241m*\u001b[39m\u001b[38;5;241m1\u001b[39m))\n",
      "File \u001b[1;32mD:\\Strawhats\\Model\\project\\lib\\site-packages\\pandas\\core\\frame.py:3805\u001b[0m, in \u001b[0;36mDataFrame.__getitem__\u001b[1;34m(self, key)\u001b[0m\n\u001b[0;32m   3803\u001b[0m \u001b[38;5;28;01mif\u001b[39;00m \u001b[38;5;28mself\u001b[39m\u001b[38;5;241m.\u001b[39mcolumns\u001b[38;5;241m.\u001b[39mnlevels \u001b[38;5;241m>\u001b[39m \u001b[38;5;241m1\u001b[39m:\n\u001b[0;32m   3804\u001b[0m     \u001b[38;5;28;01mreturn\u001b[39;00m \u001b[38;5;28mself\u001b[39m\u001b[38;5;241m.\u001b[39m_getitem_multilevel(key)\n\u001b[1;32m-> 3805\u001b[0m indexer \u001b[38;5;241m=\u001b[39m \u001b[38;5;28;43mself\u001b[39;49m\u001b[38;5;241;43m.\u001b[39;49m\u001b[43mcolumns\u001b[49m\u001b[38;5;241;43m.\u001b[39;49m\u001b[43mget_loc\u001b[49m\u001b[43m(\u001b[49m\u001b[43mkey\u001b[49m\u001b[43m)\u001b[49m\n\u001b[0;32m   3806\u001b[0m \u001b[38;5;28;01mif\u001b[39;00m is_integer(indexer):\n\u001b[0;32m   3807\u001b[0m     indexer \u001b[38;5;241m=\u001b[39m [indexer]\n",
      "File \u001b[1;32mD:\\Strawhats\\Model\\project\\lib\\site-packages\\pandas\\core\\indexes\\base.py:3802\u001b[0m, in \u001b[0;36mIndex.get_loc\u001b[1;34m(self, key, method, tolerance)\u001b[0m\n\u001b[0;32m   3800\u001b[0m     \u001b[38;5;28;01mreturn\u001b[39;00m \u001b[38;5;28mself\u001b[39m\u001b[38;5;241m.\u001b[39m_engine\u001b[38;5;241m.\u001b[39mget_loc(casted_key)\n\u001b[0;32m   3801\u001b[0m \u001b[38;5;28;01mexcept\u001b[39;00m \u001b[38;5;167;01mKeyError\u001b[39;00m \u001b[38;5;28;01mas\u001b[39;00m err:\n\u001b[1;32m-> 3802\u001b[0m     \u001b[38;5;28;01mraise\u001b[39;00m \u001b[38;5;167;01mKeyError\u001b[39;00m(key) \u001b[38;5;28;01mfrom\u001b[39;00m \u001b[38;5;21;01merr\u001b[39;00m\n\u001b[0;32m   3803\u001b[0m \u001b[38;5;28;01mexcept\u001b[39;00m \u001b[38;5;167;01mTypeError\u001b[39;00m:\n\u001b[0;32m   3804\u001b[0m     \u001b[38;5;66;03m# If we have a listlike key, _check_indexing_error will raise\u001b[39;00m\n\u001b[0;32m   3805\u001b[0m     \u001b[38;5;66;03m#  InvalidIndexError. Otherwise we fall through and re-raise\u001b[39;00m\n\u001b[0;32m   3806\u001b[0m     \u001b[38;5;66;03m#  the TypeError.\u001b[39;00m\n\u001b[0;32m   3807\u001b[0m     \u001b[38;5;28mself\u001b[39m\u001b[38;5;241m.\u001b[39m_check_indexing_error(key)\n",
      "\u001b[1;31mKeyError\u001b[0m: 'Duration'"
     ]
    }
   ],
   "source": [
    "l=[]\n",
    "for i in range(len(df['Duration'])):\n",
    "    t=df['Duration'][i]\n",
    "    time=((int(t[0])*60)+(int(t[2])*10)+(int(t[3])*1))\n",
    "    l.append(time)\n",
    "print(l)"
   ]
  },
  {
   "cell_type": "code",
   "execution_count": null,
   "metadata": {
    "execution": {
     "iopub.execute_input": "2022-10-06T06:13:34.775474Z",
     "iopub.status.busy": "2022-10-06T06:13:34.774419Z",
     "iopub.status.idle": "2022-10-06T06:13:34.784426Z",
     "shell.execute_reply": "2022-10-06T06:13:34.783324Z",
     "shell.execute_reply.started": "2022-10-06T06:13:34.775430Z"
    }
   },
   "outputs": [],
   "source": [
    "df['time']=l"
   ]
  },
  {
   "cell_type": "code",
   "execution_count": null,
   "metadata": {
    "execution": {
     "iopub.execute_input": "2022-10-06T06:13:34.786722Z",
     "iopub.status.busy": "2022-10-06T06:13:34.785948Z",
     "iopub.status.idle": "2022-10-06T06:13:34.797652Z",
     "shell.execute_reply": "2022-10-06T06:13:34.796452Z",
     "shell.execute_reply.started": "2022-10-06T06:13:34.786679Z"
    }
   },
   "outputs": [],
   "source": [
    "df.drop(columns=['Duration'],inplace=True)"
   ]
  },
  {
   "cell_type": "code",
   "execution_count": null,
   "metadata": {
    "execution": {
     "iopub.execute_input": "2022-10-06T06:13:34.799714Z",
     "iopub.status.busy": "2022-10-06T06:13:34.799226Z",
     "iopub.status.idle": "2022-10-06T06:13:34.884187Z",
     "shell.execute_reply": "2022-10-06T06:13:34.882947Z",
     "shell.execute_reply.started": "2022-10-06T06:13:34.799672Z"
    }
   },
   "outputs": [],
   "source": [
    "px.box(data_frame=df,y='time',color='Music')"
   ]
  },
  {
   "cell_type": "code",
   "execution_count": null,
   "metadata": {
    "execution": {
     "iopub.execute_input": "2022-10-06T06:13:34.886641Z",
     "iopub.status.busy": "2022-10-06T06:13:34.885592Z",
     "iopub.status.idle": "2022-10-06T06:13:34.903535Z",
     "shell.execute_reply": "2022-10-06T06:13:34.902306Z",
     "shell.execute_reply.started": "2022-10-06T06:13:34.886604Z"
    }
   },
   "outputs": [],
   "source": [
    "df"
   ]
  },
  {
   "cell_type": "code",
   "execution_count": null,
   "metadata": {
    "execution": {
     "iopub.execute_input": "2022-10-06T06:13:34.906324Z",
     "iopub.status.busy": "2022-10-06T06:13:34.905258Z",
     "iopub.status.idle": "2022-10-06T06:13:34.922505Z",
     "shell.execute_reply": "2022-10-06T06:13:34.921266Z",
     "shell.execute_reply.started": "2022-10-06T06:13:34.906290Z"
    }
   },
   "outputs": [],
   "source": [
    "x=list(df.corr().columns)\n",
    "y=list(df.corr().index)\n",
    "values=np.array(df.corr().values)\n",
    "fig = go.Figure(data=go.Heatmap(\n",
    "    z=values,\n",
    "    x=x,\n",
    "    y=y,\n",
    "                   \n",
    "    \n",
    "                   hoverongaps = False))\n",
    "fig.show()"
   ]
  },
  {
   "cell_type": "code",
   "execution_count": null,
   "metadata": {
    "execution": {
     "iopub.execute_input": "2022-10-06T06:13:34.927978Z",
     "iopub.status.busy": "2022-10-06T06:13:34.927592Z",
     "iopub.status.idle": "2022-10-06T06:13:34.940653Z",
     "shell.execute_reply": "2022-10-06T06:13:34.939478Z",
     "shell.execute_reply.started": "2022-10-06T06:13:34.927943Z"
    }
   },
   "outputs": [],
   "source": [
    "dic={}\n",
    "dic2={}\n",
    "for c in df.columns:\n",
    "    dic[c]=len([*set(df[c].values)])\n",
    "for c in df2.columns:\n",
    "    dic2[c]=len([*set(df2[c].values)])\n",
    "dic"
   ]
  },
  {
   "cell_type": "code",
   "execution_count": null,
   "metadata": {
    "execution": {
     "iopub.execute_input": "2022-10-06T06:13:34.942510Z",
     "iopub.status.busy": "2022-10-06T06:13:34.942036Z",
     "iopub.status.idle": "2022-10-06T06:13:34.955491Z",
     "shell.execute_reply": "2022-10-06T06:13:34.954421Z",
     "shell.execute_reply.started": "2022-10-06T06:13:34.942473Z"
    }
   },
   "outputs": [],
   "source": [
    "dic2"
   ]
  },
  {
   "cell_type": "code",
   "execution_count": null,
   "metadata": {
    "execution": {
     "iopub.execute_input": "2022-10-06T06:13:34.957599Z",
     "iopub.status.busy": "2022-10-06T06:13:34.956958Z",
     "iopub.status.idle": "2022-10-06T06:13:34.964623Z",
     "shell.execute_reply": "2022-10-06T06:13:34.963338Z",
     "shell.execute_reply.started": "2022-10-06T06:13:34.957563Z"
    }
   },
   "outputs": [],
   "source": [
    "# ['description','production','audiolicense','series','Total_supply']"
   ]
  },
  {
   "cell_type": "code",
   "execution_count": null,
   "metadata": {
    "execution": {
     "iopub.execute_input": "2022-10-06T06:13:34.966395Z",
     "iopub.status.busy": "2022-10-06T06:13:34.965991Z",
     "iopub.status.idle": "2022-10-06T06:13:34.990020Z",
     "shell.execute_reply": "2022-10-06T06:13:34.988519Z",
     "shell.execute_reply.started": "2022-10-06T06:13:34.966363Z"
    }
   },
   "outputs": [],
   "source": [
    "df"
   ]
  },
  {
   "cell_type": "code",
   "execution_count": null,
   "metadata": {
    "execution": {
     "iopub.execute_input": "2022-10-06T06:13:34.992561Z",
     "iopub.status.busy": "2022-10-06T06:13:34.992000Z",
     "iopub.status.idle": "2022-10-06T06:13:35.003200Z",
     "shell.execute_reply": "2022-10-06T06:13:35.001976Z",
     "shell.execute_reply.started": "2022-10-06T06:13:34.992513Z"
    }
   },
   "outputs": [],
   "source": [
    "from sklearn.preprocessing import LabelEncoder\n",
    "le=LabelEncoder()\n",
    "# df['name']=le.fit_transform(df.name)"
   ]
  },
  {
   "cell_type": "code",
   "execution_count": null,
   "metadata": {
    "execution": {
     "iopub.execute_input": "2022-10-06T06:13:35.005734Z",
     "iopub.status.busy": "2022-10-06T06:13:35.004864Z",
     "iopub.status.idle": "2022-10-06T06:13:35.017216Z",
     "shell.execute_reply": "2022-10-06T06:13:35.016004Z",
     "shell.execute_reply.started": "2022-10-06T06:13:35.005697Z"
    }
   },
   "outputs": [],
   "source": [
    "df['Track']=le.fit_transform(df.Track)\n",
    "df['Music']=le.fit_transform(df.Music)\n",
    "# df['production']=le.fit_transform(df.production)\n",
    "# df['audiolicense']=le.fit_transform(df.audiolicense)\n",
    "# df['series']=le.fit_transform(df.series)\n"
   ]
  },
  {
   "cell_type": "code",
   "execution_count": null,
   "metadata": {
    "execution": {
     "iopub.execute_input": "2022-10-06T06:13:35.019209Z",
     "iopub.status.busy": "2022-10-06T06:13:35.018758Z",
     "iopub.status.idle": "2022-10-06T06:13:35.030368Z",
     "shell.execute_reply": "2022-10-06T06:13:35.029011Z",
     "shell.execute_reply.started": "2022-10-06T06:13:35.019174Z"
    }
   },
   "outputs": [],
   "source": [
    "df['image_url']=le.fit_transform(df.image_url)"
   ]
  },
  {
   "cell_type": "code",
   "execution_count": null,
   "metadata": {
    "execution": {
     "iopub.execute_input": "2022-10-06T06:13:35.032165Z",
     "iopub.status.busy": "2022-10-06T06:13:35.031761Z",
     "iopub.status.idle": "2022-10-06T06:13:35.052092Z",
     "shell.execute_reply": "2022-10-06T06:13:35.050880Z",
     "shell.execute_reply.started": "2022-10-06T06:13:35.032134Z"
    }
   },
   "outputs": [],
   "source": [
    "df"
   ]
  },
  {
   "cell_type": "code",
   "execution_count": 22,
   "metadata": {
    "execution": {
     "iopub.execute_input": "2022-10-06T06:13:35.053766Z",
     "iopub.status.busy": "2022-10-06T06:13:35.053405Z",
     "iopub.status.idle": "2022-10-06T06:13:35.061914Z",
     "shell.execute_reply": "2022-10-06T06:13:35.060726Z",
     "shell.execute_reply.started": "2022-10-06T06:13:35.053736Z"
    }
   },
   "outputs": [],
   "source": [
    "def find_word(word,words):\n",
    "    t=[]\n",
    "    count=0\n",
    "    if word[-1]==' ':\n",
    "        word=word[:-1]\n",
    "    for i in words:\n",
    "        if word.lower() in i.lower():\n",
    "            t.append([len(word)/len(i),count])\n",
    "        else:\n",
    "            t.append([0,count])\n",
    "        count+=1\n",
    "    t.sort(reverse=True)\n",
    "    return words[t[0][1]]"
   ]
  },
  {
   "cell_type": "code",
   "execution_count": 104,
   "metadata": {
    "execution": {
     "iopub.execute_input": "2022-10-06T06:13:35.063945Z",
     "iopub.status.busy": "2022-10-06T06:13:35.063490Z",
     "iopub.status.idle": "2022-10-06T06:13:35.075495Z",
     "shell.execute_reply": "2022-10-06T06:13:35.074232Z",
     "shell.execute_reply.started": "2022-10-06T06:13:35.063904Z"
    }
   },
   "outputs": [],
   "source": [
    "# Making a weight matrix using euclidean distance\n",
    "def make_matrix(data,song,number):\n",
    "    df=pd.DataFrame()\n",
    "    data.drop_duplicates(inplace=True)\n",
    "    songs=data['name'].values\n",
    "#    best = difflib.get_close_matches(song,songs,1)[0]\n",
    "    best=find_word(song,songs)\n",
    "    print('The song closest to your search is :',best)\n",
    "    genre=data[data['name']==best]['Track'].values[0]\n",
    "    df=data[data['Track']==genre]\n",
    "    x=df[df['name']==best].drop(columns=['Track','name']).values\n",
    "    print(x)\n",
    "    if len(x)>1:\n",
    "        x=x[1]\n",
    "    song_names=df['name'].values\n",
    "    df.drop(columns=['Track','name'],inplace=True)\n",
    "    df=df.fillna(df.mean())\n",
    "    p=[]\n",
    "    count=0\n",
    "    for i in df.values:\n",
    "        p.append([distance.euclidean(x,i),count])\n",
    "        count+=1\n",
    "    p.sort()\n",
    "    for i in range(1,number+1):\n",
    "        print(song_names[p[i][1]])"
   ]
  },
  {
   "cell_type": "markdown",
   "metadata": {},
   "source": [
    "## Clustering"
   ]
  },
  {
   "cell_type": "markdown",
   "metadata": {},
   "source": [
    "### KMeans Clustering"
   ]
  },
  {
   "cell_type": "code",
   "execution_count": 105,
   "metadata": {
    "execution": {
     "iopub.execute_input": "2022-10-06T06:13:35.077167Z",
     "iopub.status.busy": "2022-10-06T06:13:35.076708Z",
     "iopub.status.idle": "2022-10-06T06:13:35.086084Z",
     "shell.execute_reply": "2022-10-06T06:13:35.085186Z",
     "shell.execute_reply.started": "2022-10-06T06:13:35.077127Z"
    }
   },
   "outputs": [],
   "source": [
    "from sklearn.cluster import KMeans"
   ]
  },
  {
   "cell_type": "code",
   "execution_count": 106,
   "metadata": {
    "execution": {
     "iopub.execute_input": "2022-10-06T06:13:35.087785Z",
     "iopub.status.busy": "2022-10-06T06:13:35.087357Z",
     "iopub.status.idle": "2022-10-06T06:13:35.144366Z",
     "shell.execute_reply": "2022-10-06T06:13:35.143142Z",
     "shell.execute_reply.started": "2022-10-06T06:13:35.087754Z"
    }
   },
   "outputs": [
    {
     "data": {
      "text/plain": [
       "KMeans(n_clusters=2, random_state=0)"
      ]
     },
     "execution_count": 106,
     "metadata": {},
     "output_type": "execute_result"
    }
   ],
   "source": [
    "kmeans = KMeans(n_clusters=2, random_state=0) \n",
    "kmeans.fit(df[df.drop(columns=['name']).columns])"
   ]
  },
  {
   "cell_type": "code",
   "execution_count": 107,
   "metadata": {
    "execution": {
     "iopub.execute_input": "2022-10-06T06:13:35.146165Z",
     "iopub.status.busy": "2022-10-06T06:13:35.145758Z",
     "iopub.status.idle": "2022-10-06T06:13:35.841469Z",
     "shell.execute_reply": "2022-10-06T06:13:35.840356Z",
     "shell.execute_reply.started": "2022-10-06T06:13:35.146131Z"
    }
   },
   "outputs": [
    {
     "data": {
      "image/png": "[encoded data removed]",
      "text/plain": [
       "<Figure size 576x396 with 2 Axes>"
      ]
     },
     "metadata": {},
     "output_type": "display_data"
    },
    {
     "data": {
      "text/plain": [
       "<AxesSubplot:title={'center':'Distortion Score Elbow for KMeans Clustering'}, xlabel='k', ylabel='distortion score'>"
      ]
     },
     "execution_count": 107,
     "metadata": {},
     "output_type": "execute_result"
    }
   ],
   "source": [
    "from yellowbrick.cluster import KElbowVisualizer\n",
    "from sklearn import cluster\n",
    "model = KElbowVisualizer(kmeans, k=10)\n",
    "model.fit(df[df.drop(columns=['name']).columns])\n",
    "model.show()\n"
   ]
  },
  {
   "cell_type": "code",
   "execution_count": 108,
   "metadata": {
    "execution": {
     "iopub.execute_input": "2022-10-06T06:13:35.843746Z",
     "iopub.status.busy": "2022-10-06T06:13:35.843209Z",
     "iopub.status.idle": "2022-10-06T06:13:36.169431Z",
     "shell.execute_reply": "2022-10-06T06:13:36.168028Z",
     "shell.execute_reply.started": "2022-10-06T06:13:35.843692Z"
    }
   },
   "outputs": [
    {
     "name": "stderr",
     "output_type": "stream",
     "text": [
      "/opt/conda/lib/python3.7/site-packages/yellowbrick/utils/kneed.py:156: YellowbrickWarning:\n",
      "\n",
      "No 'knee' or 'elbow point' detected This could be due to bad clustering, no actual clusters being formed etc.\n",
      "\n",
      "/opt/conda/lib/python3.7/site-packages/yellowbrick/cluster/elbow.py:374: YellowbrickWarning:\n",
      "\n",
      "No 'knee' or 'elbow' point detected, pass `locate_elbow=False` to remove the warning\n",
      "\n"
     ]
    },
    {
     "data": {
      "text/plain": [
       "KElbowVisualizer(ax=<AxesSubplot:>,\n",
       "                 estimator=KMeans(n_clusters=3, random_state=0), k=3)"
      ]
     },
     "execution_count": 108,
     "metadata": {},
     "output_type": "execute_result"
    },
    {
     "data": {
      "image/png": "[encoded data removed]",
      "text/plain": [
       "<Figure size 576x396 with 2 Axes>"
      ]
     },
     "metadata": {},
     "output_type": "display_data"
    }
   ],
   "source": [
    "model = KElbowVisualizer(kmeans, k=3)\n",
    "model.fit(df[df.drop(columns=['name']).columns])"
   ]
  },
  {
   "cell_type": "code",
   "execution_count": 109,
   "metadata": {
    "execution": {
     "iopub.execute_input": "2022-10-06T06:13:36.172291Z",
     "iopub.status.busy": "2022-10-06T06:13:36.171516Z",
     "iopub.status.idle": "2022-10-06T06:13:36.912774Z",
     "shell.execute_reply": "2022-10-06T06:13:36.911747Z",
     "shell.execute_reply.started": "2022-10-06T06:13:36.172242Z"
    }
   },
   "outputs": [],
   "source": [
    "wss=[]\n",
    "K=range(1,20)\n",
    "for k in K:\n",
    "    kmeans=cluster.KMeans(n_clusters=k,init=\"k-means++\")\n",
    "    kmeans=kmeans.fit(df[df.drop(columns=['name']).columns])\n",
    "    wss_iter=kmeans.inertia_\n",
    "    wss.append(wss_iter)"
   ]
  },
  {
   "cell_type": "code",
   "execution_count": 110,
   "metadata": {
    "execution": {
     "iopub.execute_input": "2022-10-06T06:13:36.914676Z",
     "iopub.status.busy": "2022-10-06T06:13:36.914241Z",
     "iopub.status.idle": "2022-10-06T06:13:36.923974Z",
     "shell.execute_reply": "2022-10-06T06:13:36.923079Z",
     "shell.execute_reply.started": "2022-10-06T06:13:36.914636Z"
    }
   },
   "outputs": [
    {
     "data": {
      "text/plain": [
       "[11654506.308631204,\n",
       " 422815.39551842643,\n",
       " 106971.31613707473,\n",
       " 57352.98158532792,\n",
       " 33807.735329123614,\n",
       " 18340.84435168501,\n",
       " 14536.502254733934,\n",
       " 11776.147843597992,\n",
       " 8994.96374404342,\n",
       " 6345.170252553827,\n",
       " 3949.4201847847817,\n",
       " 2943.368590669642,\n",
       " 2212.5752297081526,\n",
       " 1836.56601228585,\n",
       " 1628.6610163197072,\n",
       " 1359.3340030859883,\n",
       " 1219.2756625119314,\n",
       " 1140.5601313018076,\n",
       " 972.1279088263119]"
      ]
     },
     "execution_count": 110,
     "metadata": {},
     "output_type": "execute_result"
    }
   ],
   "source": [
    "wss"
   ]
  },
  {
   "cell_type": "code",
   "execution_count": 111,
   "metadata": {
    "execution": {
     "iopub.execute_input": "2022-10-06T06:13:36.926001Z",
     "iopub.status.busy": "2022-10-06T06:13:36.925079Z",
     "iopub.status.idle": "2022-10-06T06:13:36.941377Z",
     "shell.execute_reply": "2022-10-06T06:13:36.940146Z",
     "shell.execute_reply.started": "2022-10-06T06:13:36.925968Z"
    }
   },
   "outputs": [
    {
     "data": {
      "text/html": [
       "<div>\n",
       "<style scoped>\n",
       "    .dataframe tbody tr th:only-of-type {\n",
       "        vertical-align: middle;\n",
       "    }\n",
       "\n",
       "    .dataframe tbody tr th {\n",
       "        vertical-align: top;\n",
       "    }\n",
       "\n",
       "    .dataframe thead th {\n",
       "        text-align: right;\n",
       "    }\n",
       "</style>\n",
       "<table border=\"1\" class=\"dataframe\">\n",
       "  <thead>\n",
       "    <tr style=\"text-align: right;\">\n",
       "      <th></th>\n",
       "      <th>Clusters</th>\n",
       "      <th>Distortion</th>\n",
       "    </tr>\n",
       "  </thead>\n",
       "  <tbody>\n",
       "    <tr>\n",
       "      <th>0</th>\n",
       "      <td>1</td>\n",
       "      <td>1.165451e+07</td>\n",
       "    </tr>\n",
       "    <tr>\n",
       "      <th>1</th>\n",
       "      <td>2</td>\n",
       "      <td>4.228154e+05</td>\n",
       "    </tr>\n",
       "    <tr>\n",
       "      <th>2</th>\n",
       "      <td>3</td>\n",
       "      <td>1.069713e+05</td>\n",
       "    </tr>\n",
       "    <tr>\n",
       "      <th>3</th>\n",
       "      <td>4</td>\n",
       "      <td>5.735298e+04</td>\n",
       "    </tr>\n",
       "    <tr>\n",
       "      <th>4</th>\n",
       "      <td>5</td>\n",
       "      <td>3.380774e+04</td>\n",
       "    </tr>\n",
       "    <tr>\n",
       "      <th>5</th>\n",
       "      <td>6</td>\n",
       "      <td>1.834084e+04</td>\n",
       "    </tr>\n",
       "    <tr>\n",
       "      <th>6</th>\n",
       "      <td>7</td>\n",
       "      <td>1.453650e+04</td>\n",
       "    </tr>\n",
       "    <tr>\n",
       "      <th>7</th>\n",
       "      <td>8</td>\n",
       "      <td>1.177615e+04</td>\n",
       "    </tr>\n",
       "    <tr>\n",
       "      <th>8</th>\n",
       "      <td>9</td>\n",
       "      <td>8.994964e+03</td>\n",
       "    </tr>\n",
       "    <tr>\n",
       "      <th>9</th>\n",
       "      <td>10</td>\n",
       "      <td>6.345170e+03</td>\n",
       "    </tr>\n",
       "    <tr>\n",
       "      <th>10</th>\n",
       "      <td>11</td>\n",
       "      <td>3.949420e+03</td>\n",
       "    </tr>\n",
       "    <tr>\n",
       "      <th>11</th>\n",
       "      <td>12</td>\n",
       "      <td>2.943369e+03</td>\n",
       "    </tr>\n",
       "    <tr>\n",
       "      <th>12</th>\n",
       "      <td>13</td>\n",
       "      <td>2.212575e+03</td>\n",
       "    </tr>\n",
       "    <tr>\n",
       "      <th>13</th>\n",
       "      <td>14</td>\n",
       "      <td>1.836566e+03</td>\n",
       "    </tr>\n",
       "    <tr>\n",
       "      <th>14</th>\n",
       "      <td>15</td>\n",
       "      <td>1.628661e+03</td>\n",
       "    </tr>\n",
       "    <tr>\n",
       "      <th>15</th>\n",
       "      <td>16</td>\n",
       "      <td>1.359334e+03</td>\n",
       "    </tr>\n",
       "    <tr>\n",
       "      <th>16</th>\n",
       "      <td>17</td>\n",
       "      <td>1.219276e+03</td>\n",
       "    </tr>\n",
       "    <tr>\n",
       "      <th>17</th>\n",
       "      <td>18</td>\n",
       "      <td>1.140560e+03</td>\n",
       "    </tr>\n",
       "    <tr>\n",
       "      <th>18</th>\n",
       "      <td>19</td>\n",
       "      <td>9.721279e+02</td>\n",
       "    </tr>\n",
       "  </tbody>\n",
       "</table>\n",
       "</div>"
      ],
      "text/plain": [
       "    Clusters    Distortion\n",
       "0          1  1.165451e+07\n",
       "1          2  4.228154e+05\n",
       "2          3  1.069713e+05\n",
       "3          4  5.735298e+04\n",
       "4          5  3.380774e+04\n",
       "5          6  1.834084e+04\n",
       "6          7  1.453650e+04\n",
       "7          8  1.177615e+04\n",
       "8          9  8.994964e+03\n",
       "9         10  6.345170e+03\n",
       "10        11  3.949420e+03\n",
       "11        12  2.943369e+03\n",
       "12        13  2.212575e+03\n",
       "13        14  1.836566e+03\n",
       "14        15  1.628661e+03\n",
       "15        16  1.359334e+03\n",
       "16        17  1.219276e+03\n",
       "17        18  1.140560e+03\n",
       "18        19  9.721279e+02"
      ]
     },
     "execution_count": 111,
     "metadata": {},
     "output_type": "execute_result"
    }
   ],
   "source": [
    "centers=pd.DataFrame({'Clusters':K,'Distortion':wss})\n",
    "centers"
   ]
  },
  {
   "cell_type": "code",
   "execution_count": 112,
   "metadata": {
    "execution": {
     "iopub.execute_input": "2022-10-06T06:13:36.943361Z",
     "iopub.status.busy": "2022-10-06T06:13:36.942652Z",
     "iopub.status.idle": "2022-10-06T06:13:37.179572Z",
     "shell.execute_reply": "2022-10-06T06:13:37.178185Z",
     "shell.execute_reply.started": "2022-10-06T06:13:36.943323Z"
    }
   },
   "outputs": [
    {
     "data": {
      "text/plain": [
       "<AxesSubplot:xlabel='Clusters', ylabel='Distortion'>"
      ]
     },
     "execution_count": 112,
     "metadata": {},
     "output_type": "execute_result"
    },
    {
     "data": {
      "image/png": "[encoded data removed]",
      "text/plain": [
       "<Figure size 576x396 with 1 Axes>"
      ]
     },
     "metadata": {},
     "output_type": "display_data"
    }
   ],
   "source": [
    "sns.lineplot(x='Clusters',y='Distortion',data=centers)"
   ]
  },
  {
   "cell_type": "code",
   "execution_count": 113,
   "metadata": {
    "execution": {
     "iopub.execute_input": "2022-10-06T06:13:37.181539Z",
     "iopub.status.busy": "2022-10-06T06:13:37.181142Z",
     "iopub.status.idle": "2022-10-06T06:13:37.201804Z",
     "shell.execute_reply": "2022-10-06T06:13:37.200636Z",
     "shell.execute_reply.started": "2022-10-06T06:13:37.181498Z"
    }
   },
   "outputs": [
    {
     "name": "stdout",
     "output_type": "stream",
     "text": [
      "The song closest to your search is : A New Dawn #166\n",
      "[[  7   1   3 183]]\n",
      "A New Dawn #067\n",
      "A New Dawn #124\n",
      "A New Dawn #083\n"
     ]
    },
    {
     "name": "stderr",
     "output_type": "stream",
     "text": [
      "/opt/conda/lib/python3.7/site-packages/pandas/core/frame.py:4913: SettingWithCopyWarning:\n",
      "\n",
      "\n",
      "A value is trying to be set on a copy of a slice from a DataFrame\n",
      "\n",
      "See the caveats in the documentation: https://pandas.pydata.org/pandas-docs/stable/user_guide/indexing.html#returning-a-view-versus-a-copy\n",
      "\n"
     ]
    }
   ],
   "source": [
    "make_matrix(df,\"kingu\",3)"
   ]
  },
  {
   "cell_type": "code",
   "execution_count": 114,
   "metadata": {
    "execution": {
     "iopub.execute_input": "2022-10-06T06:13:37.204009Z",
     "iopub.status.busy": "2022-10-06T06:13:37.203556Z",
     "iopub.status.idle": "2022-10-06T06:13:37.212342Z",
     "shell.execute_reply": "2022-10-06T06:13:37.211455Z",
     "shell.execute_reply.started": "2022-10-06T06:13:37.203967Z"
    }
   },
   "outputs": [
    {
     "name": "stderr",
     "output_type": "stream",
     "text": [
      "/opt/conda/lib/python3.7/site-packages/sklearn/base.py:451: UserWarning:\n",
      "\n",
      "X does not have valid feature names, but KMeans was fitted with feature names\n",
      "\n"
     ]
    },
    {
     "data": {
      "text/plain": [
       "array([2], dtype=int32)"
      ]
     },
     "execution_count": 114,
     "metadata": {},
     "output_type": "execute_result"
    }
   ],
   "source": [
    "from sklearn.preprocessing import LabelEncoder\n",
    "# le=LabelEncoder()\n",
    "# le.inverse_transform(\n",
    "model.predict([[7,1,1,3,183]])"
   ]
  },
  {
   "cell_type": "code",
   "execution_count": 115,
   "metadata": {
    "execution": {
     "iopub.execute_input": "2022-10-06T06:13:37.214319Z",
     "iopub.status.busy": "2022-10-06T06:13:37.213837Z",
     "iopub.status.idle": "2022-10-06T06:13:37.233748Z",
     "shell.execute_reply": "2022-10-06T06:13:37.232566Z",
     "shell.execute_reply.started": "2022-10-06T06:13:37.214275Z"
    }
   },
   "outputs": [
    {
     "data": {
      "text/plain": [
       "array([[4.09062500e+00, 2.15312500e+00, 4.05625000e+00, 2.85000000e+00,\n",
       "        1.28690625e+02],\n",
       "       [8.00000000e+00, 1.95327103e+00, 5.00000000e+00, 5.77315973e-15,\n",
       "        4.08000000e+02],\n",
       "       [5.29526917e+00, 2.85807504e+00, 6.93311582e+00, 4.68026101e+00,\n",
       "        1.67274062e+02]])"
      ]
     },
     "execution_count": 115,
     "metadata": {},
     "output_type": "execute_result"
    }
   ],
   "source": [
    "model.cluster_centers_"
   ]
  },
  {
   "cell_type": "code",
   "execution_count": 116,
   "metadata": {
    "execution": {
     "iopub.execute_input": "2022-10-06T06:13:37.236473Z",
     "iopub.status.busy": "2022-10-06T06:13:37.235214Z",
     "iopub.status.idle": "2022-10-06T06:13:37.248873Z",
     "shell.execute_reply": "2022-10-06T06:13:37.247799Z",
     "shell.execute_reply.started": "2022-10-06T06:13:37.236426Z"
    }
   },
   "outputs": [],
   "source": [
    "cluster_map = pd.DataFrame()\n",
    "cluster_map['data_index'] = df.index.values\n",
    "cluster_map['cluster'] = model.labels_"
   ]
  },
  {
   "cell_type": "code",
   "execution_count": 117,
   "metadata": {
    "execution": {
     "iopub.execute_input": "2022-10-06T06:13:37.250912Z",
     "iopub.status.busy": "2022-10-06T06:13:37.250459Z",
     "iopub.status.idle": "2022-10-06T06:13:37.265081Z",
     "shell.execute_reply": "2022-10-06T06:13:37.263741Z",
     "shell.execute_reply.started": "2022-10-06T06:13:37.250869Z"
    }
   },
   "outputs": [
    {
     "data": {
      "text/plain": [
       "0       2\n",
       "1       2\n",
       "2       2\n",
       "3       2\n",
       "4       2\n",
       "       ..\n",
       "1142    2\n",
       "1143    2\n",
       "1144    2\n",
       "1145    2\n",
       "1146    2\n",
       "Name: cluster, Length: 1147, dtype: int32"
      ]
     },
     "execution_count": 117,
     "metadata": {},
     "output_type": "execute_result"
    }
   ],
   "source": [
    "cluster_map['cluster']"
   ]
  },
  {
   "cell_type": "code",
   "execution_count": 118,
   "metadata": {
    "execution": {
     "iopub.execute_input": "2022-10-06T06:13:37.267331Z",
     "iopub.status.busy": "2022-10-06T06:13:37.266842Z",
     "iopub.status.idle": "2022-10-06T06:13:37.280063Z",
     "shell.execute_reply": "2022-10-06T06:13:37.278589Z",
     "shell.execute_reply.started": "2022-10-06T06:13:37.267286Z"
    }
   },
   "outputs": [
    {
     "name": "stdout",
     "output_type": "stream",
     "text": [
      "No. of data points in cluster : 0 is  320\n",
      "No. of data points in cluster : 1 is  214\n",
      "No. of data points in cluster : 2 is  613\n"
     ]
    }
   ],
   "source": [
    "for i in range(0,3):\n",
    "    print(\"No. of data points in cluster :\",i,\"is \",len(cluster_map.loc[cluster_map['cluster']==i]))"
   ]
  },
  {
   "cell_type": "code",
   "execution_count": null,
   "metadata": {},
   "outputs": [],
   "source": []
  }
 ],
 "metadata": {
  "kernelspec": {
   "display_name": "Python 3 (ipykernel)",
   "language": "python",
   "name": "python3"
  },
  "language_info": {
   "codemirror_mode": {
    "name": "ipython",
    "version": 3
   },
   "file_extension": ".py",
   "mimetype": "text/x-python",
   "name": "python",
   "nbconvert_exporter": "python",
   "pygments_lexer": "ipython3",
   "version": "3.9.12"
  }
 },
 "nbformat": 4,
 "nbformat_minor": 4
}
