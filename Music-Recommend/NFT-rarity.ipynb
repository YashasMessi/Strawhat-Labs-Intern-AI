{
 "cells": [
  {
   "cell_type": "code",
   "execution_count": 1,
   "id": "67e3fe02",
   "metadata": {},
   "outputs": [],
   "source": [
    "import pandas as pd\n",
    "import numpy as np\n",
    "import seaborn as sns\n",
    "import plotly.express as px\n",
    "import plotly.graph_objects as go\n",
    "import matplotlib.pyplot as plt\n",
    "import plotly\n",
    "from sklearn.preprocessing import StandardScaler\n",
    "from scipy.spatial import distance\n",
    "import copy"
   ]
  },
  {
   "cell_type": "code",
   "execution_count": 28,
   "id": "eb1cb9ee",
   "metadata": {},
   "outputs": [],
   "source": [
    "df=pd.read_csv(\"nftmusic_rarity.csv\")"
   ]
  },
  {
   "cell_type": "code",
   "execution_count": 29,
   "id": "d42261b5",
   "metadata": {},
   "outputs": [
    {
     "data": {
      "text/html": [
       "<div>\n",
       "<style scoped>\n",
       "    .dataframe tbody tr th:only-of-type {\n",
       "        vertical-align: middle;\n",
       "    }\n",
       "\n",
       "    .dataframe tbody tr th {\n",
       "        vertical-align: top;\n",
       "    }\n",
       "\n",
       "    .dataframe thead th {\n",
       "        text-align: right;\n",
       "    }\n",
       "</style>\n",
       "<table border=\"1\" class=\"dataframe\">\n",
       "  <thead>\n",
       "    <tr style=\"text-align: right;\">\n",
       "      <th></th>\n",
       "      <th>nft_id</th>\n",
       "      <th>contract_address</th>\n",
       "      <th>description</th>\n",
       "      <th>name</th>\n",
       "      <th>image_url</th>\n",
       "      <th>attributes</th>\n",
       "      <th>transfer_activity</th>\n",
       "      <th>Track</th>\n",
       "      <th>Music</th>\n",
       "      <th>production</th>\n",
       "      <th>Duration</th>\n",
       "      <th>audiolicense</th>\n",
       "      <th>series</th>\n",
       "      <th>Total_supply</th>\n",
       "      <th>rarityRank</th>\n",
       "    </tr>\n",
       "  </thead>\n",
       "  <tbody>\n",
       "    <tr>\n",
       "      <th>0</th>\n",
       "      <td>solana.14sWq4NtZoYWxBNwELLnQSqSy5Tw2M3E2CMfzma...</td>\n",
       "      <td>14sWq4NtZoYWxBNwELLnQSqSy5Tw2M3E2CMfzmaJKJQy</td>\n",
       "      <td>The original Blockbeats Volume 1 metatracks.</td>\n",
       "      <td>Solana Days #005</td>\n",
       "      <td>https://cdn.simplehash.com/assets/9bab67cdf597...</td>\n",
       "      <td>[{'trait_type': 'Track', 'value': 'Solana Days...</td>\n",
       "      <td>3</td>\n",
       "      <td>Solana Days</td>\n",
       "      <td>Scott Manson</td>\n",
       "      <td>Blockbeats</td>\n",
       "      <td>2:45</td>\n",
       "      <td>Universal</td>\n",
       "      <td>Volume 1</td>\n",
       "      <td>420</td>\n",
       "      <td>9.0</td>\n",
       "    </tr>\n",
       "    <tr>\n",
       "      <th>1</th>\n",
       "      <td>solana.1W4E3SE9LzwwCx7wt3vs4zw6t1NrwK71QSrCqdt...</td>\n",
       "      <td>1W4E3SE9LzwwCx7wt3vs4zw6t1NrwK71QSrCqdta5Pv</td>\n",
       "      <td>The original Blockbeats Volume 1 metatracks.</td>\n",
       "      <td>Solana Days #357</td>\n",
       "      <td>https://cdn.simplehash.com/assets/9bab67cdf597...</td>\n",
       "      <td>[{'trait_type': 'Track', 'value': 'Solana Days...</td>\n",
       "      <td>10</td>\n",
       "      <td>Solana Days</td>\n",
       "      <td>Scott Manson</td>\n",
       "      <td>Blockbeats</td>\n",
       "      <td>2:45</td>\n",
       "      <td>Universal</td>\n",
       "      <td>Volume 1</td>\n",
       "      <td>420</td>\n",
       "      <td>9.0</td>\n",
       "    </tr>\n",
       "    <tr>\n",
       "      <th>2</th>\n",
       "      <td>solana.22mi9UbCBi2zry125EEabpLyWYkDzsAF7Y6bgkU...</td>\n",
       "      <td>22mi9UbCBi2zry125EEabpLyWYkDzsAF7Y6bgkUnwCkm</td>\n",
       "      <td>The original Blockbeats Volume 1 metatracks.</td>\n",
       "      <td>Solana Days #160</td>\n",
       "      <td>https://cdn.simplehash.com/assets/9bab67cdf597...</td>\n",
       "      <td>[{'trait_type': 'Track', 'value': 'Solana Days...</td>\n",
       "      <td>1</td>\n",
       "      <td>Solana Days</td>\n",
       "      <td>Scott Manson</td>\n",
       "      <td>Blockbeats</td>\n",
       "      <td>2:45</td>\n",
       "      <td>Universal</td>\n",
       "      <td>Volume 1</td>\n",
       "      <td>420</td>\n",
       "      <td>9.0</td>\n",
       "    </tr>\n",
       "    <tr>\n",
       "      <th>3</th>\n",
       "      <td>solana.24tFtT7PdQKY2G7pEmD5oCmCbVzUntZudbLzkCH...</td>\n",
       "      <td>24tFtT7PdQKY2G7pEmD5oCmCbVzUntZudbLzkCH4kDob</td>\n",
       "      <td>The original Blockbeats Volume 1 metatracks.</td>\n",
       "      <td>Solana Days #217</td>\n",
       "      <td>https://cdn.simplehash.com/assets/9bab67cdf597...</td>\n",
       "      <td>[{'trait_type': 'Track', 'value': 'Solana Days...</td>\n",
       "      <td>2</td>\n",
       "      <td>Solana Days</td>\n",
       "      <td>Scott Manson</td>\n",
       "      <td>Blockbeats</td>\n",
       "      <td>2:45</td>\n",
       "      <td>Universal</td>\n",
       "      <td>Volume 1</td>\n",
       "      <td>420</td>\n",
       "      <td>9.0</td>\n",
       "    </tr>\n",
       "    <tr>\n",
       "      <th>4</th>\n",
       "      <td>solana.28fDVugFLz9UUeAzpi7zSAvRaf27Wj3MiRkSV21...</td>\n",
       "      <td>28fDVugFLz9UUeAzpi7zSAvRaf27Wj3MiRkSV21Zh3iG</td>\n",
       "      <td>The original Blockbeats Volume 1 metatracks.</td>\n",
       "      <td>Solana Days #212</td>\n",
       "      <td>https://cdn.simplehash.com/assets/9bab67cdf597...</td>\n",
       "      <td>[{'trait_type': 'Track', 'value': 'Solana Days...</td>\n",
       "      <td>1</td>\n",
       "      <td>Solana Days</td>\n",
       "      <td>Scott Manson</td>\n",
       "      <td>Blockbeats</td>\n",
       "      <td>2:45</td>\n",
       "      <td>Universal</td>\n",
       "      <td>Volume 1</td>\n",
       "      <td>420</td>\n",
       "      <td>9.0</td>\n",
       "    </tr>\n",
       "  </tbody>\n",
       "</table>\n",
       "</div>"
      ],
      "text/plain": [
       "                                              nft_id  \\\n",
       "0  solana.14sWq4NtZoYWxBNwELLnQSqSy5Tw2M3E2CMfzma...   \n",
       "1  solana.1W4E3SE9LzwwCx7wt3vs4zw6t1NrwK71QSrCqdt...   \n",
       "2  solana.22mi9UbCBi2zry125EEabpLyWYkDzsAF7Y6bgkU...   \n",
       "3  solana.24tFtT7PdQKY2G7pEmD5oCmCbVzUntZudbLzkCH...   \n",
       "4  solana.28fDVugFLz9UUeAzpi7zSAvRaf27Wj3MiRkSV21...   \n",
       "\n",
       "                               contract_address  \\\n",
       "0  14sWq4NtZoYWxBNwELLnQSqSy5Tw2M3E2CMfzmaJKJQy   \n",
       "1   1W4E3SE9LzwwCx7wt3vs4zw6t1NrwK71QSrCqdta5Pv   \n",
       "2  22mi9UbCBi2zry125EEabpLyWYkDzsAF7Y6bgkUnwCkm   \n",
       "3  24tFtT7PdQKY2G7pEmD5oCmCbVzUntZudbLzkCH4kDob   \n",
       "4  28fDVugFLz9UUeAzpi7zSAvRaf27Wj3MiRkSV21Zh3iG   \n",
       "\n",
       "                                    description              name  \\\n",
       "0  The original Blockbeats Volume 1 metatracks.  Solana Days #005   \n",
       "1  The original Blockbeats Volume 1 metatracks.  Solana Days #357   \n",
       "2  The original Blockbeats Volume 1 metatracks.  Solana Days #160   \n",
       "3  The original Blockbeats Volume 1 metatracks.  Solana Days #217   \n",
       "4  The original Blockbeats Volume 1 metatracks.  Solana Days #212   \n",
       "\n",
       "                                           image_url  \\\n",
       "0  https://cdn.simplehash.com/assets/9bab67cdf597...   \n",
       "1  https://cdn.simplehash.com/assets/9bab67cdf597...   \n",
       "2  https://cdn.simplehash.com/assets/9bab67cdf597...   \n",
       "3  https://cdn.simplehash.com/assets/9bab67cdf597...   \n",
       "4  https://cdn.simplehash.com/assets/9bab67cdf597...   \n",
       "\n",
       "                                          attributes  transfer_activity  \\\n",
       "0  [{'trait_type': 'Track', 'value': 'Solana Days...                  3   \n",
       "1  [{'trait_type': 'Track', 'value': 'Solana Days...                 10   \n",
       "2  [{'trait_type': 'Track', 'value': 'Solana Days...                  1   \n",
       "3  [{'trait_type': 'Track', 'value': 'Solana Days...                  2   \n",
       "4  [{'trait_type': 'Track', 'value': 'Solana Days...                  1   \n",
       "\n",
       "         Track         Music  production Duration audiolicense    series  \\\n",
       "0  Solana Days  Scott Manson  Blockbeats     2:45    Universal  Volume 1   \n",
       "1  Solana Days  Scott Manson  Blockbeats     2:45    Universal  Volume 1   \n",
       "2  Solana Days  Scott Manson  Blockbeats     2:45    Universal  Volume 1   \n",
       "3  Solana Days  Scott Manson  Blockbeats     2:45    Universal  Volume 1   \n",
       "4  Solana Days  Scott Manson  Blockbeats     2:45    Universal  Volume 1   \n",
       "\n",
       "   Total_supply  rarityRank  \n",
       "0           420         9.0  \n",
       "1           420         9.0  \n",
       "2           420         9.0  \n",
       "3           420         9.0  \n",
       "4           420         9.0  "
      ]
     },
     "execution_count": 29,
     "metadata": {},
     "output_type": "execute_result"
    }
   ],
   "source": [
    "df.head()"
   ]
  },
  {
   "cell_type": "code",
   "execution_count": 31,
   "id": "dfd206e1",
   "metadata": {},
   "outputs": [
    {
     "data": {
      "text/plain": [
       "Index(['nft_id', 'contract_address', 'description', 'name', 'image_url',\n",
       "       'attributes', 'transfer_activity', 'Track', 'Music', 'production',\n",
       "       'Duration', 'audiolicense', 'series', 'Total_supply', 'rarityRank'],\n",
       "      dtype='object')"
      ]
     },
     "execution_count": 31,
     "metadata": {},
     "output_type": "execute_result"
    }
   ],
   "source": [
    "df.columns"
   ]
  },
  {
   "cell_type": "code",
   "execution_count": 32,
   "id": "01463339",
   "metadata": {},
   "outputs": [],
   "source": [
    "df.drop(columns=['nft_id','contract_address','attributes','production','audiolicense','series','Total_supply','image_url'],inplace=True)"
   ]
  },
  {
   "cell_type": "code",
   "execution_count": 33,
   "id": "dbfac3bc",
   "metadata": {},
   "outputs": [
    {
     "data": {
      "text/plain": [
       "Index(['description', 'name', 'transfer_activity', 'Track', 'Music',\n",
       "       'Duration', 'rarityRank'],\n",
       "      dtype='object')"
      ]
     },
     "execution_count": 33,
     "metadata": {},
     "output_type": "execute_result"
    }
   ],
   "source": [
    "df.columns"
   ]
  },
  {
   "cell_type": "code",
   "execution_count": 34,
   "id": "7ee26d65",
   "metadata": {},
   "outputs": [],
   "source": [
    "df.drop(columns=['description'],inplace=True)"
   ]
  },
  {
   "cell_type": "code",
   "execution_count": 35,
   "id": "d6b54013",
   "metadata": {
    "scrolled": true
   },
   "outputs": [
    {
     "name": "stdout",
     "output_type": "stream",
     "text": [
      "[165, 165, 165, 165, 165, 165, 165, 165, 165, 165, 165, 165, 165, 165, 165, 165, 165, 165, 165, 165, 165, 165, 165, 165, 165, 165, 165, 165, 165, 165, 165, 165, 165, 165, 165, 165, 165, 165, 165, 165, 165, 165, 165, 165, 165, 165, 165, 165, 165, 165, 165, 165, 165, 165, 165, 165, 165, 165, 165, 165, 165, 165, 165, 165, 165, 165, 165, 165, 165, 165, 165, 165, 165, 165, 165, 165, 165, 165, 165, 165, 165, 165, 165, 165, 165, 165, 165, 165, 165, 165, 165, 165, 165, 165, 165, 165, 165, 165, 165, 165, 165, 165, 165, 165, 165, 165, 165, 165, 165, 165, 165, 165, 165, 165, 165, 165, 165, 165, 165, 165, 165, 165, 165, 165, 165, 165, 165, 165, 165, 165, 165, 165, 165, 165, 165, 165, 165, 165, 165, 165, 165, 165, 165, 165, 165, 165, 165, 165, 165, 165, 165, 165, 165, 165, 165, 165, 165, 165, 165, 165, 165, 165, 165, 165, 165, 165, 165, 165, 165, 165, 165, 165, 165, 165, 165, 165, 165, 165, 165, 165, 165, 165, 165, 165, 165, 165, 165, 165, 165, 165, 165, 165, 165, 165, 165, 165, 165, 165, 165, 165, 165, 165, 165, 165, 165, 165, 165, 165, 165, 165, 165, 165, 165, 165, 165, 165, 165, 165, 165, 165, 165, 165, 165, 165, 165, 165, 165, 165, 165, 165, 165, 165, 165, 165, 165, 165, 165, 165, 165, 165, 165, 165, 165, 165, 165, 165, 165, 165, 165, 165, 165, 165, 165, 165, 165, 165, 165, 165, 165, 165, 165, 165, 165, 165, 165, 165, 165, 165, 165, 165, 165, 165, 165, 165, 165, 165, 165, 165, 165, 165, 165, 165, 165, 165, 165, 165, 165, 165, 165, 165, 165, 165, 165, 165, 165, 165, 165, 165, 165, 165, 165, 165, 165, 165, 165, 165, 165, 165, 165, 165, 165, 165, 165, 165, 165, 165, 165, 165, 165, 165, 165, 165, 165, 165, 165, 165, 165, 165, 165, 165, 165, 165, 165, 165, 165, 165, 165, 165, 165, 165, 165, 165, 165, 165, 165, 165, 165, 165, 165, 165, 165, 165, 165, 165, 165, 165, 165, 165, 165, 165, 165, 165, 165, 165, 165, 165, 165, 165, 165, 165, 165, 165, 165, 165, 165, 165, 165, 165, 165, 165, 165, 165, 165, 165, 165, 165, 165, 165, 165, 165, 165, 165, 165, 165, 165, 165, 165, 165, 165, 165, 165, 165, 165, 165, 165, 165, 165, 165, 165, 165, 165, 165, 165, 165, 165, 165, 165, 165, 165, 165, 408, 408, 408, 408, 408, 408, 408, 408, 408, 408, 408, 408, 408, 408, 408, 408, 408, 408, 408, 408, 408, 408, 408, 408, 408, 408, 408, 408, 408, 408, 408, 408, 408, 408, 408, 408, 408, 408, 408, 408, 408, 408, 408, 408, 408, 408, 408, 408, 408, 408, 408, 408, 408, 408, 408, 408, 408, 408, 408, 408, 408, 408, 408, 408, 408, 408, 408, 408, 408, 408, 408, 408, 408, 408, 408, 408, 408, 408, 408, 408, 408, 408, 408, 408, 408, 408, 408, 408, 408, 408, 408, 408, 408, 408, 408, 408, 408, 408, 408, 408, 408, 408, 408, 408, 408, 408, 408, 408, 408, 408, 408, 408, 408, 408, 408, 408, 408, 408, 408, 408, 408, 408, 408, 408, 408, 408, 408, 408, 408, 408, 408, 408, 408, 408, 408, 408, 408, 408, 408, 408, 408, 408, 408, 408, 408, 408, 408, 408, 408, 408, 408, 408, 408, 408, 408, 408, 408, 408, 408, 408, 408, 408, 408, 408, 408, 408, 408, 408, 408, 408, 408, 408, 408, 408, 408, 408, 408, 408, 408, 408, 408, 408, 408, 408, 408, 408, 408, 408, 408, 408, 408, 408, 408, 408, 408, 408, 408, 408, 408, 408, 408, 408, 408, 408, 408, 408, 408, 408, 408, 408, 408, 408, 408, 408, 114, 114, 114, 114, 114, 114, 114, 114, 114, 114, 114, 114, 114, 114, 114, 114, 114, 114, 114, 114, 114, 114, 114, 114, 114, 114, 114, 114, 114, 114, 114, 114, 114, 114, 114, 114, 114, 114, 114, 114, 114, 114, 114, 114, 114, 114, 114, 114, 114, 114, 114, 114, 114, 114, 114, 114, 114, 114, 114, 114, 114, 114, 114, 114, 114, 114, 114, 114, 114, 114, 114, 114, 114, 114, 114, 114, 114, 114, 114, 160, 160, 160, 160, 160, 160, 160, 160, 160, 160, 160, 160, 160, 160, 160, 160, 160, 160, 160, 160, 160, 160, 160, 160, 160, 160, 160, 160, 160, 160, 160, 160, 160, 160, 160, 160, 160, 160, 160, 160, 135, 135, 135, 135, 135, 135, 135, 135, 135, 135, 135, 135, 135, 135, 135, 135, 135, 135, 135, 135, 135, 135, 135, 135, 135, 135, 135, 135, 135, 135, 135, 135, 135, 135, 135, 135, 135, 135, 135, 135, 135, 135, 135, 135, 135, 135, 135, 135, 135, 135, 135, 135, 135, 135, 135, 135, 189, 189, 189, 189, 189, 189, 189, 189, 189, 189, 189, 189, 189, 189, 189, 189, 189, 189, 189, 189, 189, 189, 189, 189, 189, 189, 189, 189, 189, 189, 189, 189, 189, 189, 189, 189, 189, 189, 189, 189, 189, 189, 189, 189, 189, 189, 189, 189, 189, 189, 189, 189, 189, 189, 189, 189, 189, 189, 189, 189, 189, 189, 189, 189, 189, 144, 144, 144, 144, 144, 144, 144, 144, 144, 144, 144, 144, 144, 144, 144, 144, 144, 144, 144, 144, 144, 144, 144, 144, 144, 144, 144, 144, 144, 144, 144, 144, 144, 144, 144, 144, 144, 144, 144, 144, 144, 144, 144, 144, 144, 144, 144, 131, 131, 131, 131, 131, 131, 131, 131, 131, 131, 131, 131, 131, 131, 131, 131, 131, 131, 131, 131, 131, 131, 131, 131, 131, 131, 131, 131, 131, 132, 132, 132, 132, 132, 132, 132, 132, 132, 132, 132, 132, 132, 132, 132, 132, 132, 132, 132, 132, 132, 132, 132, 132, 132, 132, 132, 132, 132, 132, 132, 132, 132, 132, 132, 132, 132, 132, 132, 132, 132, 127, 127, 127, 127, 127, 127, 127, 127, 127, 127, 127, 127, 127, 127, 127, 127, 127, 127, 127, 127, 127, 127, 127, 127, 127, 127, 127, 127, 127, 127, 127, 127, 127, 127, 127, 127, 127, 127, 127, 127, 127, 127, 127, 127, 127, 127, 127, 127, 127, 127, 127, 127, 127, 127, 127, 127, 127, 127, 127, 127, 127, 127, 127, 127, 127, 127, 127, 127, 152, 152, 152, 152, 152, 152, 152, 152, 152, 152, 152, 152, 152, 152, 152, 152, 152, 152, 152, 152, 152, 152, 152, 152, 152, 152, 152, 152, 152, 152, 152, 152, 152, 152, 152, 152, 152, 152, 152, 152, 152, 152, 152, 152, 152, 152, 152, 152, 152, 152, 183, 183, 183, 183, 183, 183, 183, 183, 183, 183, 183, 183, 183, 183, 183, 183, 183, 183, 183, 183, 183, 183, 183, 183, 183, 183, 183, 183, 183, 183, 183, 183, 183, 183, 183, 183, 183, 183]\n"
     ]
    }
   ],
   "source": [
    "l=[]\n",
    "for i in range(len(df['Duration'])):\n",
    "    t=df['Duration'][i]\n",
    "    time=((int(t[0])*60)+(int(t[2])*10)+(int(t[3])*1))\n",
    "    l.append(time)\n",
    "print(l)"
   ]
  },
  {
   "cell_type": "code",
   "execution_count": 36,
   "id": "9ff7889c",
   "metadata": {},
   "outputs": [],
   "source": [
    "df['time']=l\n",
    "df.drop(columns=['Duration'],inplace=True\n",
    "       )"
   ]
  },
  {
   "cell_type": "code",
   "execution_count": 44,
   "id": "1bbd70c3",
   "metadata": {},
   "outputs": [
    {
     "data": {
      "application/vnd.plotly.v1+json": {
       "config": {
        "plotlyServerURL": "https://plot.ly"
       },
       "data": [
        {
         "alignmentgroup": "True",
         "hovertemplate": "rarityRank=9.0<br>Track=%{y}<extra></extra>",
         "legendgroup": "9.0",
         "marker": {
          "color": "#636efa"
         },
         "name": "9.0",
         "notched": false,
         "offsetgroup": "9.0",
         "orientation": "v",
         "showlegend": true,
         "type": "box",
         "x0": " ",
         "xaxis": "x",
         "y": [
          "Solana Days",
          "Solana Days",
          "Solana Days",
          "Solana Days",
          "Solana Days",
          "Solana Days",
          "Solana Days",
          "Solana Days",
          "Solana Days",
          "Solana Days",
          "Solana Days",
          "Solana Days",
          "Solana Days",
          "Solana Days",
          "Solana Days",
          "Solana Days",
          "Solana Days",
          "Solana Days",
          "Solana Days",
          "Solana Days",
          "Solana Days",
          "Solana Days",
          "Solana Days",
          "Solana Days",
          "Solana Days",
          "Solana Days",
          "Solana Days",
          "Solana Days",
          "Solana Days",
          "Solana Days",
          "Solana Days",
          "Solana Days",
          "Solana Days",
          "Solana Days",
          "Solana Days",
          "Solana Days",
          "Solana Days",
          "Solana Days",
          "Solana Days",
          "Solana Days",
          "Solana Days",
          "Solana Days",
          "Solana Days",
          "Solana Days",
          "Solana Days",
          "Solana Days",
          "Solana Days",
          "Solana Days",
          "Solana Days",
          "Solana Days",
          "Solana Days",
          "Solana Days",
          "Solana Days",
          "Solana Days",
          "Solana Days",
          "Solana Days",
          "Solana Days",
          "Solana Days",
          "Solana Days",
          "Solana Days",
          "Solana Days",
          "Solana Days",
          "Solana Days",
          "Solana Days",
          "Solana Days",
          "Solana Days",
          "Solana Days",
          "Solana Days",
          "Solana Days",
          "Solana Days",
          "Solana Days",
          "Solana Days",
          "Solana Days",
          "Solana Days",
          "Solana Days",
          "Solana Days",
          "Solana Days",
          "Solana Days",
          "Solana Days",
          "Solana Days",
          "Solana Days",
          "Solana Days",
          "Solana Days",
          "Solana Days",
          "Solana Days",
          "Solana Days",
          "Solana Days",
          "Solana Days",
          "Solana Days",
          "Solana Days",
          "Solana Days",
          "Solana Days",
          "Solana Days",
          "Solana Days",
          "Solana Days",
          "Solana Days",
          "Solana Days",
          "Solana Days",
          "Solana Days",
          "Solana Days",
          "Solana Days",
          "Solana Days",
          "Solana Days",
          "Solana Days",
          "Solana Days",
          "Solana Days",
          "Solana Days",
          "Solana Days",
          "Solana Days",
          "Solana Days",
          "Solana Days",
          "Solana Days",
          "Solana Days",
          "Solana Days",
          "Solana Days",
          "Solana Days",
          "Solana Days",
          "Solana Days",
          "Solana Days",
          "Solana Days",
          "Solana Days",
          "Solana Days",
          "Solana Days",
          "Solana Days",
          "Solana Days",
          "Solana Days",
          "Solana Days",
          "Solana Days",
          "Solana Days",
          "Solana Days",
          "Solana Days",
          "Solana Days",
          "Solana Days",
          "Solana Days",
          "Solana Days",
          "Solana Days",
          "Solana Days",
          "Solana Days",
          "Solana Days",
          "Solana Days",
          "Solana Days",
          "Solana Days",
          "Solana Days",
          "Solana Days",
          "Solana Days",
          "Solana Days",
          "Solana Days",
          "Solana Days",
          "Solana Days",
          "Solana Days",
          "Solana Days",
          "Solana Days",
          "Solana Days",
          "Solana Days",
          "Solana Days",
          "Solana Days",
          "Solana Days",
          "Solana Days",
          "Solana Days",
          "Solana Days",
          "Solana Days",
          "Solana Days",
          "Solana Days",
          "Solana Days",
          "Solana Days",
          "Solana Days",
          "Solana Days",
          "Solana Days",
          "Solana Days",
          "Solana Days",
          "Solana Days",
          "Solana Days",
          "Solana Days",
          "Solana Days",
          "Solana Days",
          "Solana Days",
          "Solana Days",
          "Solana Days",
          "Solana Days",
          "Solana Days",
          "Solana Days",
          "Solana Days",
          "Solana Days",
          "Solana Days",
          "Solana Days",
          "Solana Days",
          "Solana Days",
          "Solana Days",
          "Solana Days",
          "Solana Days",
          "Solana Days",
          "Solana Days",
          "Solana Days",
          "Solana Days",
          "Solana Days",
          "Solana Days",
          "Solana Days",
          "Solana Days",
          "Solana Days",
          "Solana Days",
          "Solana Days",
          "Solana Days",
          "Solana Days",
          "Solana Days",
          "Solana Days",
          "Solana Days",
          "Solana Days",
          "Solana Days",
          "Solana Days",
          "Solana Days",
          "Solana Days",
          "Solana Days",
          "Solana Days",
          "Solana Days",
          "Solana Days",
          "Solana Days",
          "Solana Days",
          "Solana Days",
          "Solana Days",
          "Solana Days",
          "Solana Days",
          "Solana Days",
          "Solana Days",
          "Solana Days",
          "Solana Days",
          "Solana Days",
          "Solana Days",
          "Solana Days",
          "Solana Days",
          "Solana Days",
          "Solana Days",
          "Solana Days",
          "Solana Days",
          "Solana Days",
          "Solana Days",
          "Solana Days",
          "Solana Days",
          "Solana Days",
          "Solana Days",
          "Solana Days",
          "Solana Days",
          "Solana Days",
          "Solana Days",
          "Solana Days",
          "Solana Days",
          "Solana Days",
          "Solana Days",
          "Solana Days",
          "Solana Days",
          "Solana Days",
          "Solana Days",
          "Solana Days",
          "Solana Days",
          "Solana Days",
          "Solana Days",
          "Solana Days",
          "Solana Days",
          "Solana Days",
          "Solana Days",
          "Solana Days",
          "Solana Days",
          "Solana Days",
          "Solana Days",
          "Solana Days",
          "Solana Days",
          "Solana Days",
          "Solana Days",
          "Solana Days",
          "Solana Days",
          "Solana Days",
          "Solana Days",
          "Solana Days",
          "Solana Days",
          "Solana Days",
          "Solana Days",
          "Solana Days",
          "Solana Days",
          "Solana Days",
          "Solana Days",
          "Solana Days",
          "Solana Days",
          "Solana Days",
          "Solana Days",
          "Solana Days",
          "Solana Days",
          "Solana Days",
          "Solana Days",
          "Solana Days",
          "Solana Days",
          "Solana Days",
          "Solana Days",
          "Solana Days",
          "Solana Days",
          "Solana Days",
          "Solana Days",
          "Solana Days",
          "Solana Days",
          "Solana Days",
          "Solana Days",
          "Solana Days",
          "Solana Days",
          "Solana Days",
          "Solana Days",
          "Solana Days",
          "Solana Days",
          "Solana Days",
          "Solana Days",
          "Solana Days",
          "Solana Days",
          "Solana Days",
          "Solana Days",
          "Solana Days",
          "Solana Days",
          "Solana Days",
          "Solana Days",
          "Solana Days",
          "Solana Days",
          "Solana Days",
          "Solana Days",
          "Solana Days",
          "Solana Days",
          "Solana Days",
          "Solana Days",
          "Solana Days",
          "Solana Days",
          "Solana Days",
          "Solana Days",
          "Solana Days",
          "Solana Days",
          "Solana Days",
          "Solana Days",
          "Solana Days",
          "Solana Days",
          "Solana Days",
          "Solana Days",
          "Solana Days",
          "Solana Days",
          "Solana Days",
          "Solana Days",
          "Solana Days",
          "Solana Days",
          "Solana Days",
          "Solana Days",
          "Solana Days",
          "Solana Days",
          "Solana Days",
          "Solana Days",
          "Solana Days",
          "Solana Days",
          "Solana Days",
          "Solana Days",
          "Solana Days",
          "Solana Days",
          "Solana Days",
          "Solana Days",
          "Solana Days",
          "Solana Days",
          "Solana Days",
          "Solana Days",
          "Solana Days",
          "Solana Days",
          "Solana Days",
          "Solana Days",
          "Solana Days",
          "Solana Days",
          "Solana Days",
          "Solana Days",
          "Solana Days",
          "Solana Days",
          "Solana Days",
          "Solana Days",
          "Solana Days",
          "Solana Days",
          "Solana Days",
          "Solana Days",
          "Solana Days",
          "Solana Days",
          "Solana Days",
          "Solana Days",
          "Solana Days",
          "Solana Days",
          "Solana Days",
          "Solana Days",
          "Solana Days",
          "Solana Days",
          "Solana Days",
          "Solana Days",
          "Solana Days",
          "Solana Days",
          "Solana Days",
          "Solana Days",
          "Solana Days",
          "Solana Days",
          "Solana Days",
          "Solana Days",
          "Solana Days",
          "Solana Days",
          "Solana Days",
          "Solana Days",
          "Solana Days",
          "Solana Days",
          "Solana Days",
          "Solana Days",
          "Solana Days",
          "Solana Days",
          "Solana Days",
          "Solana Days",
          "Solana Days",
          "Solana Days",
          "Solana Days",
          "Solana Days",
          "Solana Days",
          "Solana Days",
          "Solana Days",
          "Solana Days",
          "Solana Days",
          "Solana Days",
          "Solana Days",
          "Solana Days",
          "Solana Days"
         ],
         "y0": " ",
         "yaxis": "y"
        },
        {
         "alignmentgroup": "True",
         "hovertemplate": "rarityRank=8.0<br>Track=%{y}<extra></extra>",
         "legendgroup": "8.0",
         "marker": {
          "color": "#EF553B"
         },
         "name": "8.0",
         "notched": false,
         "offsetgroup": "8.0",
         "orientation": "v",
         "showlegend": true,
         "type": "box",
         "x0": " ",
         "xaxis": "x",
         "y": [
          "Go Ape Go",
          "Go Ape Go",
          "Go Ape Go",
          "Go Ape Go",
          "Go Ape Go",
          "Go Ape Go",
          "Go Ape Go",
          "Go Ape Go",
          "Go Ape Go",
          "Go Ape Go",
          "Go Ape Go",
          "Go Ape Go",
          "Go Ape Go",
          "Go Ape Go",
          "Go Ape Go",
          "Go Ape Go",
          "Go Ape Go",
          "Go Ape Go",
          "Go Ape Go",
          "Go Ape Go",
          "Go Ape Go",
          "Go Ape Go",
          "Go Ape Go",
          "Go Ape Go",
          "Go Ape Go",
          "Go Ape Go",
          "Go Ape Go",
          "Go Ape Go",
          "Go Ape Go",
          "Go Ape Go",
          "Go Ape Go",
          "Go Ape Go",
          "Go Ape Go",
          "Go Ape Go",
          "Go Ape Go",
          "Go Ape Go",
          "Go Ape Go",
          "Go Ape Go",
          "Go Ape Go",
          "Go Ape Go",
          "Go Ape Go",
          "Go Ape Go",
          "Go Ape Go",
          "Go Ape Go",
          "Go Ape Go",
          "Go Ape Go",
          "Go Ape Go",
          "Go Ape Go",
          "Go Ape Go",
          "Go Ape Go",
          "Go Ape Go",
          "Go Ape Go",
          "Go Ape Go",
          "Go Ape Go",
          "Go Ape Go",
          "Go Ape Go",
          "Go Ape Go",
          "Go Ape Go",
          "Go Ape Go",
          "Go Ape Go",
          "Go Ape Go",
          "Go Ape Go",
          "Go Ape Go",
          "Go Ape Go",
          "Go Ape Go",
          "Go Ape Go",
          "Go Ape Go",
          "Go Ape Go",
          "Go Ape Go",
          "Go Ape Go",
          "Go Ape Go",
          "Go Ape Go",
          "Go Ape Go",
          "Go Ape Go",
          "Go Ape Go",
          "Go Ape Go",
          "Go Ape Go",
          "Go Ape Go",
          "Go Ape Go",
          "Go Ape Go",
          "Go Ape Go",
          "Go Ape Go",
          "Go Ape Go",
          "Go Ape Go",
          "Go Ape Go",
          "Go Ape Go",
          "Go Ape Go",
          "Go Ape Go",
          "Go Ape Go",
          "Go Ape Go",
          "Go Ape Go",
          "Go Ape Go",
          "Go Ape Go",
          "Go Ape Go",
          "Go Ape Go",
          "Go Ape Go",
          "Go Ape Go",
          "Go Ape Go",
          "Go Ape Go",
          "Go Ape Go",
          "Go Ape Go",
          "Go Ape Go",
          "Go Ape Go",
          "Go Ape Go",
          "Go Ape Go",
          "Go Ape Go",
          "Go Ape Go",
          "Go Ape Go",
          "Go Ape Go",
          "Go Ape Go",
          "Go Ape Go",
          "Go Ape Go",
          "Go Ape Go",
          "Go Ape Go",
          "Go Ape Go",
          "Go Ape Go",
          "Go Ape Go",
          "Go Ape Go",
          "Go Ape Go",
          "Go Ape Go",
          "Go Ape Go",
          "Go Ape Go",
          "Go Ape Go",
          "Go Ape Go",
          "Go Ape Go",
          "Go Ape Go",
          "Go Ape Go",
          "Go Ape Go",
          "Go Ape Go",
          "Go Ape Go",
          "Go Ape Go",
          "Go Ape Go",
          "Go Ape Go",
          "Go Ape Go",
          "Go Ape Go",
          "Go Ape Go",
          "Go Ape Go",
          "Go Ape Go",
          "Go Ape Go",
          "Go Ape Go",
          "Go Ape Go",
          "Go Ape Go",
          "Go Ape Go",
          "Go Ape Go",
          "Go Ape Go",
          "Go Ape Go",
          "Go Ape Go",
          "Go Ape Go",
          "Go Ape Go",
          "Go Ape Go",
          "Go Ape Go",
          "Go Ape Go",
          "Go Ape Go",
          "Go Ape Go",
          "Go Ape Go",
          "Go Ape Go",
          "Go Ape Go",
          "Go Ape Go",
          "Go Ape Go",
          "Go Ape Go",
          "Go Ape Go",
          "Go Ape Go",
          "Go Ape Go",
          "Go Ape Go",
          "Go Ape Go",
          "Go Ape Go",
          "Go Ape Go",
          "Go Ape Go",
          "Go Ape Go",
          "Go Ape Go",
          "Go Ape Go",
          "Go Ape Go",
          "Go Ape Go",
          "Go Ape Go",
          "Go Ape Go",
          "Go Ape Go",
          "Go Ape Go",
          "Go Ape Go",
          "Go Ape Go",
          "Go Ape Go",
          "Go Ape Go",
          "Go Ape Go",
          "Go Ape Go",
          "Go Ape Go",
          "Go Ape Go",
          "Go Ape Go",
          "Go Ape Go",
          "Go Ape Go",
          "Go Ape Go",
          "Go Ape Go",
          "Go Ape Go",
          "Go Ape Go",
          "Go Ape Go",
          "Go Ape Go",
          "Go Ape Go",
          "Go Ape Go",
          "Go Ape Go",
          "Go Ape Go",
          "Go Ape Go",
          "Go Ape Go",
          "Go Ape Go",
          "Go Ape Go",
          "Go Ape Go",
          "Go Ape Go",
          "Go Ape Go",
          "Go Ape Go",
          "Go Ape Go",
          "Go Ape Go",
          "Go Ape Go",
          "Go Ape Go",
          "Go Ape Go",
          "Go Ape Go",
          "Go Ape Go",
          "Go Ape Go"
         ],
         "y0": " ",
         "yaxis": "y"
        },
        {
         "alignmentgroup": "True",
         "hovertemplate": "rarityRank=7.0<br>Track=%{y}<extra></extra>",
         "legendgroup": "7.0",
         "marker": {
          "color": "#00cc96"
         },
         "name": "7.0",
         "notched": false,
         "offsetgroup": "7.0",
         "orientation": "v",
         "showlegend": true,
         "type": "box",
         "x0": " ",
         "xaxis": "x",
         "y": [
          "Dude on the Dance Floor",
          "Dude on the Dance Floor",
          "Dude on the Dance Floor",
          "Dude on the Dance Floor",
          "Dude on the Dance Floor",
          "Dude on the Dance Floor",
          "Dude on the Dance Floor",
          "Dude on the Dance Floor",
          "Dude on the Dance Floor",
          "Dude on the Dance Floor",
          "Dude on the Dance Floor",
          "Dude on the Dance Floor",
          "Dude on the Dance Floor",
          "Dude on the Dance Floor",
          "Dude on the Dance Floor",
          "Dude on the Dance Floor",
          "Dude on the Dance Floor",
          "Dude on the Dance Floor",
          "Dude on the Dance Floor",
          "Dude on the Dance Floor",
          "Dude on the Dance Floor",
          "Dude on the Dance Floor",
          "Dude on the Dance Floor",
          "Dude on the Dance Floor",
          "Dude on the Dance Floor",
          "Dude on the Dance Floor",
          "Dude on the Dance Floor",
          "Dude on the Dance Floor",
          "Dude on the Dance Floor",
          "Dude on the Dance Floor",
          "Dude on the Dance Floor",
          "Dude on the Dance Floor",
          "Dude on the Dance Floor",
          "Dude on the Dance Floor",
          "Dude on the Dance Floor",
          "Dude on the Dance Floor",
          "Dude on the Dance Floor",
          "Dude on the Dance Floor",
          "Dude on the Dance Floor",
          "Dude on the Dance Floor",
          "Dude on the Dance Floor",
          "Dude on the Dance Floor",
          "Dude on the Dance Floor",
          "Dude on the Dance Floor",
          "Dude on the Dance Floor",
          "Dude on the Dance Floor",
          "Dude on the Dance Floor",
          "Dude on the Dance Floor",
          "Dude on the Dance Floor",
          "Dude on the Dance Floor",
          "Dude on the Dance Floor",
          "Dude on the Dance Floor",
          "Dude on the Dance Floor",
          "Dude on the Dance Floor",
          "Dude on the Dance Floor",
          "Dude on the Dance Floor",
          "Dude on the Dance Floor",
          "Dude on the Dance Floor",
          "Dude on the Dance Floor",
          "Dude on the Dance Floor",
          "Dude on the Dance Floor",
          "Dude on the Dance Floor",
          "Dude on the Dance Floor",
          "Dude on the Dance Floor",
          "Dude on the Dance Floor",
          "Dude on the Dance Floor",
          "Dude on the Dance Floor",
          "Dude on the Dance Floor",
          "Dude on the Dance Floor",
          "Dude on the Dance Floor",
          "Dude on the Dance Floor",
          "Dude on the Dance Floor",
          "Dude on the Dance Floor",
          "Dude on the Dance Floor",
          "Dude on the Dance Floor",
          "Dude on the Dance Floor",
          "Dude on the Dance Floor",
          "Dude on the Dance Floor",
          "Dude on the Dance Floor"
         ],
         "y0": " ",
         "yaxis": "y"
        },
        {
         "alignmentgroup": "True",
         "hovertemplate": "rarityRank=1.0<br>Track=%{y}<extra></extra>",
         "legendgroup": "1.0",
         "marker": {
          "color": "#ab63fa"
         },
         "name": "1.0",
         "notched": false,
         "offsetgroup": "1.0",
         "orientation": "v",
         "showlegend": true,
         "type": "box",
         "x0": " ",
         "xaxis": "x",
         "y": [
          "Slumberville",
          "Slumberville",
          "Slumberville",
          "Slumberville",
          "Slumberville",
          "Slumberville",
          "Slumberville",
          "Slumberville",
          "Slumberville",
          "Slumberville",
          "Slumberville",
          "Slumberville",
          "Slumberville",
          "Slumberville",
          "Slumberville",
          "Slumberville",
          "Slumberville",
          "Slumberville",
          "Slumberville",
          "Slumberville",
          "Slumberville",
          "Slumberville",
          "Slumberville",
          "Slumberville",
          "Slumberville",
          "Slumberville",
          "Slumberville",
          "Slumberville",
          "Slumberville",
          "Slumberville",
          "Slumberville",
          "Slumberville",
          "Slumberville",
          "Slumberville",
          "Slumberville",
          "Slumberville",
          "Slumberville",
          "Slumberville",
          "Slumberville",
          "Slumberville",
          "The Beat Bop",
          "The Beat Bop",
          "The Beat Bop",
          "The Beat Bop",
          "The Beat Bop",
          "The Beat Bop",
          "The Beat Bop",
          "The Beat Bop",
          "The Beat Bop",
          "The Beat Bop",
          "The Beat Bop",
          "The Beat Bop",
          "The Beat Bop",
          "The Beat Bop",
          "The Beat Bop",
          "The Beat Bop",
          "The Beat Bop",
          "The Beat Bop",
          "The Beat Bop",
          "The Beat Bop",
          "The Beat Bop",
          "The Beat Bop",
          "The Beat Bop",
          "The Beat Bop",
          "The Beat Bop",
          "The Beat Bop",
          "The Beat Bop",
          "The Beat Bop",
          "The Beat Bop"
         ],
         "y0": " ",
         "yaxis": "y"
        },
        {
         "alignmentgroup": "True",
         "hovertemplate": "rarityRank=4.0<br>Track=%{y}<extra></extra>",
         "legendgroup": "4.0",
         "marker": {
          "color": "#FFA15A"
         },
         "name": "4.0",
         "notched": false,
         "offsetgroup": "4.0",
         "orientation": "v",
         "showlegend": true,
         "type": "box",
         "x0": " ",
         "xaxis": "x",
         "y": [
          "Balance",
          "Balance",
          "Balance",
          "Balance",
          "Balance",
          "Balance",
          "Balance",
          "Balance",
          "Balance",
          "Balance",
          "Balance",
          "Balance",
          "Balance",
          "Balance",
          "Balance",
          "Balance",
          "Balance",
          "Balance",
          "Balance",
          "Balance",
          "Balance",
          "Balance",
          "Balance",
          "Balance",
          "Balance",
          "Balance",
          "Balance",
          "Balance",
          "Balance",
          "Balance",
          "Balance",
          "Balance",
          "Balance",
          "Balance",
          "Balance",
          "Balance",
          "Balance",
          "Balance",
          "Balance",
          "Balance",
          "Balance",
          "Balance",
          "Balance",
          "Balance",
          "Balance",
          "Balance",
          "Balance",
          "Balance",
          "Balance",
          "Balance",
          "Balance",
          "Balance",
          "Balance",
          "Balance",
          "Balance",
          "Balance"
         ],
         "y0": " ",
         "yaxis": "y"
        },
        {
         "alignmentgroup": "True",
         "hovertemplate": "rarityRank=6.0<br>Track=%{y}<extra></extra>",
         "legendgroup": "6.0",
         "marker": {
          "color": "#19d3f3"
         },
         "name": "6.0",
         "notched": false,
         "offsetgroup": "6.0",
         "orientation": "v",
         "showlegend": true,
         "type": "box",
         "x0": " ",
         "xaxis": "x",
         "y": [
          "Step In Flow",
          "Step In Flow",
          "Step In Flow",
          "Step In Flow",
          "Step In Flow",
          "Step In Flow",
          "Step In Flow",
          "Step In Flow",
          "Step In Flow",
          "Step In Flow",
          "Step In Flow",
          "Step In Flow",
          "Step In Flow",
          "Step In Flow",
          "Step In Flow",
          "Step In Flow",
          "Step In Flow",
          "Step In Flow",
          "Step In Flow",
          "Step In Flow",
          "Step In Flow",
          "Step In Flow",
          "Step In Flow",
          "Step In Flow",
          "Step In Flow",
          "Step In Flow",
          "Step In Flow",
          "Step In Flow",
          "Step In Flow",
          "Step In Flow",
          "Step In Flow",
          "Step In Flow",
          "Step In Flow",
          "Step In Flow",
          "Step In Flow",
          "Step In Flow",
          "Step In Flow",
          "Step In Flow",
          "Step In Flow",
          "Step In Flow",
          "Step In Flow",
          "Step In Flow",
          "Step In Flow",
          "Step In Flow",
          "Step In Flow",
          "Step In Flow",
          "Step In Flow",
          "Step In Flow",
          "Step In Flow",
          "Step In Flow",
          "Step In Flow",
          "Step In Flow",
          "Step In Flow",
          "Step In Flow",
          "Step In Flow",
          "Step In Flow",
          "Step In Flow",
          "Step In Flow",
          "Step In Flow",
          "Step In Flow",
          "Step In Flow",
          "Step In Flow",
          "Step In Flow",
          "Step In Flow",
          "Step In Flow"
         ],
         "y0": " ",
         "yaxis": "y"
        },
        {
         "alignmentgroup": "True",
         "hovertemplate": "rarityRank=2.0<br>Track=%{y}<extra></extra>",
         "legendgroup": "2.0",
         "marker": {
          "color": "#FF6692"
         },
         "name": "2.0",
         "notched": false,
         "offsetgroup": "2.0",
         "orientation": "v",
         "showlegend": true,
         "type": "box",
         "x0": " ",
         "xaxis": "x",
         "y": [
          "First Flight",
          "First Flight",
          "First Flight",
          "First Flight",
          "First Flight",
          "First Flight",
          "First Flight",
          "First Flight",
          "First Flight",
          "First Flight",
          "First Flight",
          "First Flight",
          "First Flight",
          "First Flight",
          "First Flight",
          "First Flight",
          "First Flight",
          "First Flight",
          "First Flight",
          "First Flight",
          "First Flight",
          "First Flight",
          "First Flight",
          "First Flight",
          "First Flight",
          "First Flight",
          "First Flight",
          "First Flight",
          "First Flight",
          "First Flight",
          "First Flight",
          "First Flight",
          "First Flight",
          "First Flight",
          "First Flight",
          "First Flight",
          "First Flight",
          "First Flight",
          "First Flight",
          "First Flight",
          "First Flight",
          "First Flight",
          "First Flight",
          "First Flight",
          "First Flight",
          "First Flight",
          "First Flight",
          "The Path Beyond",
          "The Path Beyond",
          "The Path Beyond",
          "The Path Beyond",
          "The Path Beyond",
          "The Path Beyond",
          "The Path Beyond",
          "The Path Beyond",
          "The Path Beyond",
          "The Path Beyond",
          "The Path Beyond",
          "The Path Beyond",
          "The Path Beyond",
          "The Path Beyond",
          "The Path Beyond",
          "The Path Beyond",
          "The Path Beyond",
          "The Path Beyond",
          "The Path Beyond",
          "The Path Beyond",
          "The Path Beyond",
          "The Path Beyond",
          "The Path Beyond",
          "The Path Beyond",
          "The Path Beyond",
          "The Path Beyond",
          "The Path Beyond",
          "The Path Beyond",
          "The Path Beyond",
          "The Path Beyond",
          "The Path Beyond",
          "The Path Beyond",
          "The Path Beyond",
          "The Path Beyond",
          "The Path Beyond",
          "The Path Beyond",
          "The Path Beyond",
          "The Path Beyond",
          "The Path Beyond",
          "The Path Beyond",
          "The Path Beyond",
          "Unlimited",
          "Unlimited",
          "Unlimited",
          "Unlimited",
          "Unlimited",
          "Unlimited",
          "Unlimited",
          "Unlimited",
          "Unlimited",
          "Unlimited",
          "Unlimited",
          "Unlimited",
          "Unlimited",
          "Unlimited",
          "Unlimited",
          "Unlimited",
          "Unlimited",
          "Unlimited",
          "Unlimited",
          "Unlimited",
          "Unlimited",
          "Unlimited",
          "Unlimited",
          "Unlimited",
          "Unlimited",
          "Unlimited",
          "Unlimited",
          "Unlimited",
          "Unlimited",
          "Unlimited",
          "Unlimited",
          "Unlimited",
          "Unlimited",
          "Unlimited",
          "Unlimited",
          "Unlimited",
          "Unlimited",
          "Unlimited",
          "Unlimited",
          "Unlimited",
          "Unlimited",
          "Unlimited",
          "Unlimited",
          "Unlimited",
          "Unlimited",
          "Unlimited",
          "Unlimited",
          "Unlimited",
          "Unlimited",
          "Unlimited"
         ],
         "y0": " ",
         "yaxis": "y"
        },
        {
         "alignmentgroup": "True",
         "hovertemplate": "rarityRank=5.0<br>Track=%{y}<extra></extra>",
         "legendgroup": "5.0",
         "marker": {
          "color": "#B6E880"
         },
         "name": "5.0",
         "notched": false,
         "offsetgroup": "5.0",
         "orientation": "v",
         "showlegend": true,
         "type": "box",
         "x0": " ",
         "xaxis": "x",
         "y": [
          "Funky Ghosts",
          "Funky Ghosts",
          "Funky Ghosts",
          "Funky Ghosts",
          "Funky Ghosts",
          "Funky Ghosts",
          "Funky Ghosts",
          "Funky Ghosts",
          "Funky Ghosts",
          "Funky Ghosts",
          "Funky Ghosts",
          "Funky Ghosts",
          "Funky Ghosts",
          "Funky Ghosts",
          "Funky Ghosts",
          "Funky Ghosts",
          "Funky Ghosts",
          "Funky Ghosts",
          "Funky Ghosts",
          "Funky Ghosts",
          "Funky Ghosts",
          "Funky Ghosts",
          "Funky Ghosts",
          "Funky Ghosts",
          "Funky Ghosts",
          "Funky Ghosts",
          "Funky Ghosts",
          "Funky Ghosts",
          "Funky Ghosts",
          "Funky Ghosts",
          "Funky Ghosts",
          "Funky Ghosts",
          "Funky Ghosts",
          "Funky Ghosts",
          "Funky Ghosts",
          "Funky Ghosts",
          "Funky Ghosts",
          "Funky Ghosts",
          "Funky Ghosts",
          "Funky Ghosts",
          "Funky Ghosts",
          "Funky Ghosts",
          "Funky Ghosts",
          "Funky Ghosts",
          "Funky Ghosts",
          "Funky Ghosts",
          "Funky Ghosts",
          "Funky Ghosts",
          "Funky Ghosts",
          "Funky Ghosts",
          "Funky Ghosts",
          "Funky Ghosts",
          "Funky Ghosts",
          "Funky Ghosts",
          "Funky Ghosts",
          "Funky Ghosts",
          "Funky Ghosts",
          "Funky Ghosts",
          "Funky Ghosts",
          "Funky Ghosts",
          "Funky Ghosts",
          "Funky Ghosts",
          "Funky Ghosts",
          "Funky Ghosts",
          "Funky Ghosts",
          "Funky Ghosts",
          "Funky Ghosts",
          "Funky Ghosts"
         ],
         "y0": " ",
         "yaxis": "y"
        },
        {
         "alignmentgroup": "True",
         "hovertemplate": "rarityRank=3.0<br>Track=%{y}<extra></extra>",
         "legendgroup": "3.0",
         "marker": {
          "color": "#FF97FF"
         },
         "name": "3.0",
         "notched": false,
         "offsetgroup": "3.0",
         "orientation": "v",
         "showlegend": true,
         "type": "box",
         "x0": " ",
         "xaxis": "x",
         "y": [
          "A New Dawn",
          "A New Dawn",
          "A New Dawn",
          "A New Dawn",
          "A New Dawn",
          "A New Dawn",
          "A New Dawn",
          "A New Dawn",
          "A New Dawn",
          "A New Dawn",
          "A New Dawn",
          "A New Dawn",
          "A New Dawn",
          "A New Dawn",
          "A New Dawn",
          "A New Dawn",
          "A New Dawn",
          "A New Dawn",
          "A New Dawn",
          "A New Dawn",
          "A New Dawn",
          "A New Dawn",
          "A New Dawn",
          "A New Dawn",
          "A New Dawn",
          "A New Dawn",
          "A New Dawn",
          "A New Dawn",
          "A New Dawn",
          "A New Dawn",
          "A New Dawn",
          "A New Dawn",
          "A New Dawn",
          "A New Dawn",
          "A New Dawn",
          "A New Dawn",
          "A New Dawn",
          "A New Dawn"
         ],
         "y0": " ",
         "yaxis": "y"
        }
       ],
       "layout": {
        "boxmode": "group",
        "legend": {
         "title": {
          "text": "rarityRank"
         },
         "tracegroupgap": 0
        },
        "margin": {
         "t": 60
        },
        "template": {
         "data": {
          "bar": [
           {
            "error_x": {
             "color": "#2a3f5f"
            },
            "error_y": {
             "color": "#2a3f5f"
            },
            "marker": {
             "line": {
              "color": "#E5ECF6",
              "width": 0.5
             },
             "pattern": {
              "fillmode": "overlay",
              "size": 10,
              "solidity": 0.2
             }
            },
            "type": "bar"
           }
          ],
          "barpolar": [
           {
            "marker": {
             "line": {
              "color": "#E5ECF6",
              "width": 0.5
             },
             "pattern": {
              "fillmode": "overlay",
              "size": 10,
              "solidity": 0.2
             }
            },
            "type": "barpolar"
           }
          ],
          "carpet": [
           {
            "aaxis": {
             "endlinecolor": "#2a3f5f",
             "gridcolor": "white",
             "linecolor": "white",
             "minorgridcolor": "white",
             "startlinecolor": "#2a3f5f"
            },
            "baxis": {
             "endlinecolor": "#2a3f5f",
             "gridcolor": "white",
             "linecolor": "white",
             "minorgridcolor": "white",
             "startlinecolor": "#2a3f5f"
            },
            "type": "carpet"
           }
          ],
          "choropleth": [
           {
            "colorbar": {
             "outlinewidth": 0,
             "ticks": ""
            },
            "type": "choropleth"
           }
          ],
          "contour": [
           {
            "colorbar": {
             "outlinewidth": 0,
             "ticks": ""
            },
            "colorscale": [
             [
              0,
              "#0d0887"
             ],
             [
              0.1111111111111111,
              "#46039f"
             ],
             [
              0.2222222222222222,
              "#7201a8"
             ],
             [
              0.3333333333333333,
              "#9c179e"
             ],
             [
              0.4444444444444444,
              "#bd3786"
             ],
             [
              0.5555555555555556,
              "#d8576b"
             ],
             [
              0.6666666666666666,
              "#ed7953"
             ],
             [
              0.7777777777777778,
              "#fb9f3a"
             ],
             [
              0.8888888888888888,
              "#fdca26"
             ],
             [
              1,
              "#f0f921"
             ]
            ],
            "type": "contour"
           }
          ],
          "contourcarpet": [
           {
            "colorbar": {
             "outlinewidth": 0,
             "ticks": ""
            },
            "type": "contourcarpet"
           }
          ],
          "heatmap": [
           {
            "colorbar": {
             "outlinewidth": 0,
             "ticks": ""
            },
            "colorscale": [
             [
              0,
              "#0d0887"
             ],
             [
              0.1111111111111111,
              "#46039f"
             ],
             [
              0.2222222222222222,
              "#7201a8"
             ],
             [
              0.3333333333333333,
              "#9c179e"
             ],
             [
              0.4444444444444444,
              "#bd3786"
             ],
             [
              0.5555555555555556,
              "#d8576b"
             ],
             [
              0.6666666666666666,
              "#ed7953"
             ],
             [
              0.7777777777777778,
              "#fb9f3a"
             ],
             [
              0.8888888888888888,
              "#fdca26"
             ],
             [
              1,
              "#f0f921"
             ]
            ],
            "type": "heatmap"
           }
          ],
          "heatmapgl": [
           {
            "colorbar": {
             "outlinewidth": 0,
             "ticks": ""
            },
            "colorscale": [
             [
              0,
              "#0d0887"
             ],
             [
              0.1111111111111111,
              "#46039f"
             ],
             [
              0.2222222222222222,
              "#7201a8"
             ],
             [
              0.3333333333333333,
              "#9c179e"
             ],
             [
              0.4444444444444444,
              "#bd3786"
             ],
             [
              0.5555555555555556,
              "#d8576b"
             ],
             [
              0.6666666666666666,
              "#ed7953"
             ],
             [
              0.7777777777777778,
              "#fb9f3a"
             ],
             [
              0.8888888888888888,
              "#fdca26"
             ],
             [
              1,
              "#f0f921"
             ]
            ],
            "type": "heatmapgl"
           }
          ],
          "histogram": [
           {
            "marker": {
             "pattern": {
              "fillmode": "overlay",
              "size": 10,
              "solidity": 0.2
             }
            },
            "type": "histogram"
           }
          ],
          "histogram2d": [
           {
            "colorbar": {
             "outlinewidth": 0,
             "ticks": ""
            },
            "colorscale": [
             [
              0,
              "#0d0887"
             ],
             [
              0.1111111111111111,
              "#46039f"
             ],
             [
              0.2222222222222222,
              "#7201a8"
             ],
             [
              0.3333333333333333,
              "#9c179e"
             ],
             [
              0.4444444444444444,
              "#bd3786"
             ],
             [
              0.5555555555555556,
              "#d8576b"
             ],
             [
              0.6666666666666666,
              "#ed7953"
             ],
             [
              0.7777777777777778,
              "#fb9f3a"
             ],
             [
              0.8888888888888888,
              "#fdca26"
             ],
             [
              1,
              "#f0f921"
             ]
            ],
            "type": "histogram2d"
           }
          ],
          "histogram2dcontour": [
           {
            "colorbar": {
             "outlinewidth": 0,
             "ticks": ""
            },
            "colorscale": [
             [
              0,
              "#0d0887"
             ],
             [
              0.1111111111111111,
              "#46039f"
             ],
             [
              0.2222222222222222,
              "#7201a8"
             ],
             [
              0.3333333333333333,
              "#9c179e"
             ],
             [
              0.4444444444444444,
              "#bd3786"
             ],
             [
              0.5555555555555556,
              "#d8576b"
             ],
             [
              0.6666666666666666,
              "#ed7953"
             ],
             [
              0.7777777777777778,
              "#fb9f3a"
             ],
             [
              0.8888888888888888,
              "#fdca26"
             ],
             [
              1,
              "#f0f921"
             ]
            ],
            "type": "histogram2dcontour"
           }
          ],
          "mesh3d": [
           {
            "colorbar": {
             "outlinewidth": 0,
             "ticks": ""
            },
            "type": "mesh3d"
           }
          ],
          "parcoords": [
           {
            "line": {
             "colorbar": {
              "outlinewidth": 0,
              "ticks": ""
             }
            },
            "type": "parcoords"
           }
          ],
          "pie": [
           {
            "automargin": true,
            "type": "pie"
           }
          ],
          "scatter": [
           {
            "fillpattern": {
             "fillmode": "overlay",
             "size": 10,
             "solidity": 0.2
            },
            "type": "scatter"
           }
          ],
          "scatter3d": [
           {
            "line": {
             "colorbar": {
              "outlinewidth": 0,
              "ticks": ""
             }
            },
            "marker": {
             "colorbar": {
              "outlinewidth": 0,
              "ticks": ""
             }
            },
            "type": "scatter3d"
           }
          ],
          "scattercarpet": [
           {
            "marker": {
             "colorbar": {
              "outlinewidth": 0,
              "ticks": ""
             }
            },
            "type": "scattercarpet"
           }
          ],
          "scattergeo": [
           {
            "marker": {
             "colorbar": {
              "outlinewidth": 0,
              "ticks": ""
             }
            },
            "type": "scattergeo"
           }
          ],
          "scattergl": [
           {
            "marker": {
             "colorbar": {
              "outlinewidth": 0,
              "ticks": ""
             }
            },
            "type": "scattergl"
           }
          ],
          "scattermapbox": [
           {
            "marker": {
             "colorbar": {
              "outlinewidth": 0,
              "ticks": ""
             }
            },
            "type": "scattermapbox"
           }
          ],
          "scatterpolar": [
           {
            "marker": {
             "colorbar": {
              "outlinewidth": 0,
              "ticks": ""
             }
            },
            "type": "scatterpolar"
           }
          ],
          "scatterpolargl": [
           {
            "marker": {
             "colorbar": {
              "outlinewidth": 0,
              "ticks": ""
             }
            },
            "type": "scatterpolargl"
           }
          ],
          "scatterternary": [
           {
            "marker": {
             "colorbar": {
              "outlinewidth": 0,
              "ticks": ""
             }
            },
            "type": "scatterternary"
           }
          ],
          "surface": [
           {
            "colorbar": {
             "outlinewidth": 0,
             "ticks": ""
            },
            "colorscale": [
             [
              0,
              "#0d0887"
             ],
             [
              0.1111111111111111,
              "#46039f"
             ],
             [
              0.2222222222222222,
              "#7201a8"
             ],
             [
              0.3333333333333333,
              "#9c179e"
             ],
             [
              0.4444444444444444,
              "#bd3786"
             ],
             [
              0.5555555555555556,
              "#d8576b"
             ],
             [
              0.6666666666666666,
              "#ed7953"
             ],
             [
              0.7777777777777778,
              "#fb9f3a"
             ],
             [
              0.8888888888888888,
              "#fdca26"
             ],
             [
              1,
              "#f0f921"
             ]
            ],
            "type": "surface"
           }
          ],
          "table": [
           {
            "cells": {
             "fill": {
              "color": "#EBF0F8"
             },
             "line": {
              "color": "white"
             }
            },
            "header": {
             "fill": {
              "color": "#C8D4E3"
             },
             "line": {
              "color": "white"
             }
            },
            "type": "table"
           }
          ]
         },
         "layout": {
          "annotationdefaults": {
           "arrowcolor": "#2a3f5f",
           "arrowhead": 0,
           "arrowwidth": 1
          },
          "autotypenumbers": "strict",
          "coloraxis": {
           "colorbar": {
            "outlinewidth": 0,
            "ticks": ""
           }
          },
          "colorscale": {
           "diverging": [
            [
             0,
             "#8e0152"
            ],
            [
             0.1,
             "#c51b7d"
            ],
            [
             0.2,
             "#de77ae"
            ],
            [
             0.3,
             "#f1b6da"
            ],
            [
             0.4,
             "#fde0ef"
            ],
            [
             0.5,
             "#f7f7f7"
            ],
            [
             0.6,
             "#e6f5d0"
            ],
            [
             0.7,
             "#b8e186"
            ],
            [
             0.8,
             "#7fbc41"
            ],
            [
             0.9,
             "#4d9221"
            ],
            [
             1,
             "#276419"
            ]
           ],
           "sequential": [
            [
             0,
             "#0d0887"
            ],
            [
             0.1111111111111111,
             "#46039f"
            ],
            [
             0.2222222222222222,
             "#7201a8"
            ],
            [
             0.3333333333333333,
             "#9c179e"
            ],
            [
             0.4444444444444444,
             "#bd3786"
            ],
            [
             0.5555555555555556,
             "#d8576b"
            ],
            [
             0.6666666666666666,
             "#ed7953"
            ],
            [
             0.7777777777777778,
             "#fb9f3a"
            ],
            [
             0.8888888888888888,
             "#fdca26"
            ],
            [
             1,
             "#f0f921"
            ]
           ],
           "sequentialminus": [
            [
             0,
             "#0d0887"
            ],
            [
             0.1111111111111111,
             "#46039f"
            ],
            [
             0.2222222222222222,
             "#7201a8"
            ],
            [
             0.3333333333333333,
             "#9c179e"
            ],
            [
             0.4444444444444444,
             "#bd3786"
            ],
            [
             0.5555555555555556,
             "#d8576b"
            ],
            [
             0.6666666666666666,
             "#ed7953"
            ],
            [
             0.7777777777777778,
             "#fb9f3a"
            ],
            [
             0.8888888888888888,
             "#fdca26"
            ],
            [
             1,
             "#f0f921"
            ]
           ]
          },
          "colorway": [
           "#636efa",
           "#EF553B",
           "#00cc96",
           "#ab63fa",
           "#FFA15A",
           "#19d3f3",
           "#FF6692",
           "#B6E880",
           "#FF97FF",
           "#FECB52"
          ],
          "font": {
           "color": "#2a3f5f"
          },
          "geo": {
           "bgcolor": "white",
           "lakecolor": "white",
           "landcolor": "#E5ECF6",
           "showlakes": true,
           "showland": true,
           "subunitcolor": "white"
          },
          "hoverlabel": {
           "align": "left"
          },
          "hovermode": "closest",
          "mapbox": {
           "style": "light"
          },
          "paper_bgcolor": "white",
          "plot_bgcolor": "#E5ECF6",
          "polar": {
           "angularaxis": {
            "gridcolor": "white",
            "linecolor": "white",
            "ticks": ""
           },
           "bgcolor": "#E5ECF6",
           "radialaxis": {
            "gridcolor": "white",
            "linecolor": "white",
            "ticks": ""
           }
          },
          "scene": {
           "xaxis": {
            "backgroundcolor": "#E5ECF6",
            "gridcolor": "white",
            "gridwidth": 2,
            "linecolor": "white",
            "showbackground": true,
            "ticks": "",
            "zerolinecolor": "white"
           },
           "yaxis": {
            "backgroundcolor": "#E5ECF6",
            "gridcolor": "white",
            "gridwidth": 2,
            "linecolor": "white",
            "showbackground": true,
            "ticks": "",
            "zerolinecolor": "white"
           },
           "zaxis": {
            "backgroundcolor": "#E5ECF6",
            "gridcolor": "white",
            "gridwidth": 2,
            "linecolor": "white",
            "showbackground": true,
            "ticks": "",
            "zerolinecolor": "white"
           }
          },
          "shapedefaults": {
           "line": {
            "color": "#2a3f5f"
           }
          },
          "ternary": {
           "aaxis": {
            "gridcolor": "white",
            "linecolor": "white",
            "ticks": ""
           },
           "baxis": {
            "gridcolor": "white",
            "linecolor": "white",
            "ticks": ""
           },
           "bgcolor": "#E5ECF6",
           "caxis": {
            "gridcolor": "white",
            "linecolor": "white",
            "ticks": ""
           }
          },
          "title": {
           "x": 0.05
          },
          "xaxis": {
           "automargin": true,
           "gridcolor": "white",
           "linecolor": "white",
           "ticks": "",
           "title": {
            "standoff": 15
           },
           "zerolinecolor": "white",
           "zerolinewidth": 2
          },
          "yaxis": {
           "automargin": true,
           "gridcolor": "white",
           "linecolor": "white",
           "ticks": "",
           "title": {
            "standoff": 15
           },
           "zerolinecolor": "white",
           "zerolinewidth": 2
          }
         }
        },
        "xaxis": {
         "anchor": "y",
         "domain": [
          0,
          1
         ]
        },
        "yaxis": {
         "anchor": "x",
         "domain": [
          0,
          1
         ],
         "title": {
          "text": "Track"
         }
        }
       }
      },
      "text/html": [
       "<div>                            <div id=\"c66f6099-7cf9-4b6b-b0db-9cce9d2c7d24\" class=\"plotly-graph-div\" style=\"height:525px; width:100%;\"></div>            <script type=\"text/javascript\">                require([\"plotly\"], function(Plotly) {                    window.PLOTLYENV=window.PLOTLYENV || {};                                    if (document.getElementById(\"c66f6099-7cf9-4b6b-b0db-9cce9d2c7d24\")) {                    Plotly.newPlot(                        \"c66f6099-7cf9-4b6b-b0db-9cce9d2c7d24\",                        [{\"alignmentgroup\":\"True\",\"hovertemplate\":\"rarityRank=9.0<br>Track=%{y}<extra></extra>\",\"legendgroup\":\"9.0\",\"marker\":{\"color\":\"#636efa\"},\"name\":\"9.0\",\"notched\":false,\"offsetgroup\":\"9.0\",\"orientation\":\"v\",\"showlegend\":true,\"x0\":\" \",\"xaxis\":\"x\",\"y\":[\"Solana Days\",\"Solana Days\",\"Solana Days\",\"Solana Days\",\"Solana Days\",\"Solana Days\",\"Solana Days\",\"Solana Days\",\"Solana Days\",\"Solana Days\",\"Solana Days\",\"Solana Days\",\"Solana Days\",\"Solana Days\",\"Solana Days\",\"Solana Days\",\"Solana Days\",\"Solana Days\",\"Solana Days\",\"Solana Days\",\"Solana Days\",\"Solana Days\",\"Solana Days\",\"Solana Days\",\"Solana Days\",\"Solana Days\",\"Solana Days\",\"Solana Days\",\"Solana Days\",\"Solana Days\",\"Solana Days\",\"Solana Days\",\"Solana Days\",\"Solana Days\",\"Solana Days\",\"Solana Days\",\"Solana Days\",\"Solana Days\",\"Solana Days\",\"Solana Days\",\"Solana Days\",\"Solana Days\",\"Solana Days\",\"Solana Days\",\"Solana Days\",\"Solana Days\",\"Solana Days\",\"Solana Days\",\"Solana Days\",\"Solana Days\",\"Solana Days\",\"Solana Days\",\"Solana Days\",\"Solana Days\",\"Solana Days\",\"Solana Days\",\"Solana Days\",\"Solana Days\",\"Solana Days\",\"Solana Days\",\"Solana Days\",\"Solana Days\",\"Solana Days\",\"Solana Days\",\"Solana Days\",\"Solana Days\",\"Solana Days\",\"Solana Days\",\"Solana Days\",\"Solana Days\",\"Solana Days\",\"Solana Days\",\"Solana Days\",\"Solana Days\",\"Solana Days\",\"Solana Days\",\"Solana Days\",\"Solana Days\",\"Solana Days\",\"Solana Days\",\"Solana Days\",\"Solana Days\",\"Solana Days\",\"Solana Days\",\"Solana Days\",\"Solana Days\",\"Solana Days\",\"Solana Days\",\"Solana Days\",\"Solana Days\",\"Solana Days\",\"Solana Days\",\"Solana Days\",\"Solana Days\",\"Solana Days\",\"Solana Days\",\"Solana Days\",\"Solana Days\",\"Solana Days\",\"Solana Days\",\"Solana Days\",\"Solana Days\",\"Solana Days\",\"Solana Days\",\"Solana Days\",\"Solana Days\",\"Solana Days\",\"Solana Days\",\"Solana Days\",\"Solana Days\",\"Solana Days\",\"Solana Days\",\"Solana Days\",\"Solana Days\",\"Solana Days\",\"Solana Days\",\"Solana Days\",\"Solana Days\",\"Solana Days\",\"Solana Days\",\"Solana Days\",\"Solana Days\",\"Solana Days\",\"Solana Days\",\"Solana Days\",\"Solana Days\",\"Solana Days\",\"Solana Days\",\"Solana Days\",\"Solana Days\",\"Solana Days\",\"Solana Days\",\"Solana Days\",\"Solana Days\",\"Solana Days\",\"Solana Days\",\"Solana Days\",\"Solana Days\",\"Solana Days\",\"Solana Days\",\"Solana Days\",\"Solana Days\",\"Solana Days\",\"Solana Days\",\"Solana Days\",\"Solana Days\",\"Solana Days\",\"Solana Days\",\"Solana Days\",\"Solana Days\",\"Solana Days\",\"Solana Days\",\"Solana Days\",\"Solana Days\",\"Solana Days\",\"Solana Days\",\"Solana Days\",\"Solana Days\",\"Solana Days\",\"Solana Days\",\"Solana Days\",\"Solana Days\",\"Solana Days\",\"Solana Days\",\"Solana Days\",\"Solana Days\",\"Solana Days\",\"Solana Days\",\"Solana Days\",\"Solana Days\",\"Solana Days\",\"Solana Days\",\"Solana Days\",\"Solana Days\",\"Solana Days\",\"Solana Days\",\"Solana Days\",\"Solana Days\",\"Solana Days\",\"Solana Days\",\"Solana Days\",\"Solana Days\",\"Solana Days\",\"Solana Days\",\"Solana Days\",\"Solana Days\",\"Solana Days\",\"Solana Days\",\"Solana Days\",\"Solana Days\",\"Solana Days\",\"Solana Days\",\"Solana Days\",\"Solana Days\",\"Solana Days\",\"Solana Days\",\"Solana Days\",\"Solana Days\",\"Solana Days\",\"Solana Days\",\"Solana Days\",\"Solana Days\",\"Solana Days\",\"Solana Days\",\"Solana Days\",\"Solana Days\",\"Solana Days\",\"Solana Days\",\"Solana Days\",\"Solana Days\",\"Solana Days\",\"Solana Days\",\"Solana Days\",\"Solana Days\",\"Solana Days\",\"Solana Days\",\"Solana Days\",\"Solana Days\",\"Solana Days\",\"Solana Days\",\"Solana Days\",\"Solana Days\",\"Solana Days\",\"Solana Days\",\"Solana Days\",\"Solana Days\",\"Solana Days\",\"Solana Days\",\"Solana Days\",\"Solana Days\",\"Solana Days\",\"Solana Days\",\"Solana Days\",\"Solana Days\",\"Solana Days\",\"Solana Days\",\"Solana Days\",\"Solana Days\",\"Solana Days\",\"Solana Days\",\"Solana Days\",\"Solana Days\",\"Solana Days\",\"Solana Days\",\"Solana Days\",\"Solana Days\",\"Solana Days\",\"Solana Days\",\"Solana Days\",\"Solana Days\",\"Solana Days\",\"Solana Days\",\"Solana Days\",\"Solana Days\",\"Solana Days\",\"Solana Days\",\"Solana Days\",\"Solana Days\",\"Solana Days\",\"Solana Days\",\"Solana Days\",\"Solana Days\",\"Solana Days\",\"Solana Days\",\"Solana Days\",\"Solana Days\",\"Solana Days\",\"Solana Days\",\"Solana Days\",\"Solana Days\",\"Solana Days\",\"Solana Days\",\"Solana Days\",\"Solana Days\",\"Solana Days\",\"Solana Days\",\"Solana Days\",\"Solana Days\",\"Solana Days\",\"Solana Days\",\"Solana Days\",\"Solana Days\",\"Solana Days\",\"Solana Days\",\"Solana Days\",\"Solana Days\",\"Solana Days\",\"Solana Days\",\"Solana Days\",\"Solana Days\",\"Solana Days\",\"Solana Days\",\"Solana Days\",\"Solana Days\",\"Solana Days\",\"Solana Days\",\"Solana Days\",\"Solana Days\",\"Solana Days\",\"Solana Days\",\"Solana Days\",\"Solana Days\",\"Solana Days\",\"Solana Days\",\"Solana Days\",\"Solana Days\",\"Solana Days\",\"Solana Days\",\"Solana Days\",\"Solana Days\",\"Solana Days\",\"Solana Days\",\"Solana Days\",\"Solana Days\",\"Solana Days\",\"Solana Days\",\"Solana Days\",\"Solana Days\",\"Solana Days\",\"Solana Days\",\"Solana Days\",\"Solana Days\",\"Solana Days\",\"Solana Days\",\"Solana Days\",\"Solana Days\",\"Solana Days\",\"Solana Days\",\"Solana Days\",\"Solana Days\",\"Solana Days\",\"Solana Days\",\"Solana Days\",\"Solana Days\",\"Solana Days\",\"Solana Days\",\"Solana Days\",\"Solana Days\",\"Solana Days\",\"Solana Days\",\"Solana Days\",\"Solana Days\",\"Solana Days\",\"Solana Days\",\"Solana Days\",\"Solana Days\",\"Solana Days\",\"Solana Days\",\"Solana Days\",\"Solana Days\",\"Solana Days\",\"Solana Days\",\"Solana Days\",\"Solana Days\",\"Solana Days\",\"Solana Days\",\"Solana Days\",\"Solana Days\",\"Solana Days\",\"Solana Days\",\"Solana Days\",\"Solana Days\",\"Solana Days\",\"Solana Days\",\"Solana Days\",\"Solana Days\",\"Solana Days\",\"Solana Days\",\"Solana Days\",\"Solana Days\",\"Solana Days\",\"Solana Days\",\"Solana Days\",\"Solana Days\",\"Solana Days\",\"Solana Days\",\"Solana Days\",\"Solana Days\",\"Solana Days\",\"Solana Days\",\"Solana Days\",\"Solana Days\",\"Solana Days\",\"Solana Days\",\"Solana Days\",\"Solana Days\",\"Solana Days\",\"Solana Days\",\"Solana Days\",\"Solana Days\",\"Solana Days\",\"Solana Days\",\"Solana Days\",\"Solana Days\",\"Solana Days\",\"Solana Days\",\"Solana Days\",\"Solana Days\",\"Solana Days\",\"Solana Days\",\"Solana Days\",\"Solana Days\",\"Solana Days\",\"Solana Days\",\"Solana Days\",\"Solana Days\",\"Solana Days\",\"Solana Days\",\"Solana Days\",\"Solana Days\",\"Solana Days\",\"Solana Days\",\"Solana Days\",\"Solana Days\",\"Solana Days\",\"Solana Days\",\"Solana Days\",\"Solana Days\",\"Solana Days\",\"Solana Days\"],\"y0\":\" \",\"yaxis\":\"y\",\"type\":\"box\"},{\"alignmentgroup\":\"True\",\"hovertemplate\":\"rarityRank=8.0<br>Track=%{y}<extra></extra>\",\"legendgroup\":\"8.0\",\"marker\":{\"color\":\"#EF553B\"},\"name\":\"8.0\",\"notched\":false,\"offsetgroup\":\"8.0\",\"orientation\":\"v\",\"showlegend\":true,\"x0\":\" \",\"xaxis\":\"x\",\"y\":[\"Go Ape Go\",\"Go Ape Go\",\"Go Ape Go\",\"Go Ape Go\",\"Go Ape Go\",\"Go Ape Go\",\"Go Ape Go\",\"Go Ape Go\",\"Go Ape Go\",\"Go Ape Go\",\"Go Ape Go\",\"Go Ape Go\",\"Go Ape Go\",\"Go Ape Go\",\"Go Ape Go\",\"Go Ape Go\",\"Go Ape Go\",\"Go Ape Go\",\"Go Ape Go\",\"Go Ape Go\",\"Go Ape Go\",\"Go Ape Go\",\"Go Ape Go\",\"Go Ape Go\",\"Go Ape Go\",\"Go Ape Go\",\"Go Ape Go\",\"Go Ape Go\",\"Go Ape Go\",\"Go Ape Go\",\"Go Ape Go\",\"Go Ape Go\",\"Go Ape Go\",\"Go Ape Go\",\"Go Ape Go\",\"Go Ape Go\",\"Go Ape Go\",\"Go Ape Go\",\"Go Ape Go\",\"Go Ape Go\",\"Go Ape Go\",\"Go Ape Go\",\"Go Ape Go\",\"Go Ape Go\",\"Go Ape Go\",\"Go Ape Go\",\"Go Ape Go\",\"Go Ape Go\",\"Go Ape Go\",\"Go Ape Go\",\"Go Ape Go\",\"Go Ape Go\",\"Go Ape Go\",\"Go Ape Go\",\"Go Ape Go\",\"Go Ape Go\",\"Go Ape Go\",\"Go Ape Go\",\"Go Ape Go\",\"Go Ape Go\",\"Go Ape Go\",\"Go Ape Go\",\"Go Ape Go\",\"Go Ape Go\",\"Go Ape Go\",\"Go Ape Go\",\"Go Ape Go\",\"Go Ape Go\",\"Go Ape Go\",\"Go Ape Go\",\"Go Ape Go\",\"Go Ape Go\",\"Go Ape Go\",\"Go Ape Go\",\"Go Ape Go\",\"Go Ape Go\",\"Go Ape Go\",\"Go Ape Go\",\"Go Ape Go\",\"Go Ape Go\",\"Go Ape Go\",\"Go Ape Go\",\"Go Ape Go\",\"Go Ape Go\",\"Go Ape Go\",\"Go Ape Go\",\"Go Ape Go\",\"Go Ape Go\",\"Go Ape Go\",\"Go Ape Go\",\"Go Ape Go\",\"Go Ape Go\",\"Go Ape Go\",\"Go Ape Go\",\"Go Ape Go\",\"Go Ape Go\",\"Go Ape Go\",\"Go Ape Go\",\"Go Ape Go\",\"Go Ape Go\",\"Go Ape Go\",\"Go Ape Go\",\"Go Ape Go\",\"Go Ape Go\",\"Go Ape Go\",\"Go Ape Go\",\"Go Ape Go\",\"Go Ape Go\",\"Go Ape Go\",\"Go Ape Go\",\"Go Ape Go\",\"Go Ape Go\",\"Go Ape Go\",\"Go Ape Go\",\"Go Ape Go\",\"Go Ape Go\",\"Go Ape Go\",\"Go Ape Go\",\"Go Ape Go\",\"Go Ape Go\",\"Go Ape Go\",\"Go Ape Go\",\"Go Ape Go\",\"Go Ape Go\",\"Go Ape Go\",\"Go Ape Go\",\"Go Ape Go\",\"Go Ape Go\",\"Go Ape Go\",\"Go Ape Go\",\"Go Ape Go\",\"Go Ape Go\",\"Go Ape Go\",\"Go Ape Go\",\"Go Ape Go\",\"Go Ape Go\",\"Go Ape Go\",\"Go Ape Go\",\"Go Ape Go\",\"Go Ape Go\",\"Go Ape Go\",\"Go Ape Go\",\"Go Ape Go\",\"Go Ape Go\",\"Go Ape Go\",\"Go Ape Go\",\"Go Ape Go\",\"Go Ape Go\",\"Go Ape Go\",\"Go Ape Go\",\"Go Ape Go\",\"Go Ape Go\",\"Go Ape Go\",\"Go Ape Go\",\"Go Ape Go\",\"Go Ape Go\",\"Go Ape Go\",\"Go Ape Go\",\"Go Ape Go\",\"Go Ape Go\",\"Go Ape Go\",\"Go Ape Go\",\"Go Ape Go\",\"Go Ape Go\",\"Go Ape Go\",\"Go Ape Go\",\"Go Ape Go\",\"Go Ape Go\",\"Go Ape Go\",\"Go Ape Go\",\"Go Ape Go\",\"Go Ape Go\",\"Go Ape Go\",\"Go Ape Go\",\"Go Ape Go\",\"Go Ape Go\",\"Go Ape Go\",\"Go Ape Go\",\"Go Ape Go\",\"Go Ape Go\",\"Go Ape Go\",\"Go Ape Go\",\"Go Ape Go\",\"Go Ape Go\",\"Go Ape Go\",\"Go Ape Go\",\"Go Ape Go\",\"Go Ape Go\",\"Go Ape Go\",\"Go Ape Go\",\"Go Ape Go\",\"Go Ape Go\",\"Go Ape Go\",\"Go Ape Go\",\"Go Ape Go\",\"Go Ape Go\",\"Go Ape Go\",\"Go Ape Go\",\"Go Ape Go\",\"Go Ape Go\",\"Go Ape Go\",\"Go Ape Go\",\"Go Ape Go\",\"Go Ape Go\",\"Go Ape Go\",\"Go Ape Go\",\"Go Ape Go\",\"Go Ape Go\",\"Go Ape Go\",\"Go Ape Go\",\"Go Ape Go\",\"Go Ape Go\",\"Go Ape Go\",\"Go Ape Go\"],\"y0\":\" \",\"yaxis\":\"y\",\"type\":\"box\"},{\"alignmentgroup\":\"True\",\"hovertemplate\":\"rarityRank=7.0<br>Track=%{y}<extra></extra>\",\"legendgroup\":\"7.0\",\"marker\":{\"color\":\"#00cc96\"},\"name\":\"7.0\",\"notched\":false,\"offsetgroup\":\"7.0\",\"orientation\":\"v\",\"showlegend\":true,\"x0\":\" \",\"xaxis\":\"x\",\"y\":[\"Dude on the Dance Floor\",\"Dude on the Dance Floor\",\"Dude on the Dance Floor\",\"Dude on the Dance Floor\",\"Dude on the Dance Floor\",\"Dude on the Dance Floor\",\"Dude on the Dance Floor\",\"Dude on the Dance Floor\",\"Dude on the Dance Floor\",\"Dude on the Dance Floor\",\"Dude on the Dance Floor\",\"Dude on the Dance Floor\",\"Dude on the Dance Floor\",\"Dude on the Dance Floor\",\"Dude on the Dance Floor\",\"Dude on the Dance Floor\",\"Dude on the Dance Floor\",\"Dude on the Dance Floor\",\"Dude on the Dance Floor\",\"Dude on the Dance Floor\",\"Dude on the Dance Floor\",\"Dude on the Dance Floor\",\"Dude on the Dance Floor\",\"Dude on the Dance Floor\",\"Dude on the Dance Floor\",\"Dude on the Dance Floor\",\"Dude on the Dance Floor\",\"Dude on the Dance Floor\",\"Dude on the Dance Floor\",\"Dude on the Dance Floor\",\"Dude on the Dance Floor\",\"Dude on the Dance Floor\",\"Dude on the Dance Floor\",\"Dude on the Dance Floor\",\"Dude on the Dance Floor\",\"Dude on the Dance Floor\",\"Dude on the Dance Floor\",\"Dude on the Dance Floor\",\"Dude on the Dance Floor\",\"Dude on the Dance Floor\",\"Dude on the Dance Floor\",\"Dude on the Dance Floor\",\"Dude on the Dance Floor\",\"Dude on the Dance Floor\",\"Dude on the Dance Floor\",\"Dude on the Dance Floor\",\"Dude on the Dance Floor\",\"Dude on the Dance Floor\",\"Dude on the Dance Floor\",\"Dude on the Dance Floor\",\"Dude on the Dance Floor\",\"Dude on the Dance Floor\",\"Dude on the Dance Floor\",\"Dude on the Dance Floor\",\"Dude on the Dance Floor\",\"Dude on the Dance Floor\",\"Dude on the Dance Floor\",\"Dude on the Dance Floor\",\"Dude on the Dance Floor\",\"Dude on the Dance Floor\",\"Dude on the Dance Floor\",\"Dude on the Dance Floor\",\"Dude on the Dance Floor\",\"Dude on the Dance Floor\",\"Dude on the Dance Floor\",\"Dude on the Dance Floor\",\"Dude on the Dance Floor\",\"Dude on the Dance Floor\",\"Dude on the Dance Floor\",\"Dude on the Dance Floor\",\"Dude on the Dance Floor\",\"Dude on the Dance Floor\",\"Dude on the Dance Floor\",\"Dude on the Dance Floor\",\"Dude on the Dance Floor\",\"Dude on the Dance Floor\",\"Dude on the Dance Floor\",\"Dude on the Dance Floor\",\"Dude on the Dance Floor\"],\"y0\":\" \",\"yaxis\":\"y\",\"type\":\"box\"},{\"alignmentgroup\":\"True\",\"hovertemplate\":\"rarityRank=1.0<br>Track=%{y}<extra></extra>\",\"legendgroup\":\"1.0\",\"marker\":{\"color\":\"#ab63fa\"},\"name\":\"1.0\",\"notched\":false,\"offsetgroup\":\"1.0\",\"orientation\":\"v\",\"showlegend\":true,\"x0\":\" \",\"xaxis\":\"x\",\"y\":[\"Slumberville\",\"Slumberville\",\"Slumberville\",\"Slumberville\",\"Slumberville\",\"Slumberville\",\"Slumberville\",\"Slumberville\",\"Slumberville\",\"Slumberville\",\"Slumberville\",\"Slumberville\",\"Slumberville\",\"Slumberville\",\"Slumberville\",\"Slumberville\",\"Slumberville\",\"Slumberville\",\"Slumberville\",\"Slumberville\",\"Slumberville\",\"Slumberville\",\"Slumberville\",\"Slumberville\",\"Slumberville\",\"Slumberville\",\"Slumberville\",\"Slumberville\",\"Slumberville\",\"Slumberville\",\"Slumberville\",\"Slumberville\",\"Slumberville\",\"Slumberville\",\"Slumberville\",\"Slumberville\",\"Slumberville\",\"Slumberville\",\"Slumberville\",\"Slumberville\",\"The Beat Bop\",\"The Beat Bop\",\"The Beat Bop\",\"The Beat Bop\",\"The Beat Bop\",\"The Beat Bop\",\"The Beat Bop\",\"The Beat Bop\",\"The Beat Bop\",\"The Beat Bop\",\"The Beat Bop\",\"The Beat Bop\",\"The Beat Bop\",\"The Beat Bop\",\"The Beat Bop\",\"The Beat Bop\",\"The Beat Bop\",\"The Beat Bop\",\"The Beat Bop\",\"The Beat Bop\",\"The Beat Bop\",\"The Beat Bop\",\"The Beat Bop\",\"The Beat Bop\",\"The Beat Bop\",\"The Beat Bop\",\"The Beat Bop\",\"The Beat Bop\",\"The Beat Bop\"],\"y0\":\" \",\"yaxis\":\"y\",\"type\":\"box\"},{\"alignmentgroup\":\"True\",\"hovertemplate\":\"rarityRank=4.0<br>Track=%{y}<extra></extra>\",\"legendgroup\":\"4.0\",\"marker\":{\"color\":\"#FFA15A\"},\"name\":\"4.0\",\"notched\":false,\"offsetgroup\":\"4.0\",\"orientation\":\"v\",\"showlegend\":true,\"x0\":\" \",\"xaxis\":\"x\",\"y\":[\"Balance\",\"Balance\",\"Balance\",\"Balance\",\"Balance\",\"Balance\",\"Balance\",\"Balance\",\"Balance\",\"Balance\",\"Balance\",\"Balance\",\"Balance\",\"Balance\",\"Balance\",\"Balance\",\"Balance\",\"Balance\",\"Balance\",\"Balance\",\"Balance\",\"Balance\",\"Balance\",\"Balance\",\"Balance\",\"Balance\",\"Balance\",\"Balance\",\"Balance\",\"Balance\",\"Balance\",\"Balance\",\"Balance\",\"Balance\",\"Balance\",\"Balance\",\"Balance\",\"Balance\",\"Balance\",\"Balance\",\"Balance\",\"Balance\",\"Balance\",\"Balance\",\"Balance\",\"Balance\",\"Balance\",\"Balance\",\"Balance\",\"Balance\",\"Balance\",\"Balance\",\"Balance\",\"Balance\",\"Balance\",\"Balance\"],\"y0\":\" \",\"yaxis\":\"y\",\"type\":\"box\"},{\"alignmentgroup\":\"True\",\"hovertemplate\":\"rarityRank=6.0<br>Track=%{y}<extra></extra>\",\"legendgroup\":\"6.0\",\"marker\":{\"color\":\"#19d3f3\"},\"name\":\"6.0\",\"notched\":false,\"offsetgroup\":\"6.0\",\"orientation\":\"v\",\"showlegend\":true,\"x0\":\" \",\"xaxis\":\"x\",\"y\":[\"Step In Flow\",\"Step In Flow\",\"Step In Flow\",\"Step In Flow\",\"Step In Flow\",\"Step In Flow\",\"Step In Flow\",\"Step In Flow\",\"Step In Flow\",\"Step In Flow\",\"Step In Flow\",\"Step In Flow\",\"Step In Flow\",\"Step In Flow\",\"Step In Flow\",\"Step In Flow\",\"Step In Flow\",\"Step In Flow\",\"Step In Flow\",\"Step In Flow\",\"Step In Flow\",\"Step In Flow\",\"Step In Flow\",\"Step In Flow\",\"Step In Flow\",\"Step In Flow\",\"Step In Flow\",\"Step In Flow\",\"Step In Flow\",\"Step In Flow\",\"Step In Flow\",\"Step In Flow\",\"Step In Flow\",\"Step In Flow\",\"Step In Flow\",\"Step In Flow\",\"Step In Flow\",\"Step In Flow\",\"Step In Flow\",\"Step In Flow\",\"Step In Flow\",\"Step In Flow\",\"Step In Flow\",\"Step In Flow\",\"Step In Flow\",\"Step In Flow\",\"Step In Flow\",\"Step In Flow\",\"Step In Flow\",\"Step In Flow\",\"Step In Flow\",\"Step In Flow\",\"Step In Flow\",\"Step In Flow\",\"Step In Flow\",\"Step In Flow\",\"Step In Flow\",\"Step In Flow\",\"Step In Flow\",\"Step In Flow\",\"Step In Flow\",\"Step In Flow\",\"Step In Flow\",\"Step In Flow\",\"Step In Flow\"],\"y0\":\" \",\"yaxis\":\"y\",\"type\":\"box\"},{\"alignmentgroup\":\"True\",\"hovertemplate\":\"rarityRank=2.0<br>Track=%{y}<extra></extra>\",\"legendgroup\":\"2.0\",\"marker\":{\"color\":\"#FF6692\"},\"name\":\"2.0\",\"notched\":false,\"offsetgroup\":\"2.0\",\"orientation\":\"v\",\"showlegend\":true,\"x0\":\" \",\"xaxis\":\"x\",\"y\":[\"First Flight\",\"First Flight\",\"First Flight\",\"First Flight\",\"First Flight\",\"First Flight\",\"First Flight\",\"First Flight\",\"First Flight\",\"First Flight\",\"First Flight\",\"First Flight\",\"First Flight\",\"First Flight\",\"First Flight\",\"First Flight\",\"First Flight\",\"First Flight\",\"First Flight\",\"First Flight\",\"First Flight\",\"First Flight\",\"First Flight\",\"First Flight\",\"First Flight\",\"First Flight\",\"First Flight\",\"First Flight\",\"First Flight\",\"First Flight\",\"First Flight\",\"First Flight\",\"First Flight\",\"First Flight\",\"First Flight\",\"First Flight\",\"First Flight\",\"First Flight\",\"First Flight\",\"First Flight\",\"First Flight\",\"First Flight\",\"First Flight\",\"First Flight\",\"First Flight\",\"First Flight\",\"First Flight\",\"The Path Beyond\",\"The Path Beyond\",\"The Path Beyond\",\"The Path Beyond\",\"The Path Beyond\",\"The Path Beyond\",\"The Path Beyond\",\"The Path Beyond\",\"The Path Beyond\",\"The Path Beyond\",\"The Path Beyond\",\"The Path Beyond\",\"The Path Beyond\",\"The Path Beyond\",\"The Path Beyond\",\"The Path Beyond\",\"The Path Beyond\",\"The Path Beyond\",\"The Path Beyond\",\"The Path Beyond\",\"The Path Beyond\",\"The Path Beyond\",\"The Path Beyond\",\"The Path Beyond\",\"The Path Beyond\",\"The Path Beyond\",\"The Path Beyond\",\"The Path Beyond\",\"The Path Beyond\",\"The Path Beyond\",\"The Path Beyond\",\"The Path Beyond\",\"The Path Beyond\",\"The Path Beyond\",\"The Path Beyond\",\"The Path Beyond\",\"The Path Beyond\",\"The Path Beyond\",\"The Path Beyond\",\"The Path Beyond\",\"The Path Beyond\",\"Unlimited\",\"Unlimited\",\"Unlimited\",\"Unlimited\",\"Unlimited\",\"Unlimited\",\"Unlimited\",\"Unlimited\",\"Unlimited\",\"Unlimited\",\"Unlimited\",\"Unlimited\",\"Unlimited\",\"Unlimited\",\"Unlimited\",\"Unlimited\",\"Unlimited\",\"Unlimited\",\"Unlimited\",\"Unlimited\",\"Unlimited\",\"Unlimited\",\"Unlimited\",\"Unlimited\",\"Unlimited\",\"Unlimited\",\"Unlimited\",\"Unlimited\",\"Unlimited\",\"Unlimited\",\"Unlimited\",\"Unlimited\",\"Unlimited\",\"Unlimited\",\"Unlimited\",\"Unlimited\",\"Unlimited\",\"Unlimited\",\"Unlimited\",\"Unlimited\",\"Unlimited\",\"Unlimited\",\"Unlimited\",\"Unlimited\",\"Unlimited\",\"Unlimited\",\"Unlimited\",\"Unlimited\",\"Unlimited\",\"Unlimited\"],\"y0\":\" \",\"yaxis\":\"y\",\"type\":\"box\"},{\"alignmentgroup\":\"True\",\"hovertemplate\":\"rarityRank=5.0<br>Track=%{y}<extra></extra>\",\"legendgroup\":\"5.0\",\"marker\":{\"color\":\"#B6E880\"},\"name\":\"5.0\",\"notched\":false,\"offsetgroup\":\"5.0\",\"orientation\":\"v\",\"showlegend\":true,\"x0\":\" \",\"xaxis\":\"x\",\"y\":[\"Funky Ghosts\",\"Funky Ghosts\",\"Funky Ghosts\",\"Funky Ghosts\",\"Funky Ghosts\",\"Funky Ghosts\",\"Funky Ghosts\",\"Funky Ghosts\",\"Funky Ghosts\",\"Funky Ghosts\",\"Funky Ghosts\",\"Funky Ghosts\",\"Funky Ghosts\",\"Funky Ghosts\",\"Funky Ghosts\",\"Funky Ghosts\",\"Funky Ghosts\",\"Funky Ghosts\",\"Funky Ghosts\",\"Funky Ghosts\",\"Funky Ghosts\",\"Funky Ghosts\",\"Funky Ghosts\",\"Funky Ghosts\",\"Funky Ghosts\",\"Funky Ghosts\",\"Funky Ghosts\",\"Funky Ghosts\",\"Funky Ghosts\",\"Funky Ghosts\",\"Funky Ghosts\",\"Funky Ghosts\",\"Funky Ghosts\",\"Funky Ghosts\",\"Funky Ghosts\",\"Funky Ghosts\",\"Funky Ghosts\",\"Funky Ghosts\",\"Funky Ghosts\",\"Funky Ghosts\",\"Funky Ghosts\",\"Funky Ghosts\",\"Funky Ghosts\",\"Funky Ghosts\",\"Funky Ghosts\",\"Funky Ghosts\",\"Funky Ghosts\",\"Funky Ghosts\",\"Funky Ghosts\",\"Funky Ghosts\",\"Funky Ghosts\",\"Funky Ghosts\",\"Funky Ghosts\",\"Funky Ghosts\",\"Funky Ghosts\",\"Funky Ghosts\",\"Funky Ghosts\",\"Funky Ghosts\",\"Funky Ghosts\",\"Funky Ghosts\",\"Funky Ghosts\",\"Funky Ghosts\",\"Funky Ghosts\",\"Funky Ghosts\",\"Funky Ghosts\",\"Funky Ghosts\",\"Funky Ghosts\",\"Funky Ghosts\"],\"y0\":\" \",\"yaxis\":\"y\",\"type\":\"box\"},{\"alignmentgroup\":\"True\",\"hovertemplate\":\"rarityRank=3.0<br>Track=%{y}<extra></extra>\",\"legendgroup\":\"3.0\",\"marker\":{\"color\":\"#FF97FF\"},\"name\":\"3.0\",\"notched\":false,\"offsetgroup\":\"3.0\",\"orientation\":\"v\",\"showlegend\":true,\"x0\":\" \",\"xaxis\":\"x\",\"y\":[\"A New Dawn\",\"A New Dawn\",\"A New Dawn\",\"A New Dawn\",\"A New Dawn\",\"A New Dawn\",\"A New Dawn\",\"A New Dawn\",\"A New Dawn\",\"A New Dawn\",\"A New Dawn\",\"A New Dawn\",\"A New Dawn\",\"A New Dawn\",\"A New Dawn\",\"A New Dawn\",\"A New Dawn\",\"A New Dawn\",\"A New Dawn\",\"A New Dawn\",\"A New Dawn\",\"A New Dawn\",\"A New Dawn\",\"A New Dawn\",\"A New Dawn\",\"A New Dawn\",\"A New Dawn\",\"A New Dawn\",\"A New Dawn\",\"A New Dawn\",\"A New Dawn\",\"A New Dawn\",\"A New Dawn\",\"A New Dawn\",\"A New Dawn\",\"A New Dawn\",\"A New Dawn\",\"A New Dawn\"],\"y0\":\" \",\"yaxis\":\"y\",\"type\":\"box\"}],                        {\"template\":{\"data\":{\"histogram2dcontour\":[{\"type\":\"histogram2dcontour\",\"colorbar\":{\"outlinewidth\":0,\"ticks\":\"\"},\"colorscale\":[[0.0,\"#0d0887\"],[0.1111111111111111,\"#46039f\"],[0.2222222222222222,\"#7201a8\"],[0.3333333333333333,\"#9c179e\"],[0.4444444444444444,\"#bd3786\"],[0.5555555555555556,\"#d8576b\"],[0.6666666666666666,\"#ed7953\"],[0.7777777777777778,\"#fb9f3a\"],[0.8888888888888888,\"#fdca26\"],[1.0,\"#f0f921\"]]}],\"choropleth\":[{\"type\":\"choropleth\",\"colorbar\":{\"outlinewidth\":0,\"ticks\":\"\"}}],\"histogram2d\":[{\"type\":\"histogram2d\",\"colorbar\":{\"outlinewidth\":0,\"ticks\":\"\"},\"colorscale\":[[0.0,\"#0d0887\"],[0.1111111111111111,\"#46039f\"],[0.2222222222222222,\"#7201a8\"],[0.3333333333333333,\"#9c179e\"],[0.4444444444444444,\"#bd3786\"],[0.5555555555555556,\"#d8576b\"],[0.6666666666666666,\"#ed7953\"],[0.7777777777777778,\"#fb9f3a\"],[0.8888888888888888,\"#fdca26\"],[1.0,\"#f0f921\"]]}],\"heatmap\":[{\"type\":\"heatmap\",\"colorbar\":{\"outlinewidth\":0,\"ticks\":\"\"},\"colorscale\":[[0.0,\"#0d0887\"],[0.1111111111111111,\"#46039f\"],[0.2222222222222222,\"#7201a8\"],[0.3333333333333333,\"#9c179e\"],[0.4444444444444444,\"#bd3786\"],[0.5555555555555556,\"#d8576b\"],[0.6666666666666666,\"#ed7953\"],[0.7777777777777778,\"#fb9f3a\"],[0.8888888888888888,\"#fdca26\"],[1.0,\"#f0f921\"]]}],\"heatmapgl\":[{\"type\":\"heatmapgl\",\"colorbar\":{\"outlinewidth\":0,\"ticks\":\"\"},\"colorscale\":[[0.0,\"#0d0887\"],[0.1111111111111111,\"#46039f\"],[0.2222222222222222,\"#7201a8\"],[0.3333333333333333,\"#9c179e\"],[0.4444444444444444,\"#bd3786\"],[0.5555555555555556,\"#d8576b\"],[0.6666666666666666,\"#ed7953\"],[0.7777777777777778,\"#fb9f3a\"],[0.8888888888888888,\"#fdca26\"],[1.0,\"#f0f921\"]]}],\"contourcarpet\":[{\"type\":\"contourcarpet\",\"colorbar\":{\"outlinewidth\":0,\"ticks\":\"\"}}],\"contour\":[{\"type\":\"contour\",\"colorbar\":{\"outlinewidth\":0,\"ticks\":\"\"},\"colorscale\":[[0.0,\"#0d0887\"],[0.1111111111111111,\"#46039f\"],[0.2222222222222222,\"#7201a8\"],[0.3333333333333333,\"#9c179e\"],[0.4444444444444444,\"#bd3786\"],[0.5555555555555556,\"#d8576b\"],[0.6666666666666666,\"#ed7953\"],[0.7777777777777778,\"#fb9f3a\"],[0.8888888888888888,\"#fdca26\"],[1.0,\"#f0f921\"]]}],\"surface\":[{\"type\":\"surface\",\"colorbar\":{\"outlinewidth\":0,\"ticks\":\"\"},\"colorscale\":[[0.0,\"#0d0887\"],[0.1111111111111111,\"#46039f\"],[0.2222222222222222,\"#7201a8\"],[0.3333333333333333,\"#9c179e\"],[0.4444444444444444,\"#bd3786\"],[0.5555555555555556,\"#d8576b\"],[0.6666666666666666,\"#ed7953\"],[0.7777777777777778,\"#fb9f3a\"],[0.8888888888888888,\"#fdca26\"],[1.0,\"#f0f921\"]]}],\"mesh3d\":[{\"type\":\"mesh3d\",\"colorbar\":{\"outlinewidth\":0,\"ticks\":\"\"}}],\"scatter\":[{\"fillpattern\":{\"fillmode\":\"overlay\",\"size\":10,\"solidity\":0.2},\"type\":\"scatter\"}],\"parcoords\":[{\"type\":\"parcoords\",\"line\":{\"colorbar\":{\"outlinewidth\":0,\"ticks\":\"\"}}}],\"scatterpolargl\":[{\"type\":\"scatterpolargl\",\"marker\":{\"colorbar\":{\"outlinewidth\":0,\"ticks\":\"\"}}}],\"bar\":[{\"error_x\":{\"color\":\"#2a3f5f\"},\"error_y\":{\"color\":\"#2a3f5f\"},\"marker\":{\"line\":{\"color\":\"#E5ECF6\",\"width\":0.5},\"pattern\":{\"fillmode\":\"overlay\",\"size\":10,\"solidity\":0.2}},\"type\":\"bar\"}],\"scattergeo\":[{\"type\":\"scattergeo\",\"marker\":{\"colorbar\":{\"outlinewidth\":0,\"ticks\":\"\"}}}],\"scatterpolar\":[{\"type\":\"scatterpolar\",\"marker\":{\"colorbar\":{\"outlinewidth\":0,\"ticks\":\"\"}}}],\"histogram\":[{\"marker\":{\"pattern\":{\"fillmode\":\"overlay\",\"size\":10,\"solidity\":0.2}},\"type\":\"histogram\"}],\"scattergl\":[{\"type\":\"scattergl\",\"marker\":{\"colorbar\":{\"outlinewidth\":0,\"ticks\":\"\"}}}],\"scatter3d\":[{\"type\":\"scatter3d\",\"line\":{\"colorbar\":{\"outlinewidth\":0,\"ticks\":\"\"}},\"marker\":{\"colorbar\":{\"outlinewidth\":0,\"ticks\":\"\"}}}],\"scattermapbox\":[{\"type\":\"scattermapbox\",\"marker\":{\"colorbar\":{\"outlinewidth\":0,\"ticks\":\"\"}}}],\"scatterternary\":[{\"type\":\"scatterternary\",\"marker\":{\"colorbar\":{\"outlinewidth\":0,\"ticks\":\"\"}}}],\"scattercarpet\":[{\"type\":\"scattercarpet\",\"marker\":{\"colorbar\":{\"outlinewidth\":0,\"ticks\":\"\"}}}],\"carpet\":[{\"aaxis\":{\"endlinecolor\":\"#2a3f5f\",\"gridcolor\":\"white\",\"linecolor\":\"white\",\"minorgridcolor\":\"white\",\"startlinecolor\":\"#2a3f5f\"},\"baxis\":{\"endlinecolor\":\"#2a3f5f\",\"gridcolor\":\"white\",\"linecolor\":\"white\",\"minorgridcolor\":\"white\",\"startlinecolor\":\"#2a3f5f\"},\"type\":\"carpet\"}],\"table\":[{\"cells\":{\"fill\":{\"color\":\"#EBF0F8\"},\"line\":{\"color\":\"white\"}},\"header\":{\"fill\":{\"color\":\"#C8D4E3\"},\"line\":{\"color\":\"white\"}},\"type\":\"table\"}],\"barpolar\":[{\"marker\":{\"line\":{\"color\":\"#E5ECF6\",\"width\":0.5},\"pattern\":{\"fillmode\":\"overlay\",\"size\":10,\"solidity\":0.2}},\"type\":\"barpolar\"}],\"pie\":[{\"automargin\":true,\"type\":\"pie\"}]},\"layout\":{\"autotypenumbers\":\"strict\",\"colorway\":[\"#636efa\",\"#EF553B\",\"#00cc96\",\"#ab63fa\",\"#FFA15A\",\"#19d3f3\",\"#FF6692\",\"#B6E880\",\"#FF97FF\",\"#FECB52\"],\"font\":{\"color\":\"#2a3f5f\"},\"hovermode\":\"closest\",\"hoverlabel\":{\"align\":\"left\"},\"paper_bgcolor\":\"white\",\"plot_bgcolor\":\"#E5ECF6\",\"polar\":{\"bgcolor\":\"#E5ECF6\",\"angularaxis\":{\"gridcolor\":\"white\",\"linecolor\":\"white\",\"ticks\":\"\"},\"radialaxis\":{\"gridcolor\":\"white\",\"linecolor\":\"white\",\"ticks\":\"\"}},\"ternary\":{\"bgcolor\":\"#E5ECF6\",\"aaxis\":{\"gridcolor\":\"white\",\"linecolor\":\"white\",\"ticks\":\"\"},\"baxis\":{\"gridcolor\":\"white\",\"linecolor\":\"white\",\"ticks\":\"\"},\"caxis\":{\"gridcolor\":\"white\",\"linecolor\":\"white\",\"ticks\":\"\"}},\"coloraxis\":{\"colorbar\":{\"outlinewidth\":0,\"ticks\":\"\"}},\"colorscale\":{\"sequential\":[[0.0,\"#0d0887\"],[0.1111111111111111,\"#46039f\"],[0.2222222222222222,\"#7201a8\"],[0.3333333333333333,\"#9c179e\"],[0.4444444444444444,\"#bd3786\"],[0.5555555555555556,\"#d8576b\"],[0.6666666666666666,\"#ed7953\"],[0.7777777777777778,\"#fb9f3a\"],[0.8888888888888888,\"#fdca26\"],[1.0,\"#f0f921\"]],\"sequentialminus\":[[0.0,\"#0d0887\"],[0.1111111111111111,\"#46039f\"],[0.2222222222222222,\"#7201a8\"],[0.3333333333333333,\"#9c179e\"],[0.4444444444444444,\"#bd3786\"],[0.5555555555555556,\"#d8576b\"],[0.6666666666666666,\"#ed7953\"],[0.7777777777777778,\"#fb9f3a\"],[0.8888888888888888,\"#fdca26\"],[1.0,\"#f0f921\"]],\"diverging\":[[0,\"#8e0152\"],[0.1,\"#c51b7d\"],[0.2,\"#de77ae\"],[0.3,\"#f1b6da\"],[0.4,\"#fde0ef\"],[0.5,\"#f7f7f7\"],[0.6,\"#e6f5d0\"],[0.7,\"#b8e186\"],[0.8,\"#7fbc41\"],[0.9,\"#4d9221\"],[1,\"#276419\"]]},\"xaxis\":{\"gridcolor\":\"white\",\"linecolor\":\"white\",\"ticks\":\"\",\"title\":{\"standoff\":15},\"zerolinecolor\":\"white\",\"automargin\":true,\"zerolinewidth\":2},\"yaxis\":{\"gridcolor\":\"white\",\"linecolor\":\"white\",\"ticks\":\"\",\"title\":{\"standoff\":15},\"zerolinecolor\":\"white\",\"automargin\":true,\"zerolinewidth\":2},\"scene\":{\"xaxis\":{\"backgroundcolor\":\"#E5ECF6\",\"gridcolor\":\"white\",\"linecolor\":\"white\",\"showbackground\":true,\"ticks\":\"\",\"zerolinecolor\":\"white\",\"gridwidth\":2},\"yaxis\":{\"backgroundcolor\":\"#E5ECF6\",\"gridcolor\":\"white\",\"linecolor\":\"white\",\"showbackground\":true,\"ticks\":\"\",\"zerolinecolor\":\"white\",\"gridwidth\":2},\"zaxis\":{\"backgroundcolor\":\"#E5ECF6\",\"gridcolor\":\"white\",\"linecolor\":\"white\",\"showbackground\":true,\"ticks\":\"\",\"zerolinecolor\":\"white\",\"gridwidth\":2}},\"shapedefaults\":{\"line\":{\"color\":\"#2a3f5f\"}},\"annotationdefaults\":{\"arrowcolor\":\"#2a3f5f\",\"arrowhead\":0,\"arrowwidth\":1},\"geo\":{\"bgcolor\":\"white\",\"landcolor\":\"#E5ECF6\",\"subunitcolor\":\"white\",\"showland\":true,\"showlakes\":true,\"lakecolor\":\"white\"},\"title\":{\"x\":0.05},\"mapbox\":{\"style\":\"light\"}}},\"xaxis\":{\"anchor\":\"y\",\"domain\":[0.0,1.0]},\"yaxis\":{\"anchor\":\"x\",\"domain\":[0.0,1.0],\"title\":{\"text\":\"Track\"}},\"legend\":{\"title\":{\"text\":\"rarityRank\"},\"tracegroupgap\":0},\"margin\":{\"t\":60},\"boxmode\":\"group\"},                        {\"responsive\": true}                    ).then(function(){\n",
       "                            \n",
       "var gd = document.getElementById('c66f6099-7cf9-4b6b-b0db-9cce9d2c7d24');\n",
       "var x = new MutationObserver(function (mutations, observer) {{\n",
       "        var display = window.getComputedStyle(gd).display;\n",
       "        if (!display || display === 'none') {{\n",
       "            console.log([gd, 'removed!']);\n",
       "            Plotly.purge(gd);\n",
       "            observer.disconnect();\n",
       "        }}\n",
       "}});\n",
       "\n",
       "// Listen for the removal of the full notebook cells\n",
       "var notebookContainer = gd.closest('#notebook-container');\n",
       "if (notebookContainer) {{\n",
       "    x.observe(notebookContainer, {childList: true});\n",
       "}}\n",
       "\n",
       "// Listen for the clearing of the current output cell\n",
       "var outputEl = gd.closest('.output');\n",
       "if (outputEl) {{\n",
       "    x.observe(outputEl, {childList: true});\n",
       "}}\n",
       "\n",
       "                        })                };                });            </script>        </div>"
      ]
     },
     "metadata": {},
     "output_type": "display_data"
    }
   ],
   "source": [
    "px.box(data_frame=df,y='Track',color='rarityRank')"
   ]
  },
  {
   "cell_type": "code",
   "execution_count": 45,
   "id": "60b9b193",
   "metadata": {},
   "outputs": [
    {
     "name": "stderr",
     "output_type": "stream",
     "text": [
      "C:\\Users\\yasha\\AppData\\Local\\Temp\\ipykernel_18076\\2943259797.py:1: FutureWarning:\n",
      "\n",
      "The default value of numeric_only in DataFrame.corr is deprecated. In a future version, it will default to False. Select only valid columns or specify the value of numeric_only to silence this warning.\n",
      "\n",
      "C:\\Users\\yasha\\AppData\\Local\\Temp\\ipykernel_18076\\2943259797.py:2: FutureWarning:\n",
      "\n",
      "The default value of numeric_only in DataFrame.corr is deprecated. In a future version, it will default to False. Select only valid columns or specify the value of numeric_only to silence this warning.\n",
      "\n",
      "C:\\Users\\yasha\\AppData\\Local\\Temp\\ipykernel_18076\\2943259797.py:3: FutureWarning:\n",
      "\n",
      "The default value of numeric_only in DataFrame.corr is deprecated. In a future version, it will default to False. Select only valid columns or specify the value of numeric_only to silence this warning.\n",
      "\n"
     ]
    },
    {
     "data": {
      "application/vnd.plotly.v1+json": {
       "config": {
        "plotlyServerURL": "https://plot.ly"
       },
       "data": [
        {
         "hoverongaps": false,
         "type": "heatmap",
         "x": [
          "transfer_activity",
          "rarityRank",
          "time"
         ],
         "y": [
          "transfer_activity",
          "rarityRank",
          "time"
         ],
         "z": [
          [
           1,
           0.16423543101431315,
           -0.09727699313535275
          ],
          [
           0.16423543101431315,
           1,
           0.31166135918678567
          ],
          [
           -0.09727699313535275,
           0.31166135918678567,
           1
          ]
         ]
        }
       ],
       "layout": {
        "template": {
         "data": {
          "bar": [
           {
            "error_x": {
             "color": "#2a3f5f"
            },
            "error_y": {
             "color": "#2a3f5f"
            },
            "marker": {
             "line": {
              "color": "#E5ECF6",
              "width": 0.5
             },
             "pattern": {
              "fillmode": "overlay",
              "size": 10,
              "solidity": 0.2
             }
            },
            "type": "bar"
           }
          ],
          "barpolar": [
           {
            "marker": {
             "line": {
              "color": "#E5ECF6",
              "width": 0.5
             },
             "pattern": {
              "fillmode": "overlay",
              "size": 10,
              "solidity": 0.2
             }
            },
            "type": "barpolar"
           }
          ],
          "carpet": [
           {
            "aaxis": {
             "endlinecolor": "#2a3f5f",
             "gridcolor": "white",
             "linecolor": "white",
             "minorgridcolor": "white",
             "startlinecolor": "#2a3f5f"
            },
            "baxis": {
             "endlinecolor": "#2a3f5f",
             "gridcolor": "white",
             "linecolor": "white",
             "minorgridcolor": "white",
             "startlinecolor": "#2a3f5f"
            },
            "type": "carpet"
           }
          ],
          "choropleth": [
           {
            "colorbar": {
             "outlinewidth": 0,
             "ticks": ""
            },
            "type": "choropleth"
           }
          ],
          "contour": [
           {
            "colorbar": {
             "outlinewidth": 0,
             "ticks": ""
            },
            "colorscale": [
             [
              0,
              "#0d0887"
             ],
             [
              0.1111111111111111,
              "#46039f"
             ],
             [
              0.2222222222222222,
              "#7201a8"
             ],
             [
              0.3333333333333333,
              "#9c179e"
             ],
             [
              0.4444444444444444,
              "#bd3786"
             ],
             [
              0.5555555555555556,
              "#d8576b"
             ],
             [
              0.6666666666666666,
              "#ed7953"
             ],
             [
              0.7777777777777778,
              "#fb9f3a"
             ],
             [
              0.8888888888888888,
              "#fdca26"
             ],
             [
              1,
              "#f0f921"
             ]
            ],
            "type": "contour"
           }
          ],
          "contourcarpet": [
           {
            "colorbar": {
             "outlinewidth": 0,
             "ticks": ""
            },
            "type": "contourcarpet"
           }
          ],
          "heatmap": [
           {
            "colorbar": {
             "outlinewidth": 0,
             "ticks": ""
            },
            "colorscale": [
             [
              0,
              "#0d0887"
             ],
             [
              0.1111111111111111,
              "#46039f"
             ],
             [
              0.2222222222222222,
              "#7201a8"
             ],
             [
              0.3333333333333333,
              "#9c179e"
             ],
             [
              0.4444444444444444,
              "#bd3786"
             ],
             [
              0.5555555555555556,
              "#d8576b"
             ],
             [
              0.6666666666666666,
              "#ed7953"
             ],
             [
              0.7777777777777778,
              "#fb9f3a"
             ],
             [
              0.8888888888888888,
              "#fdca26"
             ],
             [
              1,
              "#f0f921"
             ]
            ],
            "type": "heatmap"
           }
          ],
          "heatmapgl": [
           {
            "colorbar": {
             "outlinewidth": 0,
             "ticks": ""
            },
            "colorscale": [
             [
              0,
              "#0d0887"
             ],
             [
              0.1111111111111111,
              "#46039f"
             ],
             [
              0.2222222222222222,
              "#7201a8"
             ],
             [
              0.3333333333333333,
              "#9c179e"
             ],
             [
              0.4444444444444444,
              "#bd3786"
             ],
             [
              0.5555555555555556,
              "#d8576b"
             ],
             [
              0.6666666666666666,
              "#ed7953"
             ],
             [
              0.7777777777777778,
              "#fb9f3a"
             ],
             [
              0.8888888888888888,
              "#fdca26"
             ],
             [
              1,
              "#f0f921"
             ]
            ],
            "type": "heatmapgl"
           }
          ],
          "histogram": [
           {
            "marker": {
             "pattern": {
              "fillmode": "overlay",
              "size": 10,
              "solidity": 0.2
             }
            },
            "type": "histogram"
           }
          ],
          "histogram2d": [
           {
            "colorbar": {
             "outlinewidth": 0,
             "ticks": ""
            },
            "colorscale": [
             [
              0,
              "#0d0887"
             ],
             [
              0.1111111111111111,
              "#46039f"
             ],
             [
              0.2222222222222222,
              "#7201a8"
             ],
             [
              0.3333333333333333,
              "#9c179e"
             ],
             [
              0.4444444444444444,
              "#bd3786"
             ],
             [
              0.5555555555555556,
              "#d8576b"
             ],
             [
              0.6666666666666666,
              "#ed7953"
             ],
             [
              0.7777777777777778,
              "#fb9f3a"
             ],
             [
              0.8888888888888888,
              "#fdca26"
             ],
             [
              1,
              "#f0f921"
             ]
            ],
            "type": "histogram2d"
           }
          ],
          "histogram2dcontour": [
           {
            "colorbar": {
             "outlinewidth": 0,
             "ticks": ""
            },
            "colorscale": [
             [
              0,
              "#0d0887"
             ],
             [
              0.1111111111111111,
              "#46039f"
             ],
             [
              0.2222222222222222,
              "#7201a8"
             ],
             [
              0.3333333333333333,
              "#9c179e"
             ],
             [
              0.4444444444444444,
              "#bd3786"
             ],
             [
              0.5555555555555556,
              "#d8576b"
             ],
             [
              0.6666666666666666,
              "#ed7953"
             ],
             [
              0.7777777777777778,
              "#fb9f3a"
             ],
             [
              0.8888888888888888,
              "#fdca26"
             ],
             [
              1,
              "#f0f921"
             ]
            ],
            "type": "histogram2dcontour"
           }
          ],
          "mesh3d": [
           {
            "colorbar": {
             "outlinewidth": 0,
             "ticks": ""
            },
            "type": "mesh3d"
           }
          ],
          "parcoords": [
           {
            "line": {
             "colorbar": {
              "outlinewidth": 0,
              "ticks": ""
             }
            },
            "type": "parcoords"
           }
          ],
          "pie": [
           {
            "automargin": true,
            "type": "pie"
           }
          ],
          "scatter": [
           {
            "fillpattern": {
             "fillmode": "overlay",
             "size": 10,
             "solidity": 0.2
            },
            "type": "scatter"
           }
          ],
          "scatter3d": [
           {
            "line": {
             "colorbar": {
              "outlinewidth": 0,
              "ticks": ""
             }
            },
            "marker": {
             "colorbar": {
              "outlinewidth": 0,
              "ticks": ""
             }
            },
            "type": "scatter3d"
           }
          ],
          "scattercarpet": [
           {
            "marker": {
             "colorbar": {
              "outlinewidth": 0,
              "ticks": ""
             }
            },
            "type": "scattercarpet"
           }
          ],
          "scattergeo": [
           {
            "marker": {
             "colorbar": {
              "outlinewidth": 0,
              "ticks": ""
             }
            },
            "type": "scattergeo"
           }
          ],
          "scattergl": [
           {
            "marker": {
             "colorbar": {
              "outlinewidth": 0,
              "ticks": ""
             }
            },
            "type": "scattergl"
           }
          ],
          "scattermapbox": [
           {
            "marker": {
             "colorbar": {
              "outlinewidth": 0,
              "ticks": ""
             }
            },
            "type": "scattermapbox"
           }
          ],
          "scatterpolar": [
           {
            "marker": {
             "colorbar": {
              "outlinewidth": 0,
              "ticks": ""
             }
            },
            "type": "scatterpolar"
           }
          ],
          "scatterpolargl": [
           {
            "marker": {
             "colorbar": {
              "outlinewidth": 0,
              "ticks": ""
             }
            },
            "type": "scatterpolargl"
           }
          ],
          "scatterternary": [
           {
            "marker": {
             "colorbar": {
              "outlinewidth": 0,
              "ticks": ""
             }
            },
            "type": "scatterternary"
           }
          ],
          "surface": [
           {
            "colorbar": {
             "outlinewidth": 0,
             "ticks": ""
            },
            "colorscale": [
             [
              0,
              "#0d0887"
             ],
             [
              0.1111111111111111,
              "#46039f"
             ],
             [
              0.2222222222222222,
              "#7201a8"
             ],
             [
              0.3333333333333333,
              "#9c179e"
             ],
             [
              0.4444444444444444,
              "#bd3786"
             ],
             [
              0.5555555555555556,
              "#d8576b"
             ],
             [
              0.6666666666666666,
              "#ed7953"
             ],
             [
              0.7777777777777778,
              "#fb9f3a"
             ],
             [
              0.8888888888888888,
              "#fdca26"
             ],
             [
              1,
              "#f0f921"
             ]
            ],
            "type": "surface"
           }
          ],
          "table": [
           {
            "cells": {
             "fill": {
              "color": "#EBF0F8"
             },
             "line": {
              "color": "white"
             }
            },
            "header": {
             "fill": {
              "color": "#C8D4E3"
             },
             "line": {
              "color": "white"
             }
            },
            "type": "table"
           }
          ]
         },
         "layout": {
          "annotationdefaults": {
           "arrowcolor": "#2a3f5f",
           "arrowhead": 0,
           "arrowwidth": 1
          },
          "autotypenumbers": "strict",
          "coloraxis": {
           "colorbar": {
            "outlinewidth": 0,
            "ticks": ""
           }
          },
          "colorscale": {
           "diverging": [
            [
             0,
             "#8e0152"
            ],
            [
             0.1,
             "#c51b7d"
            ],
            [
             0.2,
             "#de77ae"
            ],
            [
             0.3,
             "#f1b6da"
            ],
            [
             0.4,
             "#fde0ef"
            ],
            [
             0.5,
             "#f7f7f7"
            ],
            [
             0.6,
             "#e6f5d0"
            ],
            [
             0.7,
             "#b8e186"
            ],
            [
             0.8,
             "#7fbc41"
            ],
            [
             0.9,
             "#4d9221"
            ],
            [
             1,
             "#276419"
            ]
           ],
           "sequential": [
            [
             0,
             "#0d0887"
            ],
            [
             0.1111111111111111,
             "#46039f"
            ],
            [
             0.2222222222222222,
             "#7201a8"
            ],
            [
             0.3333333333333333,
             "#9c179e"
            ],
            [
             0.4444444444444444,
             "#bd3786"
            ],
            [
             0.5555555555555556,
             "#d8576b"
            ],
            [
             0.6666666666666666,
             "#ed7953"
            ],
            [
             0.7777777777777778,
             "#fb9f3a"
            ],
            [
             0.8888888888888888,
             "#fdca26"
            ],
            [
             1,
             "#f0f921"
            ]
           ],
           "sequentialminus": [
            [
             0,
             "#0d0887"
            ],
            [
             0.1111111111111111,
             "#46039f"
            ],
            [
             0.2222222222222222,
             "#7201a8"
            ],
            [
             0.3333333333333333,
             "#9c179e"
            ],
            [
             0.4444444444444444,
             "#bd3786"
            ],
            [
             0.5555555555555556,
             "#d8576b"
            ],
            [
             0.6666666666666666,
             "#ed7953"
            ],
            [
             0.7777777777777778,
             "#fb9f3a"
            ],
            [
             0.8888888888888888,
             "#fdca26"
            ],
            [
             1,
             "#f0f921"
            ]
           ]
          },
          "colorway": [
           "#636efa",
           "#EF553B",
           "#00cc96",
           "#ab63fa",
           "#FFA15A",
           "#19d3f3",
           "#FF6692",
           "#B6E880",
           "#FF97FF",
           "#FECB52"
          ],
          "font": {
           "color": "#2a3f5f"
          },
          "geo": {
           "bgcolor": "white",
           "lakecolor": "white",
           "landcolor": "#E5ECF6",
           "showlakes": true,
           "showland": true,
           "subunitcolor": "white"
          },
          "hoverlabel": {
           "align": "left"
          },
          "hovermode": "closest",
          "mapbox": {
           "style": "light"
          },
          "paper_bgcolor": "white",
          "plot_bgcolor": "#E5ECF6",
          "polar": {
           "angularaxis": {
            "gridcolor": "white",
            "linecolor": "white",
            "ticks": ""
           },
           "bgcolor": "#E5ECF6",
           "radialaxis": {
            "gridcolor": "white",
            "linecolor": "white",
            "ticks": ""
           }
          },
          "scene": {
           "xaxis": {
            "backgroundcolor": "#E5ECF6",
            "gridcolor": "white",
            "gridwidth": 2,
            "linecolor": "white",
            "showbackground": true,
            "ticks": "",
            "zerolinecolor": "white"
           },
           "yaxis": {
            "backgroundcolor": "#E5ECF6",
            "gridcolor": "white",
            "gridwidth": 2,
            "linecolor": "white",
            "showbackground": true,
            "ticks": "",
            "zerolinecolor": "white"
           },
           "zaxis": {
            "backgroundcolor": "#E5ECF6",
            "gridcolor": "white",
            "gridwidth": 2,
            "linecolor": "white",
            "showbackground": true,
            "ticks": "",
            "zerolinecolor": "white"
           }
          },
          "shapedefaults": {
           "line": {
            "color": "#2a3f5f"
           }
          },
          "ternary": {
           "aaxis": {
            "gridcolor": "white",
            "linecolor": "white",
            "ticks": ""
           },
           "baxis": {
            "gridcolor": "white",
            "linecolor": "white",
            "ticks": ""
           },
           "bgcolor": "#E5ECF6",
           "caxis": {
            "gridcolor": "white",
            "linecolor": "white",
            "ticks": ""
           }
          },
          "title": {
           "x": 0.05
          },
          "xaxis": {
           "automargin": true,
           "gridcolor": "white",
           "linecolor": "white",
           "ticks": "",
           "title": {
            "standoff": 15
           },
           "zerolinecolor": "white",
           "zerolinewidth": 2
          },
          "yaxis": {
           "automargin": true,
           "gridcolor": "white",
           "linecolor": "white",
           "ticks": "",
           "title": {
            "standoff": 15
           },
           "zerolinecolor": "white",
           "zerolinewidth": 2
          }
         }
        }
       }
      },
      "text/html": [
       "<div>                            <div id=\"47a86abd-2ef9-41ea-87c8-43ed8e345ddd\" class=\"plotly-graph-div\" style=\"height:525px; width:100%;\"></div>            <script type=\"text/javascript\">                require([\"plotly\"], function(Plotly) {                    window.PLOTLYENV=window.PLOTLYENV || {};                                    if (document.getElementById(\"47a86abd-2ef9-41ea-87c8-43ed8e345ddd\")) {                    Plotly.newPlot(                        \"47a86abd-2ef9-41ea-87c8-43ed8e345ddd\",                        [{\"hoverongaps\":false,\"x\":[\"transfer_activity\",\"rarityRank\",\"time\"],\"y\":[\"transfer_activity\",\"rarityRank\",\"time\"],\"z\":[[1.0,0.16423543101431315,-0.09727699313535275],[0.16423543101431315,1.0,0.31166135918678567],[-0.09727699313535275,0.31166135918678567,1.0]],\"type\":\"heatmap\"}],                        {\"template\":{\"data\":{\"histogram2dcontour\":[{\"type\":\"histogram2dcontour\",\"colorbar\":{\"outlinewidth\":0,\"ticks\":\"\"},\"colorscale\":[[0.0,\"#0d0887\"],[0.1111111111111111,\"#46039f\"],[0.2222222222222222,\"#7201a8\"],[0.3333333333333333,\"#9c179e\"],[0.4444444444444444,\"#bd3786\"],[0.5555555555555556,\"#d8576b\"],[0.6666666666666666,\"#ed7953\"],[0.7777777777777778,\"#fb9f3a\"],[0.8888888888888888,\"#fdca26\"],[1.0,\"#f0f921\"]]}],\"choropleth\":[{\"type\":\"choropleth\",\"colorbar\":{\"outlinewidth\":0,\"ticks\":\"\"}}],\"histogram2d\":[{\"type\":\"histogram2d\",\"colorbar\":{\"outlinewidth\":0,\"ticks\":\"\"},\"colorscale\":[[0.0,\"#0d0887\"],[0.1111111111111111,\"#46039f\"],[0.2222222222222222,\"#7201a8\"],[0.3333333333333333,\"#9c179e\"],[0.4444444444444444,\"#bd3786\"],[0.5555555555555556,\"#d8576b\"],[0.6666666666666666,\"#ed7953\"],[0.7777777777777778,\"#fb9f3a\"],[0.8888888888888888,\"#fdca26\"],[1.0,\"#f0f921\"]]}],\"heatmap\":[{\"type\":\"heatmap\",\"colorbar\":{\"outlinewidth\":0,\"ticks\":\"\"},\"colorscale\":[[0.0,\"#0d0887\"],[0.1111111111111111,\"#46039f\"],[0.2222222222222222,\"#7201a8\"],[0.3333333333333333,\"#9c179e\"],[0.4444444444444444,\"#bd3786\"],[0.5555555555555556,\"#d8576b\"],[0.6666666666666666,\"#ed7953\"],[0.7777777777777778,\"#fb9f3a\"],[0.8888888888888888,\"#fdca26\"],[1.0,\"#f0f921\"]]}],\"heatmapgl\":[{\"type\":\"heatmapgl\",\"colorbar\":{\"outlinewidth\":0,\"ticks\":\"\"},\"colorscale\":[[0.0,\"#0d0887\"],[0.1111111111111111,\"#46039f\"],[0.2222222222222222,\"#7201a8\"],[0.3333333333333333,\"#9c179e\"],[0.4444444444444444,\"#bd3786\"],[0.5555555555555556,\"#d8576b\"],[0.6666666666666666,\"#ed7953\"],[0.7777777777777778,\"#fb9f3a\"],[0.8888888888888888,\"#fdca26\"],[1.0,\"#f0f921\"]]}],\"contourcarpet\":[{\"type\":\"contourcarpet\",\"colorbar\":{\"outlinewidth\":0,\"ticks\":\"\"}}],\"contour\":[{\"type\":\"contour\",\"colorbar\":{\"outlinewidth\":0,\"ticks\":\"\"},\"colorscale\":[[0.0,\"#0d0887\"],[0.1111111111111111,\"#46039f\"],[0.2222222222222222,\"#7201a8\"],[0.3333333333333333,\"#9c179e\"],[0.4444444444444444,\"#bd3786\"],[0.5555555555555556,\"#d8576b\"],[0.6666666666666666,\"#ed7953\"],[0.7777777777777778,\"#fb9f3a\"],[0.8888888888888888,\"#fdca26\"],[1.0,\"#f0f921\"]]}],\"surface\":[{\"type\":\"surface\",\"colorbar\":{\"outlinewidth\":0,\"ticks\":\"\"},\"colorscale\":[[0.0,\"#0d0887\"],[0.1111111111111111,\"#46039f\"],[0.2222222222222222,\"#7201a8\"],[0.3333333333333333,\"#9c179e\"],[0.4444444444444444,\"#bd3786\"],[0.5555555555555556,\"#d8576b\"],[0.6666666666666666,\"#ed7953\"],[0.7777777777777778,\"#fb9f3a\"],[0.8888888888888888,\"#fdca26\"],[1.0,\"#f0f921\"]]}],\"mesh3d\":[{\"type\":\"mesh3d\",\"colorbar\":{\"outlinewidth\":0,\"ticks\":\"\"}}],\"scatter\":[{\"fillpattern\":{\"fillmode\":\"overlay\",\"size\":10,\"solidity\":0.2},\"type\":\"scatter\"}],\"parcoords\":[{\"type\":\"parcoords\",\"line\":{\"colorbar\":{\"outlinewidth\":0,\"ticks\":\"\"}}}],\"scatterpolargl\":[{\"type\":\"scatterpolargl\",\"marker\":{\"colorbar\":{\"outlinewidth\":0,\"ticks\":\"\"}}}],\"bar\":[{\"error_x\":{\"color\":\"#2a3f5f\"},\"error_y\":{\"color\":\"#2a3f5f\"},\"marker\":{\"line\":{\"color\":\"#E5ECF6\",\"width\":0.5},\"pattern\":{\"fillmode\":\"overlay\",\"size\":10,\"solidity\":0.2}},\"type\":\"bar\"}],\"scattergeo\":[{\"type\":\"scattergeo\",\"marker\":{\"colorbar\":{\"outlinewidth\":0,\"ticks\":\"\"}}}],\"scatterpolar\":[{\"type\":\"scatterpolar\",\"marker\":{\"colorbar\":{\"outlinewidth\":0,\"ticks\":\"\"}}}],\"histogram\":[{\"marker\":{\"pattern\":{\"fillmode\":\"overlay\",\"size\":10,\"solidity\":0.2}},\"type\":\"histogram\"}],\"scattergl\":[{\"type\":\"scattergl\",\"marker\":{\"colorbar\":{\"outlinewidth\":0,\"ticks\":\"\"}}}],\"scatter3d\":[{\"type\":\"scatter3d\",\"line\":{\"colorbar\":{\"outlinewidth\":0,\"ticks\":\"\"}},\"marker\":{\"colorbar\":{\"outlinewidth\":0,\"ticks\":\"\"}}}],\"scattermapbox\":[{\"type\":\"scattermapbox\",\"marker\":{\"colorbar\":{\"outlinewidth\":0,\"ticks\":\"\"}}}],\"scatterternary\":[{\"type\":\"scatterternary\",\"marker\":{\"colorbar\":{\"outlinewidth\":0,\"ticks\":\"\"}}}],\"scattercarpet\":[{\"type\":\"scattercarpet\",\"marker\":{\"colorbar\":{\"outlinewidth\":0,\"ticks\":\"\"}}}],\"carpet\":[{\"aaxis\":{\"endlinecolor\":\"#2a3f5f\",\"gridcolor\":\"white\",\"linecolor\":\"white\",\"minorgridcolor\":\"white\",\"startlinecolor\":\"#2a3f5f\"},\"baxis\":{\"endlinecolor\":\"#2a3f5f\",\"gridcolor\":\"white\",\"linecolor\":\"white\",\"minorgridcolor\":\"white\",\"startlinecolor\":\"#2a3f5f\"},\"type\":\"carpet\"}],\"table\":[{\"cells\":{\"fill\":{\"color\":\"#EBF0F8\"},\"line\":{\"color\":\"white\"}},\"header\":{\"fill\":{\"color\":\"#C8D4E3\"},\"line\":{\"color\":\"white\"}},\"type\":\"table\"}],\"barpolar\":[{\"marker\":{\"line\":{\"color\":\"#E5ECF6\",\"width\":0.5},\"pattern\":{\"fillmode\":\"overlay\",\"size\":10,\"solidity\":0.2}},\"type\":\"barpolar\"}],\"pie\":[{\"automargin\":true,\"type\":\"pie\"}]},\"layout\":{\"autotypenumbers\":\"strict\",\"colorway\":[\"#636efa\",\"#EF553B\",\"#00cc96\",\"#ab63fa\",\"#FFA15A\",\"#19d3f3\",\"#FF6692\",\"#B6E880\",\"#FF97FF\",\"#FECB52\"],\"font\":{\"color\":\"#2a3f5f\"},\"hovermode\":\"closest\",\"hoverlabel\":{\"align\":\"left\"},\"paper_bgcolor\":\"white\",\"plot_bgcolor\":\"#E5ECF6\",\"polar\":{\"bgcolor\":\"#E5ECF6\",\"angularaxis\":{\"gridcolor\":\"white\",\"linecolor\":\"white\",\"ticks\":\"\"},\"radialaxis\":{\"gridcolor\":\"white\",\"linecolor\":\"white\",\"ticks\":\"\"}},\"ternary\":{\"bgcolor\":\"#E5ECF6\",\"aaxis\":{\"gridcolor\":\"white\",\"linecolor\":\"white\",\"ticks\":\"\"},\"baxis\":{\"gridcolor\":\"white\",\"linecolor\":\"white\",\"ticks\":\"\"},\"caxis\":{\"gridcolor\":\"white\",\"linecolor\":\"white\",\"ticks\":\"\"}},\"coloraxis\":{\"colorbar\":{\"outlinewidth\":0,\"ticks\":\"\"}},\"colorscale\":{\"sequential\":[[0.0,\"#0d0887\"],[0.1111111111111111,\"#46039f\"],[0.2222222222222222,\"#7201a8\"],[0.3333333333333333,\"#9c179e\"],[0.4444444444444444,\"#bd3786\"],[0.5555555555555556,\"#d8576b\"],[0.6666666666666666,\"#ed7953\"],[0.7777777777777778,\"#fb9f3a\"],[0.8888888888888888,\"#fdca26\"],[1.0,\"#f0f921\"]],\"sequentialminus\":[[0.0,\"#0d0887\"],[0.1111111111111111,\"#46039f\"],[0.2222222222222222,\"#7201a8\"],[0.3333333333333333,\"#9c179e\"],[0.4444444444444444,\"#bd3786\"],[0.5555555555555556,\"#d8576b\"],[0.6666666666666666,\"#ed7953\"],[0.7777777777777778,\"#fb9f3a\"],[0.8888888888888888,\"#fdca26\"],[1.0,\"#f0f921\"]],\"diverging\":[[0,\"#8e0152\"],[0.1,\"#c51b7d\"],[0.2,\"#de77ae\"],[0.3,\"#f1b6da\"],[0.4,\"#fde0ef\"],[0.5,\"#f7f7f7\"],[0.6,\"#e6f5d0\"],[0.7,\"#b8e186\"],[0.8,\"#7fbc41\"],[0.9,\"#4d9221\"],[1,\"#276419\"]]},\"xaxis\":{\"gridcolor\":\"white\",\"linecolor\":\"white\",\"ticks\":\"\",\"title\":{\"standoff\":15},\"zerolinecolor\":\"white\",\"automargin\":true,\"zerolinewidth\":2},\"yaxis\":{\"gridcolor\":\"white\",\"linecolor\":\"white\",\"ticks\":\"\",\"title\":{\"standoff\":15},\"zerolinecolor\":\"white\",\"automargin\":true,\"zerolinewidth\":2},\"scene\":{\"xaxis\":{\"backgroundcolor\":\"#E5ECF6\",\"gridcolor\":\"white\",\"linecolor\":\"white\",\"showbackground\":true,\"ticks\":\"\",\"zerolinecolor\":\"white\",\"gridwidth\":2},\"yaxis\":{\"backgroundcolor\":\"#E5ECF6\",\"gridcolor\":\"white\",\"linecolor\":\"white\",\"showbackground\":true,\"ticks\":\"\",\"zerolinecolor\":\"white\",\"gridwidth\":2},\"zaxis\":{\"backgroundcolor\":\"#E5ECF6\",\"gridcolor\":\"white\",\"linecolor\":\"white\",\"showbackground\":true,\"ticks\":\"\",\"zerolinecolor\":\"white\",\"gridwidth\":2}},\"shapedefaults\":{\"line\":{\"color\":\"#2a3f5f\"}},\"annotationdefaults\":{\"arrowcolor\":\"#2a3f5f\",\"arrowhead\":0,\"arrowwidth\":1},\"geo\":{\"bgcolor\":\"white\",\"landcolor\":\"#E5ECF6\",\"subunitcolor\":\"white\",\"showland\":true,\"showlakes\":true,\"lakecolor\":\"white\"},\"title\":{\"x\":0.05},\"mapbox\":{\"style\":\"light\"}}}},                        {\"responsive\": true}                    ).then(function(){\n",
       "                            \n",
       "var gd = document.getElementById('47a86abd-2ef9-41ea-87c8-43ed8e345ddd');\n",
       "var x = new MutationObserver(function (mutations, observer) {{\n",
       "        var display = window.getComputedStyle(gd).display;\n",
       "        if (!display || display === 'none') {{\n",
       "            console.log([gd, 'removed!']);\n",
       "            Plotly.purge(gd);\n",
       "            observer.disconnect();\n",
       "        }}\n",
       "}});\n",
       "\n",
       "// Listen for the removal of the full notebook cells\n",
       "var notebookContainer = gd.closest('#notebook-container');\n",
       "if (notebookContainer) {{\n",
       "    x.observe(notebookContainer, {childList: true});\n",
       "}}\n",
       "\n",
       "// Listen for the clearing of the current output cell\n",
       "var outputEl = gd.closest('.output');\n",
       "if (outputEl) {{\n",
       "    x.observe(outputEl, {childList: true});\n",
       "}}\n",
       "\n",
       "                        })                };                });            </script>        </div>"
      ]
     },
     "metadata": {},
     "output_type": "display_data"
    }
   ],
   "source": [
    "x=list(df.corr().columns)\n",
    "y=list(df.corr().index)\n",
    "values=np.array(df.corr().values)\n",
    "fig = go.Figure(data=go.Heatmap(\n",
    "    z=values,\n",
    "    x=x,\n",
    "    y=y,\n",
    "                   \n",
    "    \n",
    "                   hoverongaps = False))\n",
    "fig.show()"
   ]
  },
  {
   "cell_type": "code",
   "execution_count": 47,
   "id": "8dbed5c4",
   "metadata": {},
   "outputs": [
    {
     "data": {
      "text/plain": [
       "{'name': 1147,\n",
       " 'transfer_activity': 19,\n",
       " 'Track': 12,\n",
       " 'Music': 8,\n",
       " 'rarityRank': 9,\n",
       " 'time': 12}"
      ]
     },
     "execution_count": 47,
     "metadata": {},
     "output_type": "execute_result"
    }
   ],
   "source": [
    "dic={}\n",
    "dic2={}\n",
    "df2=pd.read_csv(\"nftmusic_rarity.csv\")\n",
    "for c in df.columns:\n",
    "    dic[c]=len([*set(df[c].values)])\n",
    "for c in df2.columns:\n",
    "    dic2[c]=len([*set(df2[c].values)])\n",
    "dic"
   ]
  },
  {
   "cell_type": "code",
   "execution_count": 48,
   "id": "33fff0cc",
   "metadata": {},
   "outputs": [],
   "source": [
    "from sklearn.preprocessing import LabelEncoder\n",
    "le=LabelEncoder()"
   ]
  },
  {
   "cell_type": "code",
   "execution_count": 49,
   "id": "832a7322",
   "metadata": {},
   "outputs": [],
   "source": [
    "df['Track']=le.fit_transform(df.Track)\n",
    "df['Music']=le.fit_transform(df.Music)"
   ]
  },
  {
   "cell_type": "code",
   "execution_count": 51,
   "id": "cfabb134",
   "metadata": {},
   "outputs": [],
   "source": [
    "def find_word(word,words):\n",
    "    t=[]\n",
    "    count=0\n",
    "    if word[-1]==' ':\n",
    "        word=word[:-1]\n",
    "    for i in words:\n",
    "        if word.lower() in i.lower():\n",
    "            t.append([len(word)/len(i),count])\n",
    "        else:\n",
    "            t.append([0,count])\n",
    "        count+=1\n",
    "    t.sort(reverse=True)\n",
    "    return words[t[0][1]]"
   ]
  },
  {
   "cell_type": "code",
   "execution_count": null,
   "id": "2ed86e46",
   "metadata": {},
   "outputs": [],
   "source": []
  },
  {
   "cell_type": "code",
   "execution_count": null,
   "id": "32e732de",
   "metadata": {},
   "outputs": [],
   "source": []
  },
  {
   "cell_type": "code",
   "execution_count": null,
   "id": "24ed329e",
   "metadata": {},
   "outputs": [],
   "source": []
  },
  {
   "cell_type": "code",
   "execution_count": null,
   "id": "22ccf407",
   "metadata": {},
   "outputs": [],
   "source": []
  },
  {
   "cell_type": "code",
   "execution_count": null,
   "id": "f4a4be5f",
   "metadata": {},
   "outputs": [],
   "source": []
  },
  {
   "cell_type": "code",
   "execution_count": 66,
   "id": "9a14af4f",
   "metadata": {},
   "outputs": [],
   "source": [
    "from sklearn.cluster import KMeans"
   ]
  },
  {
   "cell_type": "code",
   "execution_count": 67,
   "id": "7d26cb18",
   "metadata": {},
   "outputs": [
    {
     "data": {
      "text/html": [
       "<style>#sk-container-id-5 {color: black;background-color: white;}#sk-container-id-5 pre{padding: 0;}#sk-container-id-5 div.sk-toggleable {background-color: white;}#sk-container-id-5 label.sk-toggleable__label {cursor: pointer;display: block;width: 100%;margin-bottom: 0;padding: 0.3em;box-sizing: border-box;text-align: center;}#sk-container-id-5 label.sk-toggleable__label-arrow:before {content: \"▸\";float: left;margin-right: 0.25em;color: #696969;}#sk-container-id-5 label.sk-toggleable__label-arrow:hover:before {color: black;}#sk-container-id-5 div.sk-estimator:hover label.sk-toggleable__label-arrow:before {color: black;}#sk-container-id-5 div.sk-toggleable__content {max-height: 0;max-width: 0;overflow: hidden;text-align: left;background-color: #f0f8ff;}#sk-container-id-5 div.sk-toggleable__content pre {margin: 0.2em;color: black;border-radius: 0.25em;background-color: #f0f8ff;}#sk-container-id-5 input.sk-toggleable__control:checked~div.sk-toggleable__content {max-height: 200px;max-width: 100%;overflow: auto;}#sk-container-id-5 input.sk-toggleable__control:checked~label.sk-toggleable__label-arrow:before {content: \"▾\";}#sk-container-id-5 div.sk-estimator input.sk-toggleable__control:checked~label.sk-toggleable__label {background-color: #d4ebff;}#sk-container-id-5 div.sk-label input.sk-toggleable__control:checked~label.sk-toggleable__label {background-color: #d4ebff;}#sk-container-id-5 input.sk-hidden--visually {border: 0;clip: rect(1px 1px 1px 1px);clip: rect(1px, 1px, 1px, 1px);height: 1px;margin: -1px;overflow: hidden;padding: 0;position: absolute;width: 1px;}#sk-container-id-5 div.sk-estimator {font-family: monospace;background-color: #f0f8ff;border: 1px dotted black;border-radius: 0.25em;box-sizing: border-box;margin-bottom: 0.5em;}#sk-container-id-5 div.sk-estimator:hover {background-color: #d4ebff;}#sk-container-id-5 div.sk-parallel-item::after {content: \"\";width: 100%;border-bottom: 1px solid gray;flex-grow: 1;}#sk-container-id-5 div.sk-label:hover label.sk-toggleable__label {background-color: #d4ebff;}#sk-container-id-5 div.sk-serial::before {content: \"\";position: absolute;border-left: 1px solid gray;box-sizing: border-box;top: 0;bottom: 0;left: 50%;z-index: 0;}#sk-container-id-5 div.sk-serial {display: flex;flex-direction: column;align-items: center;background-color: white;padding-right: 0.2em;padding-left: 0.2em;position: relative;}#sk-container-id-5 div.sk-item {position: relative;z-index: 1;}#sk-container-id-5 div.sk-parallel {display: flex;align-items: stretch;justify-content: center;background-color: white;position: relative;}#sk-container-id-5 div.sk-item::before, #sk-container-id-5 div.sk-parallel-item::before {content: \"\";position: absolute;border-left: 1px solid gray;box-sizing: border-box;top: 0;bottom: 0;left: 50%;z-index: -1;}#sk-container-id-5 div.sk-parallel-item {display: flex;flex-direction: column;z-index: 1;position: relative;background-color: white;}#sk-container-id-5 div.sk-parallel-item:first-child::after {align-self: flex-end;width: 50%;}#sk-container-id-5 div.sk-parallel-item:last-child::after {align-self: flex-start;width: 50%;}#sk-container-id-5 div.sk-parallel-item:only-child::after {width: 0;}#sk-container-id-5 div.sk-dashed-wrapped {border: 1px dashed gray;margin: 0 0.4em 0.5em 0.4em;box-sizing: border-box;padding-bottom: 0.4em;background-color: white;}#sk-container-id-5 div.sk-label label {font-family: monospace;font-weight: bold;display: inline-block;line-height: 1.2em;}#sk-container-id-5 div.sk-label-container {text-align: center;}#sk-container-id-5 div.sk-container {/* jupyter's `normalize.less` sets `[hidden] { display: none; }` but bootstrap.min.css set `[hidden] { display: none !important; }` so we also need the `!important` here to be able to override the default hidden behavior on the sphinx rendered scikit-learn.org. See: https://github.com/scikit-learn/scikit-learn/issues/21755 */display: inline-block !important;position: relative;}#sk-container-id-5 div.sk-text-repr-fallback {display: none;}</style><div id=\"sk-container-id-5\" class=\"sk-top-container\"><div class=\"sk-text-repr-fallback\"><pre>KMeans(n_clusters=2, random_state=0)</pre><b>In a Jupyter environment, please rerun this cell to show the HTML representation or trust the notebook. <br />On GitHub, the HTML representation is unable to render, please try loading this page with nbviewer.org.</b></div><div class=\"sk-container\" hidden><div class=\"sk-item\"><div class=\"sk-estimator sk-toggleable\"><input class=\"sk-toggleable__control sk-hidden--visually\" id=\"sk-estimator-id-9\" type=\"checkbox\" checked><label for=\"sk-estimator-id-9\" class=\"sk-toggleable__label sk-toggleable__label-arrow\">KMeans</label><div class=\"sk-toggleable__content\"><pre>KMeans(n_clusters=2, random_state=0)</pre></div></div></div></div></div>"
      ],
      "text/plain": [
       "KMeans(n_clusters=2, random_state=0)"
      ]
     },
     "execution_count": 67,
     "metadata": {},
     "output_type": "execute_result"
    }
   ],
   "source": [
    "kmeans = KMeans(n_clusters=2, random_state=0) \n",
    "kmeans.fit(df[df.drop(columns=['name']).columns])"
   ]
  },
  {
   "cell_type": "code",
   "execution_count": 68,
   "id": "cb404c97",
   "metadata": {},
   "outputs": [
    {
     "data": {
      "image/png": "[encoded data removed]",
      "text/plain": [
       "<Figure size 800x550 with 2 Axes>"
      ]
     },
     "metadata": {},
     "output_type": "display_data"
    },
    {
     "data": {
      "text/plain": [
       "<AxesSubplot: title={'center': 'Distortion Score Elbow for KMeans Clustering'}, xlabel='k', ylabel='distortion score'>"
      ]
     },
     "execution_count": 68,
     "metadata": {},
     "output_type": "execute_result"
    }
   ],
   "source": [
    "from yellowbrick.cluster import KElbowVisualizer\n",
    "from sklearn import cluster\n",
    "model = KElbowVisualizer(kmeans, k=10)\n",
    "model.fit(df[df.drop(columns=['name']).columns])\n",
    "model.show()\n"
   ]
  },
  {
   "cell_type": "code",
   "execution_count": 69,
   "id": "5ba9973d",
   "metadata": {},
   "outputs": [
    {
     "name": "stderr",
     "output_type": "stream",
     "text": [
      "D:\\Strawhats\\Model\\project\\lib\\site-packages\\yellowbrick\\utils\\kneed.py:156: YellowbrickWarning:\n",
      "\n",
      "No 'knee' or 'elbow point' detected This could be due to bad clustering, no actual clusters being formed etc.\n",
      "\n",
      "D:\\Strawhats\\Model\\project\\lib\\site-packages\\yellowbrick\\cluster\\elbow.py:374: YellowbrickWarning:\n",
      "\n",
      "No 'knee' or 'elbow' point detected, pass `locate_elbow=False` to remove the warning\n",
      "\n"
     ]
    },
    {
     "data": {
      "text/html": [
       "<style>#sk-container-id-6 {color: black;background-color: white;}#sk-container-id-6 pre{padding: 0;}#sk-container-id-6 div.sk-toggleable {background-color: white;}#sk-container-id-6 label.sk-toggleable__label {cursor: pointer;display: block;width: 100%;margin-bottom: 0;padding: 0.3em;box-sizing: border-box;text-align: center;}#sk-container-id-6 label.sk-toggleable__label-arrow:before {content: \"▸\";float: left;margin-right: 0.25em;color: #696969;}#sk-container-id-6 label.sk-toggleable__label-arrow:hover:before {color: black;}#sk-container-id-6 div.sk-estimator:hover label.sk-toggleable__label-arrow:before {color: black;}#sk-container-id-6 div.sk-toggleable__content {max-height: 0;max-width: 0;overflow: hidden;text-align: left;background-color: #f0f8ff;}#sk-container-id-6 div.sk-toggleable__content pre {margin: 0.2em;color: black;border-radius: 0.25em;background-color: #f0f8ff;}#sk-container-id-6 input.sk-toggleable__control:checked~div.sk-toggleable__content {max-height: 200px;max-width: 100%;overflow: auto;}#sk-container-id-6 input.sk-toggleable__control:checked~label.sk-toggleable__label-arrow:before {content: \"▾\";}#sk-container-id-6 div.sk-estimator input.sk-toggleable__control:checked~label.sk-toggleable__label {background-color: #d4ebff;}#sk-container-id-6 div.sk-label input.sk-toggleable__control:checked~label.sk-toggleable__label {background-color: #d4ebff;}#sk-container-id-6 input.sk-hidden--visually {border: 0;clip: rect(1px 1px 1px 1px);clip: rect(1px, 1px, 1px, 1px);height: 1px;margin: -1px;overflow: hidden;padding: 0;position: absolute;width: 1px;}#sk-container-id-6 div.sk-estimator {font-family: monospace;background-color: #f0f8ff;border: 1px dotted black;border-radius: 0.25em;box-sizing: border-box;margin-bottom: 0.5em;}#sk-container-id-6 div.sk-estimator:hover {background-color: #d4ebff;}#sk-container-id-6 div.sk-parallel-item::after {content: \"\";width: 100%;border-bottom: 1px solid gray;flex-grow: 1;}#sk-container-id-6 div.sk-label:hover label.sk-toggleable__label {background-color: #d4ebff;}#sk-container-id-6 div.sk-serial::before {content: \"\";position: absolute;border-left: 1px solid gray;box-sizing: border-box;top: 0;bottom: 0;left: 50%;z-index: 0;}#sk-container-id-6 div.sk-serial {display: flex;flex-direction: column;align-items: center;background-color: white;padding-right: 0.2em;padding-left: 0.2em;position: relative;}#sk-container-id-6 div.sk-item {position: relative;z-index: 1;}#sk-container-id-6 div.sk-parallel {display: flex;align-items: stretch;justify-content: center;background-color: white;position: relative;}#sk-container-id-6 div.sk-item::before, #sk-container-id-6 div.sk-parallel-item::before {content: \"\";position: absolute;border-left: 1px solid gray;box-sizing: border-box;top: 0;bottom: 0;left: 50%;z-index: -1;}#sk-container-id-6 div.sk-parallel-item {display: flex;flex-direction: column;z-index: 1;position: relative;background-color: white;}#sk-container-id-6 div.sk-parallel-item:first-child::after {align-self: flex-end;width: 50%;}#sk-container-id-6 div.sk-parallel-item:last-child::after {align-self: flex-start;width: 50%;}#sk-container-id-6 div.sk-parallel-item:only-child::after {width: 0;}#sk-container-id-6 div.sk-dashed-wrapped {border: 1px dashed gray;margin: 0 0.4em 0.5em 0.4em;box-sizing: border-box;padding-bottom: 0.4em;background-color: white;}#sk-container-id-6 div.sk-label label {font-family: monospace;font-weight: bold;display: inline-block;line-height: 1.2em;}#sk-container-id-6 div.sk-label-container {text-align: center;}#sk-container-id-6 div.sk-container {/* jupyter's `normalize.less` sets `[hidden] { display: none; }` but bootstrap.min.css set `[hidden] { display: none !important; }` so we also need the `!important` here to be able to override the default hidden behavior on the sphinx rendered scikit-learn.org. See: https://github.com/scikit-learn/scikit-learn/issues/21755 */display: inline-block !important;position: relative;}#sk-container-id-6 div.sk-text-repr-fallback {display: none;}</style><div id=\"sk-container-id-6\" class=\"sk-top-container\"><div class=\"sk-text-repr-fallback\"><pre>KElbowVisualizer(ax=&lt;AxesSubplot: &gt;,\n",
       "                 estimator=KMeans(n_clusters=3, random_state=0), k=3)</pre><b>In a Jupyter environment, please rerun this cell to show the HTML representation or trust the notebook. <br />On GitHub, the HTML representation is unable to render, please try loading this page with nbviewer.org.</b></div><div class=\"sk-container\" hidden><div class=\"sk-item sk-dashed-wrapped\"><div class=\"sk-label-container\"><div class=\"sk-label sk-toggleable\"><input class=\"sk-toggleable__control sk-hidden--visually\" id=\"sk-estimator-id-10\" type=\"checkbox\" ><label for=\"sk-estimator-id-10\" class=\"sk-toggleable__label sk-toggleable__label-arrow\">KElbowVisualizer</label><div class=\"sk-toggleable__content\"><pre>KElbowVisualizer(ax=&lt;AxesSubplot: &gt;,\n",
       "                 estimator=KMeans(n_clusters=3, random_state=0), k=3)</pre></div></div></div><div class=\"sk-parallel\"><div class=\"sk-parallel-item\"><div class=\"sk-item\"><div class=\"sk-label-container\"><div class=\"sk-label sk-toggleable\"><input class=\"sk-toggleable__control sk-hidden--visually\" id=\"sk-estimator-id-11\" type=\"checkbox\" ><label for=\"sk-estimator-id-11\" class=\"sk-toggleable__label sk-toggleable__label-arrow\">estimator: KMeans</label><div class=\"sk-toggleable__content\"><pre>KMeans(n_clusters=3, random_state=0)</pre></div></div></div><div class=\"sk-serial\"><div class=\"sk-item\"><div class=\"sk-estimator sk-toggleable\"><input class=\"sk-toggleable__control sk-hidden--visually\" id=\"sk-estimator-id-12\" type=\"checkbox\" ><label for=\"sk-estimator-id-12\" class=\"sk-toggleable__label sk-toggleable__label-arrow\">KMeans</label><div class=\"sk-toggleable__content\"><pre>KMeans(n_clusters=3, random_state=0)</pre></div></div></div></div></div></div></div></div></div></div>"
      ],
      "text/plain": [
       "KElbowVisualizer(ax=<AxesSubplot: >,\n",
       "                 estimator=KMeans(n_clusters=3, random_state=0), k=3)"
      ]
     },
     "execution_count": 69,
     "metadata": {},
     "output_type": "execute_result"
    },
    {
     "data": {
      "image/png": "[encoded data removed]",
      "text/plain": [
       "<Figure size 800x550 with 2 Axes>"
      ]
     },
     "metadata": {},
     "output_type": "display_data"
    }
   ],
   "source": [
    "model = KElbowVisualizer(kmeans, k=3)\n",
    "model.fit(df[df.drop(columns=['name']).columns])"
   ]
  },
  {
   "cell_type": "code",
   "execution_count": 70,
   "id": "47add35e",
   "metadata": {},
   "outputs": [],
   "source": [
    "wss=[]\n",
    "K=range(1,20)\n",
    "for k in K:\n",
    "    kmeans=cluster.KMeans(n_clusters=k,init=\"k-means++\")\n",
    "    kmeans=kmeans.fit(df[df.drop(columns=['name']).columns])\n",
    "    wss_iter=kmeans.inertia_\n",
    "    wss.append(wss_iter)"
   ]
  },
  {
   "cell_type": "code",
   "execution_count": 71,
   "id": "c487974c",
   "metadata": {},
   "outputs": [
    {
     "data": {
      "text/html": [
       "<div>\n",
       "<style scoped>\n",
       "    .dataframe tbody tr th:only-of-type {\n",
       "        vertical-align: middle;\n",
       "    }\n",
       "\n",
       "    .dataframe tbody tr th {\n",
       "        vertical-align: top;\n",
       "    }\n",
       "\n",
       "    .dataframe thead th {\n",
       "        text-align: right;\n",
       "    }\n",
       "</style>\n",
       "<table border=\"1\" class=\"dataframe\">\n",
       "  <thead>\n",
       "    <tr style=\"text-align: right;\">\n",
       "      <th></th>\n",
       "      <th>Clusters</th>\n",
       "      <th>Distortion</th>\n",
       "    </tr>\n",
       "  </thead>\n",
       "  <tbody>\n",
       "    <tr>\n",
       "      <th>0</th>\n",
       "      <td>1</td>\n",
       "      <td>1.165460e+07</td>\n",
       "    </tr>\n",
       "    <tr>\n",
       "      <th>1</th>\n",
       "      <td>2</td>\n",
       "      <td>4.240089e+05</td>\n",
       "    </tr>\n",
       "    <tr>\n",
       "      <th>2</th>\n",
       "      <td>3</td>\n",
       "      <td>1.064680e+05</td>\n",
       "    </tr>\n",
       "    <tr>\n",
       "      <th>3</th>\n",
       "      <td>4</td>\n",
       "      <td>5.778380e+04</td>\n",
       "    </tr>\n",
       "    <tr>\n",
       "      <th>4</th>\n",
       "      <td>5</td>\n",
       "      <td>3.375771e+04</td>\n",
       "    </tr>\n",
       "    <tr>\n",
       "      <th>5</th>\n",
       "      <td>6</td>\n",
       "      <td>2.072248e+04</td>\n",
       "    </tr>\n",
       "    <tr>\n",
       "      <th>6</th>\n",
       "      <td>7</td>\n",
       "      <td>1.542087e+04</td>\n",
       "    </tr>\n",
       "    <tr>\n",
       "      <th>7</th>\n",
       "      <td>8</td>\n",
       "      <td>1.265161e+04</td>\n",
       "    </tr>\n",
       "    <tr>\n",
       "      <th>8</th>\n",
       "      <td>9</td>\n",
       "      <td>9.905379e+03</td>\n",
       "    </tr>\n",
       "    <tr>\n",
       "      <th>9</th>\n",
       "      <td>10</td>\n",
       "      <td>7.309488e+03</td>\n",
       "    </tr>\n",
       "    <tr>\n",
       "      <th>10</th>\n",
       "      <td>11</td>\n",
       "      <td>4.981869e+03</td>\n",
       "    </tr>\n",
       "    <tr>\n",
       "      <th>11</th>\n",
       "      <td>12</td>\n",
       "      <td>2.892411e+03</td>\n",
       "    </tr>\n",
       "    <tr>\n",
       "      <th>12</th>\n",
       "      <td>13</td>\n",
       "      <td>2.139488e+03</td>\n",
       "    </tr>\n",
       "    <tr>\n",
       "      <th>13</th>\n",
       "      <td>14</td>\n",
       "      <td>1.785609e+03</td>\n",
       "    </tr>\n",
       "    <tr>\n",
       "      <th>14</th>\n",
       "      <td>15</td>\n",
       "      <td>1.587107e+03</td>\n",
       "    </tr>\n",
       "    <tr>\n",
       "      <th>15</th>\n",
       "      <td>16</td>\n",
       "      <td>1.423097e+03</td>\n",
       "    </tr>\n",
       "    <tr>\n",
       "      <th>16</th>\n",
       "      <td>17</td>\n",
       "      <td>1.283377e+03</td>\n",
       "    </tr>\n",
       "    <tr>\n",
       "      <th>17</th>\n",
       "      <td>18</td>\n",
       "      <td>1.037248e+03</td>\n",
       "    </tr>\n",
       "    <tr>\n",
       "      <th>18</th>\n",
       "      <td>19</td>\n",
       "      <td>9.714417e+02</td>\n",
       "    </tr>\n",
       "  </tbody>\n",
       "</table>\n",
       "</div>"
      ],
      "text/plain": [
       "    Clusters    Distortion\n",
       "0          1  1.165460e+07\n",
       "1          2  4.240089e+05\n",
       "2          3  1.064680e+05\n",
       "3          4  5.778380e+04\n",
       "4          5  3.375771e+04\n",
       "5          6  2.072248e+04\n",
       "6          7  1.542087e+04\n",
       "7          8  1.265161e+04\n",
       "8          9  9.905379e+03\n",
       "9         10  7.309488e+03\n",
       "10        11  4.981869e+03\n",
       "11        12  2.892411e+03\n",
       "12        13  2.139488e+03\n",
       "13        14  1.785609e+03\n",
       "14        15  1.587107e+03\n",
       "15        16  1.423097e+03\n",
       "16        17  1.283377e+03\n",
       "17        18  1.037248e+03\n",
       "18        19  9.714417e+02"
      ]
     },
     "execution_count": 71,
     "metadata": {},
     "output_type": "execute_result"
    }
   ],
   "source": [
    "centers=pd.DataFrame({'Clusters':K,'Distortion':wss})\n",
    "centers"
   ]
  },
  {
   "cell_type": "code",
   "execution_count": 72,
   "id": "8488df75",
   "metadata": {},
   "outputs": [
    {
     "data": {
      "text/plain": [
       "<AxesSubplot: xlabel='Clusters', ylabel='Distortion'>"
      ]
     },
     "execution_count": 72,
     "metadata": {},
     "output_type": "execute_result"
    },
    {
     "data": {
      "image/png": "[encoded data removed]",
      "text/plain": [
       "<Figure size 800x550 with 1 Axes>"
      ]
     },
     "metadata": {},
     "output_type": "display_data"
    }
   ],
   "source": [
    "sns.lineplot(x='Clusters',y='Distortion',data=centers)"
   ]
  },
  {
   "cell_type": "code",
   "execution_count": 73,
   "id": "839d657b",
   "metadata": {},
   "outputs": [],
   "source": [
    "# Making a weight matrix using euclidean distance\n",
    "def make_mat(df,x):\n",
    "    print(x)\n",
    "    cluster=model.predict(x)\n",
    "    print(cluster[0])\n",
    "    points=get_points(cluster[0])\n",
    "    tk=df['Track'].values\n",
    "    mc=df['Music'].values\n",
    "    tm=df['time'].values\n",
    "    \n",
    "    cp=df.iloc[points]\n",
    "    cp=cp.fillna(df.mean())\n",
    "    song_names=cp['name'].values\n",
    "    p=[]\n",
    "    \n",
    "    k=set(df.iloc[points]['name'])\n",
    "    \n",
    "#     print(k,len(k))\n",
    "    j=[]\n",
    "    for i in k:\n",
    "        j.append(i[:-5]) \n",
    "    j=list(set(j))\n",
    "    \n",
    "    print(j)\n",
    "    \n",
    "    \n",
    "    count=0\n",
    "    for i in cp[cp.drop(columns=['name']).columns].values:\n",
    "        p.append([distance.euclidean(x[0],i),count])\n",
    "        count+=1\n",
    "    p.sort()\n",
    "#     print(p)\n",
    "    for i in range(5):\n",
    "        print(song_names[p[i][1]],tk[p[i][1]],mc[p[i][1]],tm[p[i][1]])\n",
    "    \n",
    "    for i in j:\n",
    "        ll=0\n",
    "        k=0\n",
    "#         print(i,song_names[p[k][1]])\n",
    "#         k+=1\n",
    "        print(i)\n",
    "        while(ll!=5):\n",
    "            if i in song_names[p[k][1]]:\n",
    "                print(song_names[p[k][1]])\n",
    "                ll+=1\n",
    "            k+=1\n",
    "    \n",
    "            "
   ]
  },
  {
   "cell_type": "code",
   "execution_count": 74,
   "id": "47c5fce5",
   "metadata": {},
   "outputs": [],
   "source": [
    "def find_word(word,words):\n",
    "    t=[]\n",
    "    count=0\n",
    "    if word[-1]==' ':\n",
    "        word=word[:-1]\n",
    "    for i in words:\n",
    "        if word.lower() in i.lower():\n",
    "            t.append([len(word)/len(i),count])\n",
    "        else:\n",
    "            t.append([0,count])\n",
    "        count+=1\n",
    "    t.sort(reverse=True)\n",
    "    return words[t[0][1]]"
   ]
  },
  {
   "cell_type": "code",
   "execution_count": 75,
   "id": "2516fffa",
   "metadata": {},
   "outputs": [
    {
     "data": {
      "text/plain": [
       "0          0\n",
       "1          1\n",
       "2          2\n",
       "3          3\n",
       "4          4\n",
       "        ... \n",
       "1142    1142\n",
       "1143    1143\n",
       "1144    1144\n",
       "1145    1145\n",
       "1146    1146\n",
       "Name: data_index, Length: 613, dtype: int64"
      ]
     },
     "execution_count": 75,
     "metadata": {},
     "output_type": "execute_result"
    }
   ],
   "source": [
    "def get_points(p):\n",
    "    k=cluster_map.loc[cluster_map['cluster']==p]\n",
    "    return k['data_index']\n",
    "get_points(2)\n",
    "    "
   ]
  },
  {
   "cell_type": "code",
   "execution_count": 76,
   "id": "ad134397",
   "metadata": {},
   "outputs": [],
   "source": [
    "cluster_map = pd.DataFrame()\n",
    "cluster_map['data_index'] = df.index.values\n",
    "cluster_map['cluster'] = model.labels_"
   ]
  },
  {
   "cell_type": "code",
   "execution_count": 84,
   "id": "9113b522",
   "metadata": {},
   "outputs": [
    {
     "name": "stdout",
     "output_type": "stream",
     "text": [
      "[[2, 3, 2, 170, 3]]\n",
      "0\n",
      "['First Flight', 'Balance', 'Funky Ghosts', 'The Beat Bop', 'The Path Beyond', 'Dude on the Dance Floor']\n",
      "Dude on the Dance Floor #418 7 5 165\n",
      "Dude on the Dance Floor #116 7 5 165\n",
      "Dude on the Dance Floor #399 7 5 165\n",
      "Dude on the Dance Floor #319 7 5 165\n",
      "Dude on the Dance Floor #121 7 5 165\n",
      "First Flight\n",
      "First Flight #253\n",
      "First Flight #153\n",
      "First Flight #118\n",
      "First Flight #252\n",
      "First Flight #239\n",
      "Balance\n",
      "Balance #343\n",
      "Balance #386\n",
      "Balance #252\n",
      "Balance #050\n",
      "Balance #368\n",
      "Funky Ghosts\n",
      "Funky Ghosts #275\n",
      "Funky Ghosts #056\n",
      "Funky Ghosts #254\n",
      "Funky Ghosts #237\n",
      "Funky Ghosts #067\n",
      "The Beat Bop\n",
      "The Beat Bop #159\n",
      "The Beat Bop #073\n",
      "The Beat Bop #341\n",
      "The Beat Bop #304\n",
      "The Beat Bop #311\n",
      "The Path Beyond\n",
      "The Path Beyond #014\n",
      "The Path Beyond #308\n",
      "The Path Beyond #137\n",
      "The Path Beyond #351\n",
      "The Path Beyond #259\n",
      "Dude on the Dance Floor\n",
      "Dude on the Dance Floor #418\n",
      "Dude on the Dance Floor #116\n",
      "Dude on the Dance Floor #399\n",
      "Dude on the Dance Floor #319\n",
      "Dude on the Dance Floor #121\n"
     ]
    },
    {
     "name": "stderr",
     "output_type": "stream",
     "text": [
      "D:\\Strawhats\\Model\\project\\lib\\site-packages\\sklearn\\base.py:450: UserWarning:\n",
      "\n",
      "X does not have valid feature names, but KMeans was fitted with feature names\n",
      "\n",
      "C:\\Users\\yasha\\AppData\\Local\\Temp\\ipykernel_18076\\148888120.py:11: FutureWarning:\n",
      "\n",
      "The default value of numeric_only in DataFrame.mean is deprecated. In a future version, it will default to False. In addition, specifying 'numeric_only=None' is deprecated. Select only valid columns or specify the value of numeric_only to silence this warning.\n",
      "\n"
     ]
    }
   ],
   "source": [
    "make_mat(df,[[2,3,2,170,3]])"
   ]
  },
  {
   "cell_type": "code",
   "execution_count": null,
   "id": "57fe6e86",
   "metadata": {},
   "outputs": [],
   "source": []
  }
 ],
 "metadata": {
  "kernelspec": {
   "display_name": "Python 3 (ipykernel)",
   "language": "python",
   "name": "python3"
  },
  "language_info": {
   "codemirror_mode": {
    "name": "ipython",
    "version": 3
   },
   "file_extension": ".py",
   "mimetype": "text/x-python",
   "name": "python",
   "nbconvert_exporter": "python",
   "pygments_lexer": "ipython3",
   "version": "3.9.12"
  }
 },
 "nbformat": 4,
 "nbformat_minor": 5
}
